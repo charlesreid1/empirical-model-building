{
 "cells": [
  {
   "cell_type": "code",
   "execution_count": 426,
   "metadata": {
    "collapsed": true
   },
   "outputs": [],
   "source": [
    "import pandas as pd"
   ]
  },
  {
   "cell_type": "markdown",
   "metadata": {},
   "source": [
    "Box and Draper begin their discussion of different experimental design methods with the simplest type of factorial design: a full factorial design with two levels. These experimental designs are appropriate for exploratory stages."
   ]
  },
  {
   "cell_type": "markdown",
   "metadata": {},
   "source": [
    "# Two-Level Full Factorial Design"
   ]
  },
  {
   "cell_type": "markdown",
   "metadata": {},
   "source": [
    "The analysis begins with a two-level, three-variable experimental design - also written $2^3$, with $n=2$ levels for each factor, $k=3$ different factors. We start by encoding each fo the three variables to something generic: $(x_1,x_2,x_3)$. A dataframe with input variable values is then populated.\n",
    "\n",
    "In the particular case being analyzed, the "
   ]
  },
  {
   "cell_type": "code",
   "execution_count": 427,
   "metadata": {
    "collapsed": false
   },
   "outputs": [
    {
     "data": {
      "text/html": [
       "<div style=\"max-height:1000px;max-width:1500px;overflow:auto;\">\n",
       "<table border=\"1\" class=\"dataframe\">\n",
       "  <thead>\n",
       "    <tr style=\"text-align: right;\">\n",
       "      <th></th>\n",
       "      <th>low</th>\n",
       "      <th>high</th>\n",
       "      <th>label</th>\n",
       "    </tr>\n",
       "    <tr>\n",
       "      <th>index</th>\n",
       "      <th></th>\n",
       "      <th></th>\n",
       "      <th></th>\n",
       "    </tr>\n",
       "  </thead>\n",
       "  <tbody>\n",
       "    <tr>\n",
       "      <th>x1</th>\n",
       "      <td>250</td>\n",
       "      <td>350</td>\n",
       "      <td>Length of specimen (mm)</td>\n",
       "    </tr>\n",
       "    <tr>\n",
       "      <th>x2</th>\n",
       "      <td>8</td>\n",
       "      <td>10</td>\n",
       "      <td>Amplitude of load cycle (mm)</td>\n",
       "    </tr>\n",
       "    <tr>\n",
       "      <th>x3</th>\n",
       "      <td>40</td>\n",
       "      <td>50</td>\n",
       "      <td>Load (g)</td>\n",
       "    </tr>\n",
       "  </tbody>\n",
       "</table>\n",
       "</div>"
      ],
      "text/plain": [
       "       low  high                         label\n",
       "index                                         \n",
       "x1     250   350       Length of specimen (mm)\n",
       "x2       8    10  Amplitude of load cycle (mm)\n",
       "x3      40    50                      Load (g)"
      ]
     },
     "execution_count": 427,
     "metadata": {},
     "output_type": "execute_result"
    }
   ],
   "source": [
    "inputs_labels = {'x1' : 'Length of specimen (mm)',\n",
    "                 'x2' : 'Amplitude of load cycle (mm)',\n",
    "                 'x3' : 'Load (g)'}\n",
    "\n",
    "dat = [('x1',250,350),\n",
    "       ('x2',8,10),\n",
    "       ('x3',40,50)]\n",
    "\n",
    "inputs_df = pd.DataFrame(dat,columns=['index','low','high'])\n",
    "inputs_df = inputs_df.set_index(['index'])\n",
    "inputs_df['label'] = inputs_df.index.map( lambda z : inputs_labels[z] )\n",
    "\n",
    "inputs_df"
   ]
  },
  {
   "cell_type": "markdown",
   "metadata": {},
   "source": [
    "Next, we encode the variable values. For an arbitrary variable value $\\phi_1$, the value of the variable can be coded to be between -1 and 1 according to the formula:\n",
    "\n",
    "$$\n",
    "x_i = \\dfrac{ \\phi_i - \\mbox{avg }(\\phi) }{ \\mbox{span }(\\phi) }\n",
    "$$\n",
    "\n",
    "where the average and the span of the variable $\\phi_i$ are defined as:\n",
    "\n",
    "$$\n",
    "\\mbox{avg }(\\phi) = \\left( \\dfrac{ \\phi_{\\text{high}} + \\phi_{\\text{low}} }{2} \\right)\n",
    "$$\n",
    "\n",
    "$$\n",
    "\\mbox{span }(\\phi) = \\left( \\dfrac{ \\phi_{\\text{high}} - \\phi_{\\text{low}} }{2} \\right)\n",
    "$$\n"
   ]
  },
  {
   "cell_type": "code",
   "execution_count": 428,
   "metadata": {
    "collapsed": false
   },
   "outputs": [
    {
     "data": {
      "text/html": [
       "<div style=\"max-height:1000px;max-width:1500px;overflow:auto;\">\n",
       "<table border=\"1\" class=\"dataframe\">\n",
       "  <thead>\n",
       "    <tr style=\"text-align: right;\">\n",
       "      <th></th>\n",
       "      <th>low</th>\n",
       "      <th>high</th>\n",
       "      <th>label</th>\n",
       "      <th>encoded_low</th>\n",
       "      <th>encoded_high</th>\n",
       "    </tr>\n",
       "    <tr>\n",
       "      <th>index</th>\n",
       "      <th></th>\n",
       "      <th></th>\n",
       "      <th></th>\n",
       "      <th></th>\n",
       "      <th></th>\n",
       "    </tr>\n",
       "  </thead>\n",
       "  <tbody>\n",
       "    <tr>\n",
       "      <th>x1</th>\n",
       "      <td>250</td>\n",
       "      <td>350</td>\n",
       "      <td>Length of specimen (mm)</td>\n",
       "      <td>-1</td>\n",
       "      <td>1</td>\n",
       "    </tr>\n",
       "    <tr>\n",
       "      <th>x2</th>\n",
       "      <td>8</td>\n",
       "      <td>10</td>\n",
       "      <td>Amplitude of load cycle (mm)</td>\n",
       "      <td>-1</td>\n",
       "      <td>1</td>\n",
       "    </tr>\n",
       "    <tr>\n",
       "      <th>x3</th>\n",
       "      <td>40</td>\n",
       "      <td>50</td>\n",
       "      <td>Load (g)</td>\n",
       "      <td>-1</td>\n",
       "      <td>1</td>\n",
       "    </tr>\n",
       "  </tbody>\n",
       "</table>\n",
       "</div>"
      ],
      "text/plain": [
       "       low  high                         label  encoded_low  encoded_high\n",
       "index                                                                    \n",
       "x1     250   350       Length of specimen (mm)           -1             1\n",
       "x2       8    10  Amplitude of load cycle (mm)           -1             1\n",
       "x3      40    50                      Load (g)           -1             1"
      ]
     },
     "execution_count": 428,
     "metadata": {},
     "output_type": "execute_result"
    }
   ],
   "source": [
    "inputs_df['average']      = inputs_df.apply( lambda z : ( z['high'] + z['low'])/2 , axis=1)\n",
    "inputs_df['span']         = inputs_df.apply( lambda z : ( z['high'] - z['low'])/2 , axis=1)\n",
    "\n",
    "inputs_df['encoded_low']  = inputs_df.apply( lambda z : ( z['low']  - z['average'] )/( z['span'] ), axis=1)\n",
    "inputs_df['encoded_high'] = inputs_df.apply( lambda z : ( z['high'] - z['average'] )/( z['span'] ), axis=1)\n",
    "\n",
    "inputs_df = inputs_df.drop(['average','span'],axis=1)\n",
    "\n",
    "inputs_df"
   ]
  },
  {
   "cell_type": "markdown",
   "metadata": {},
   "source": [
    "# The Heart of the Matter"
   ]
  },
  {
   "cell_type": "markdown",
   "metadata": {},
   "source": [
    "While everything preceding this point is important to state, to make sure we're being consistent and clear about our problem statement and assumptions, nothing preceding this point is particularly important to understanding how experimental design works. This is simply illustrating the process of transforming one's problem from a problem-specific problem space to a more general problem space.\n",
    "\n",
    "Now Box and Draper present the results of the $2^3$ factorial experiment. The observed variable is number of cycles to failure, which is more conveniently cast as a logarithm. \n",
    "\n",
    "Each observation data point consists of three input variable values and an output variable value, $(x_1, x_2, x_3, y)$. The input variable values are the full range of input combinations:"
   ]
  },
  {
   "cell_type": "code",
   "execution_count": 429,
   "metadata": {
    "collapsed": false
   },
   "outputs": [
    {
     "data": {
      "text/plain": [
       "[(-1, -1, -1),\n",
       " (-1, -1, 1),\n",
       " (-1, 1, -1),\n",
       " (-1, 1, 1),\n",
       " (1, -1, -1),\n",
       " (1, -1, 1),\n",
       " (1, 1, -1),\n",
       " (1, 1, 1)]"
      ]
     },
     "execution_count": 429,
     "metadata": {},
     "output_type": "execute_result"
    }
   ],
   "source": [
    "import itertools\n",
    "encoded_inputs = list( itertools.product([-1,1],[-1,1],[-1,1]) )\n",
    "encoded_inputs"
   ]
  },
  {
   "cell_type": "code",
   "execution_count": 430,
   "metadata": {
    "collapsed": false
   },
   "outputs": [
    {
     "data": {
      "text/html": [
       "<div style=\"max-height:1000px;max-width:1500px;overflow:auto;\">\n",
       "<table border=\"1\" class=\"dataframe\">\n",
       "  <thead>\n",
       "    <tr style=\"text-align: right;\">\n",
       "      <th></th>\n",
       "      <th>x1</th>\n",
       "      <th>x2</th>\n",
       "      <th>x3</th>\n",
       "      <th>y</th>\n",
       "      <th>logy</th>\n",
       "    </tr>\n",
       "  </thead>\n",
       "  <tbody>\n",
       "    <tr>\n",
       "      <th>0</th>\n",
       "      <td>-1</td>\n",
       "      <td>-1</td>\n",
       "      <td>-1</td>\n",
       "      <td>674</td>\n",
       "      <td>2.828660</td>\n",
       "    </tr>\n",
       "    <tr>\n",
       "      <th>1</th>\n",
       "      <td>1</td>\n",
       "      <td>-1</td>\n",
       "      <td>-1</td>\n",
       "      <td>3636</td>\n",
       "      <td>3.560624</td>\n",
       "    </tr>\n",
       "    <tr>\n",
       "      <th>2</th>\n",
       "      <td>-1</td>\n",
       "      <td>1</td>\n",
       "      <td>-1</td>\n",
       "      <td>170</td>\n",
       "      <td>2.230449</td>\n",
       "    </tr>\n",
       "    <tr>\n",
       "      <th>3</th>\n",
       "      <td>1</td>\n",
       "      <td>1</td>\n",
       "      <td>-1</td>\n",
       "      <td>1140</td>\n",
       "      <td>3.056905</td>\n",
       "    </tr>\n",
       "    <tr>\n",
       "      <th>4</th>\n",
       "      <td>-1</td>\n",
       "      <td>-1</td>\n",
       "      <td>1</td>\n",
       "      <td>292</td>\n",
       "      <td>2.465383</td>\n",
       "    </tr>\n",
       "    <tr>\n",
       "      <th>5</th>\n",
       "      <td>1</td>\n",
       "      <td>-1</td>\n",
       "      <td>1</td>\n",
       "      <td>2000</td>\n",
       "      <td>3.301030</td>\n",
       "    </tr>\n",
       "    <tr>\n",
       "      <th>6</th>\n",
       "      <td>-1</td>\n",
       "      <td>1</td>\n",
       "      <td>1</td>\n",
       "      <td>90</td>\n",
       "      <td>1.954243</td>\n",
       "    </tr>\n",
       "    <tr>\n",
       "      <th>7</th>\n",
       "      <td>1</td>\n",
       "      <td>1</td>\n",
       "      <td>1</td>\n",
       "      <td>360</td>\n",
       "      <td>2.556303</td>\n",
       "    </tr>\n",
       "  </tbody>\n",
       "</table>\n",
       "</div>"
      ],
      "text/plain": [
       "   x1  x2  x3     y      logy\n",
       "0  -1  -1  -1   674  2.828660\n",
       "1   1  -1  -1  3636  3.560624\n",
       "2  -1   1  -1   170  2.230449\n",
       "3   1   1  -1  1140  3.056905\n",
       "4  -1  -1   1   292  2.465383\n",
       "5   1  -1   1  2000  3.301030\n",
       "6  -1   1   1    90  1.954243\n",
       "7   1   1   1   360  2.556303"
      ]
     },
     "execution_count": 430,
     "metadata": {},
     "output_type": "execute_result"
    }
   ],
   "source": [
    "results = [(-1, -1, -1, 674),\n",
    "           ( 1, -1, -1, 3636),\n",
    "           (-1,  1, -1, 170),\n",
    "           ( 1,  1, -1, 1140),\n",
    "           (-1, -1,  1, 292),\n",
    "           ( 1, -1,  1, 2000),\n",
    "           (-1,  1,  1, 90),\n",
    "           (  1, 1,  1, 360)]\n",
    "\n",
    "results_df = pd.DataFrame(results,columns=['x1','x2','x3','y'])\n",
    "results_df['logy'] = results_df['y'].map( lambda z : log10(z) )\n",
    "results_df"
   ]
  },
  {
   "cell_type": "markdown",
   "metadata": {},
   "source": [
    "-----\n",
    "\n",
    "Now we compute the main effects of each variable using the results of the experimental design. We'll use some shorthand Pandas functions to compute these averages: the groupby function, which groups rows of a dataframe according to some condition (in this case, the value of our variable of interest $x_i$)."
   ]
  },
  {
   "cell_type": "code",
   "execution_count": 431,
   "metadata": {
    "collapsed": false
   },
   "outputs": [
    {
     "data": {
      "text/plain": [
       "{'x1': 0.7490317608790833,\n",
       " 'x2': -0.58944945881907218,\n",
       " 'x3': -0.34991992162024621}"
      ]
     },
     "execution_count": 431,
     "metadata": {},
     "output_type": "execute_result"
    }
   ],
   "source": [
    "# Compute the mean effect of the factor on the response,\n",
    "# conditioned on each variable\n",
    "labels = ['x1','x2','x3']\n",
    "\n",
    "main_effects = {}\n",
    "for key in labels:\n",
    "    \n",
    "    effects = results_df.groupby(key)['logy'].mean()\n",
    "\n",
    "    main_effects[key] = sum( [i*effects[i] for i in [-1,1]] )\n",
    "\n",
    "main_effects"
   ]
  },
  {
   "cell_type": "markdown",
   "metadata": {},
   "source": [
    "Next, we use a similar strategy to compute two-way and three-way interaction effects between variables. We can use the ```itertools``` library to create our variable combinations.\n",
    "\n",
    "We'll use the Pandas groupby function again, grouping by two variables. "
   ]
  },
  {
   "cell_type": "code",
   "execution_count": 2,
   "metadata": {
    "collapsed": false
   },
   "outputs": [
    {
     "ename": "NameError",
     "evalue": "name 'labels' is not defined",
     "output_type": "error",
     "traceback": [
      "\u001b[0;31m---------------------------------------------------------------------------\u001b[0m",
      "\u001b[0;31mNameError\u001b[0m                                 Traceback (most recent call last)",
      "\u001b[0;32m<ipython-input-2-4a92691501bc>\u001b[0m in \u001b[0;36m<module>\u001b[0;34m()\u001b[0m\n\u001b[1;32m      1\u001b[0m \u001b[0;32mimport\u001b[0m \u001b[0mitertools\u001b[0m\u001b[0;34m\u001b[0m\u001b[0m\n\u001b[1;32m      2\u001b[0m \u001b[0;34m\u001b[0m\u001b[0m\n\u001b[0;32m----> 3\u001b[0;31m \u001b[0mtwoway_labels\u001b[0m \u001b[0;34m=\u001b[0m \u001b[0mlist\u001b[0m\u001b[0;34m(\u001b[0m\u001b[0mitertools\u001b[0m\u001b[0;34m.\u001b[0m\u001b[0mcombinations\u001b[0m\u001b[0;34m(\u001b[0m\u001b[0mlabels\u001b[0m\u001b[0;34m,\u001b[0m \u001b[0;36m2\u001b[0m\u001b[0;34m)\u001b[0m\u001b[0;34m)\u001b[0m\u001b[0;34m\u001b[0m\u001b[0m\n\u001b[0m\u001b[1;32m      4\u001b[0m \u001b[0;34m\u001b[0m\u001b[0m\n\u001b[1;32m      5\u001b[0m \u001b[0mtwoway_effects\u001b[0m \u001b[0;34m=\u001b[0m \u001b[0;34m{\u001b[0m\u001b[0;34m}\u001b[0m\u001b[0;34m\u001b[0m\u001b[0m\n",
      "\u001b[0;31mNameError\u001b[0m: name 'labels' is not defined"
     ]
    }
   ],
   "source": [
    "import itertools\n",
    "\n",
    "twoway_labels = list(itertools.combinations(labels, 2))\n",
    "\n",
    "twoway_effects = {}\n",
    "for key in twoway_labels:\n",
    "    \n",
    "    effects = results_df.groupby(key)['logy'].mean()\n",
    "    \n",
    "    twoway_effects[key] = sum([ i*j*effects[i][j]/2 for i in [-1,1] for j in [-1,1] ])\n",
    "\n",
    "    \n",
    "    # This somewhat hairy one-liner takes the mean of a set of sum-differences\n",
    "    #twoway_effects[key] = mean([  sum([ i*effects[i][j] for i in [-1,1] ]) for j in [-1,1]  ])\n",
    "\n",
    "twoway_effects"
   ]
  },
  {
   "cell_type": "markdown",
   "metadata": {},
   "source": [
    "This one-liner is a bit hairy:\n",
    "\n",
    "```\n",
    "twoway_effects[key] = sum([ i*j*effects[i][j]/2 for i in [-1,1] for j in [-1,1] ])\n",
    "```\n",
    "\n",
    "What this does is, computes the two-way variable effect with a multi-step calculation, but does it with a list comprehension. First, let's just look at this part:\n",
    "\n",
    "```\n",
    "i*j*effects[i][j]/2 for i in [-1,1] for j in [-1,1]\n",
    "```\n",
    "\n",
    "This computes the prefix ```i*j```, which determines if the interaction effect ```effects[i][j]``` is positive or negative. We're also looping over one additional dimension; we multiply by 1/2 for each additional dimension we loop over. These are all summed up to yield the final interaction effect for every combination of the input variables."
   ]
  },
  {
   "cell_type": "code",
   "execution_count": 433,
   "metadata": {
    "collapsed": false
   },
   "outputs": [
    {
     "data": {
      "text/plain": [
       "{('x1', 'x2', 'x3'): -0.082019776207797324}"
      ]
     },
     "execution_count": 433,
     "metadata": {},
     "output_type": "execute_result"
    }
   ],
   "source": [
    "import itertools\n",
    "\n",
    "threeway_labels = list(itertools.combinations(labels, 3))\n",
    "\n",
    "threeway_effects = {}\n",
    "for key in threeway_labels:\n",
    "    \n",
    "    effects = results_df.groupby(key)['logy'].mean()\n",
    "    \n",
    "    threeway_effects[key] = sum([ i*j*k*effects[i][j][k]/4 for i in [-1,1] for j in [-1,1] for k in [-1,1] ])\n",
    "\n",
    "threeway_effects"
   ]
  },
  {
   "cell_type": "markdown",
   "metadata": {},
   "source": [
    "# Six-Factor Two-Level Full Factorial Design"
   ]
  },
  {
   "cell_type": "markdown",
   "metadata": {},
   "source": [
    "The authors next move to a six-factor factorial design example. In this case, there is a large table of 64 experiments to be run at each factor level. This is generated with the call to ```itertools.product``` below. This is all put into a DataFrame. The problem specifies three observables, $(y_1, y_2, y_3)$. \n",
    "\n",
    "Here, we generate some random data, by multiplying a vector of random numbers by the vector of input variable values. Nothing too complicated."
   ]
  },
  {
   "cell_type": "code",
   "execution_count": 434,
   "metadata": {
    "collapsed": false
   },
   "outputs": [],
   "source": [
    "import itertools\n",
    "encoded_inputs = list( itertools.product([-1,1],[-1,1],[-1,1],[-1,1],[-1,1],[-1,1]) )\n",
    "doe = pd.DataFrame(encoded_inputs,columns=['x%d'%(i+1) for i in range(6)])\n",
    "\n",
    "doe['y1'] = doe.apply(lambda z : sum([ rand(6,)*[z['x%d'%(i+1)] for i in range(6)]]) + rand(), axis=1)\n",
    "doe['y2'] = doe.apply(lambda z : sum([ 5*rand(6,)*[z['x%d'%(i+1)] for i in range(6)]]) + rand(), axis=1)\n",
    "doe['y3'] = doe.apply(lambda z : sum([ 10*rand(6,)*[z['x%d'%(i+1)] for i in range(6)]]) + rand(), axis=1)"
   ]
  },
  {
   "cell_type": "markdown",
   "metadata": {},
   "source": [
    "Define our variable labels, for input and output variables:"
   ]
  },
  {
   "cell_type": "code",
   "execution_count": 435,
   "metadata": {
    "collapsed": false
   },
   "outputs": [],
   "source": [
    "labels = {}\n",
    "labels[1] = ['x1','x2','x3','x4','x5','x6']\n",
    "for i in [2,3,4,5,6]:\n",
    "    labels[i] = list(itertools.combinations(labels[1], i))\n",
    "\n",
    "obs_list = ['y1','y2','y3']\n"
   ]
  },
  {
   "cell_type": "markdown",
   "metadata": {},
   "source": [
    "And finally, compute the main and interaction effects. Start with the main effects, which computes the average effect of an input variable $x_i$ on each of the three response variables $y_1, y_2, y_3$."
   ]
  },
  {
   "cell_type": "code",
   "execution_count": 436,
   "metadata": {
    "collapsed": false
   },
   "outputs": [
    {
     "data": {
      "text/plain": [
       "{'x1': [0.51731397181270056, 4.3146018397619521, 10.218341314560007],\n",
       " 'x2': [1.0905979980836396, 4.2436703548513766, 13.394182140296234],\n",
       " 'x3': [1.1023914462094853, 5.4287785683093208, 10.506898057471266],\n",
       " 'x4': [0.99901438389069019, 5.2510630019053988, 7.2537279089650974],\n",
       " 'x5': [0.88852223639747896, 5.0649227660185154, 10.267010058716423],\n",
       " 'x6': [1.0671039503429904, 2.9368765296190489, 11.530971264189025]}"
      ]
     },
     "execution_count": 436,
     "metadata": {},
     "output_type": "execute_result"
    }
   ],
   "source": [
    "\n",
    "effects = {}\n",
    "\n",
    "effects[1] = {}\n",
    "for key in labels[1]:\n",
    "    effects_result = []\n",
    "    for obs in obs_list:\n",
    "        effects_df = doe.groupby(key)[obs].mean()\n",
    "        result = sum([ zz*effects_df.ix[zz] for zz in effects_df.index ])\n",
    "        effects_result.append(result)\n",
    "    effects[1][key] = effects_result\n",
    "\n",
    "effects[1]"
   ]
  },
  {
   "cell_type": "markdown",
   "metadata": {},
   "source": [
    "Our next step is to crank through each variable interaction level: two-variable, three-variable, and on up to six-variable interaction effects. We compute interaction effects for each two-variable combination, three-variable combination, etc."
   ]
  },
  {
   "cell_type": "code",
   "execution_count": 437,
   "metadata": {
    "collapsed": false
   },
   "outputs": [],
   "source": [
    "for c in [2,3,4,5,6]:\n",
    "    effects[c] = {}\n",
    "    for key in labels[c]:\n",
    "        effects_result = []\n",
    "        for obs in obs_list:\n",
    "            effects_df = doe.groupby(key)[obs].mean()\n",
    "            result = sum([ prod(zz)*effects_df.ix[zz]/(2**(len(zz)-1)) for zz in effects_df.index ])\n",
    "            effects_result.append(result)\n",
    "        effects[c][key] = effects_result"
   ]
  },
  {
   "cell_type": "code",
   "execution_count": 438,
   "metadata": {
    "collapsed": false
   },
   "outputs": [
    {
     "name": "stdout",
     "output_type": "stream",
     "text": [
      "{('x1', 'x3', 'x4', 'x5', 'x6'): [-0.19780157872159734, 1.0168406766610418, 3.2330772609335647], ('x1', 'x2', 'x3', 'x4', 'x6'): [0.014186277238611711, -0.27908346631343051, -2.9333534986455003], ('x1', 'x2', 'x3', 'x4', 'x5'): [-0.40070573418669553, 0.77537686420304286, -0.11849010216447198], ('x2', 'x3', 'x4', 'x5', 'x6'): [0.063526077833230221, -0.17858412876458818, -0.70705831559844734], ('x1', 'x2', 'x4', 'x5', 'x6'): [0.12157181698156411, -0.48360445884307701, -1.2592440607151369], ('x1', 'x2', 'x3', 'x5', 'x6'): [-0.03510060483015548, -0.53718517443560865, -1.6042177215467248]}\n"
     ]
    }
   ],
   "source": [
    "print effects[5]"
   ]
  },
  {
   "cell_type": "markdown",
   "metadata": {},
   "source": [
    "------\n",
    "\n",
    "We've computed the main and interaction effects for every variable combination (whew!), but now we're at a point where we want to start doing things with these quantities.\n",
    "\n",
    "The first and most obvious question: what variable or combination of variables has the strongest effect on $y_1$? $y_2$? $y_3$?\n",
    "\n",
    "But this raises the specter of data formatting: what if we've chosen the wrong format for our data?!? What if there's no easy way to figure out the answer to our most obvious question!?! WHAT IF WE'VE SCREWED OURSELVES?!??\n",
    "\n",
    "Not to worry. Python makes it easy to slice and dice data. In this case, we've constructed a nested dictionary, with the outer keys mapping to numbers of variables and inner keys mapping to particular combinations of input variables. Its pretty easy to convert this to a flat data structure that we can use to sort by variable effects. We've got six \"levels\" of variable combinations, so we'll flatten ```effects``` by looping through all six dictionaries of variable combinations (from main effects to six-variable interaction effects), and adding each entry to a master dictionary.\n",
    "\n",
    "The master dictionary will be a flat dictionary, and once we've populated it, we can use it to make a DataFrame for easier sorting, printing, manipulating, aggregating, and so on."
   ]
  },
  {
   "cell_type": "code",
   "execution_count": 439,
   "metadata": {
    "collapsed": false
   },
   "outputs": [
    {
     "name": "stdout",
     "output_type": "stream",
     "text": [
      "6\n"
     ]
    }
   ],
   "source": [
    "print len(effects)"
   ]
  },
  {
   "cell_type": "code",
   "execution_count": 443,
   "metadata": {
    "collapsed": false
   },
   "outputs": [
    {
     "name": "stdout",
     "output_type": "stream",
     "text": [
      "Top 10 effects for observable y1:\n",
      "x3                  1.102391\n",
      "x2                  1.090598\n",
      "x6                  1.067104\n",
      "x4                  0.999014\n",
      "x5                  0.888522\n",
      "x1                  0.517314\n",
      "(x2, x3, x4)        0.413397\n",
      "(x3, x4, x5, x6)    0.341293\n",
      "(x1, x3, x6)        0.306256\n",
      "(x3, x6)            0.280367\n",
      "Name: y1, dtype: float64\n"
     ]
    }
   ],
   "source": [
    "master_dict = {}\n",
    "for nvars in effects.keys():\n",
    "\n",
    "    effect = effects[nvars]\n",
    "    for k in effect.keys():\n",
    "        v = effect[k]\n",
    "        master_dict[k] = v\n",
    "\n",
    "master_df = pd.DataFrame(master_dict).T\n",
    "master_df.columns = obs_list\n",
    "\n",
    "y1 = master_df['y1'].copy()\n",
    "y1.sort(ascending=False)\n",
    "\n",
    "print \"Top 10 effects for observable y1:\"\n",
    "print y1[:10]\n",
    "\n",
    "#print \"\"\n",
    "#print \"Bottom 10 effects for observable y1:\"\n",
    "#print y1[-10:][::-1]"
   ]
  },
  {
   "cell_type": "code",
   "execution_count": 444,
   "metadata": {
    "collapsed": false
   },
   "outputs": [
    {
     "name": "stdout",
     "output_type": "stream",
     "text": [
      "Top 10 effects for observable y2:\n",
      "x3              5.428779\n",
      "x4              5.251063\n",
      "x5              5.064923\n",
      "x1              4.314602\n",
      "x2              4.243670\n",
      "(x2, x5)        3.010960\n",
      "x6              2.936877\n",
      "(x1, x2, x6)    1.746618\n",
      "(x1, x5)        1.520499\n",
      "(x1, x4, x5)    1.271480\n",
      "Name: y2, dtype: float64\n"
     ]
    }
   ],
   "source": [
    "y2 = master_df['y2'].copy()\n",
    "y2.sort(ascending=False)\n",
    "\n",
    "print \"Top 10 effects for observable y2:\"\n",
    "print y2[:10]\n",
    "#print \"\"\n",
    "#print \"Bottom 10 effects for observable y2:\"\n",
    "#print y2[-10:][::-1]"
   ]
  },
  {
   "cell_type": "code",
   "execution_count": 453,
   "metadata": {
    "collapsed": false
   },
   "outputs": [
    {
     "name": "stdout",
     "output_type": "stream",
     "text": [
      "Top 10 effects for observable y3:\n",
      "x2                      13.394182\n",
      "x6                      11.530971\n",
      "x3                      10.506898\n",
      "x5                      10.267010\n",
      "x1                      10.218341\n",
      "x4                       7.253728\n",
      "(x1, x2, x6)             4.632287\n",
      "(x3, x4)                 3.371916\n",
      "(x1, x3, x4, x5, x6)     3.233077\n",
      "(x2, x3, x4, x6)         2.674018\n",
      "Name: y3, dtype: float64\n"
     ]
    }
   ],
   "source": [
    "y3 = master_df['y3'].copy()\n",
    "y3.sort(ascending=False)\n",
    "\n",
    "print \"Top 10 effects for observable y3:\"\n",
    "print y3[:10]\n",
    "#print \"\"\n",
    "#print \"Bottom 10 effects for observable y3:\"\n",
    "#print y3[-10:][::-1]"
   ]
  },
  {
   "cell_type": "markdown",
   "metadata": {},
   "source": [
    "The three variables are affected most by:\n",
    "* $x_2$\n",
    "* $x_3$\n",
    "* $x_4$\n",
    "* $x_5$\n",
    "* $x_6$\n",
    "\n",
    "Our very expensive, 64-experiment full factorial design (the data for which maps $(x_1,x_2,\\dots,x_6)$ to $(y_1,y_2,y_3)$) gives us 64 data points, and 64 degrees of freedom. \n",
    "\n",
    "With these 64 pieces of data, we could fit a 64-coefficient response surface, that accounts for each of the variable interactions whose effects we've computed - from main effects on up to six-variable interaction effects. But this wastes many degrees of freedom, to fit coefficients that aren't that important. Most of the variation in the responses can be explained by a few main effects.\n",
    "\n",
    "Hence, to describe a model with the 5 variables listed above and no other variable interaction effects would use only 5 degrees of freedom, leaving 59 degrees of freedom available to quantify error, attribute variance, etc.\n",
    "\n",
    "Our goal is to use least squares to compute model equations for $(y_1,y_2,y_3)$ as functions of $(x_2,x_3,x_4,x_5,x_6)$. "
   ]
  },
  {
   "cell_type": "code",
   "execution_count": 454,
   "metadata": {
    "collapsed": false
   },
   "outputs": [],
   "source": [
    "xlabs = ['x2','x3','x4','x5','x6']\n",
    "ylabs = ['y1','y2','y3']\n",
    "ls_data = doe[xlabs+ylabs]"
   ]
  },
  {
   "cell_type": "code",
   "execution_count": 461,
   "metadata": {
    "collapsed": false
   },
   "outputs": [
    {
     "name": "stdout",
     "output_type": "stream",
     "text": [
      "                            OLS Regression Results                            \n",
      "==============================================================================\n",
      "Dep. Variable:                     y1   R-squared:                       0.685\n",
      "Model:                            OLS   Adj. R-squared:                  0.658\n",
      "Method:                 Least Squares   F-statistic:                     25.25\n",
      "Date:                Mon, 11 May 2015   Prob (F-statistic):           2.01e-13\n",
      "Time:                        00:48:23   Log-Likelihood:                -75.113\n",
      "No. Observations:                  64   AIC:                             162.2\n",
      "Df Residuals:                      58   BIC:                             175.2\n",
      "Df Model:                           5                                         \n",
      "==============================================================================\n",
      "                 coef    std err          t      P>|t|      [95.0% Conf. Int.]\n",
      "------------------------------------------------------------------------------\n",
      "const          0.5504      0.103      5.357      0.000         0.345     0.756\n",
      "x2             0.5453      0.103      5.307      0.000         0.340     0.751\n",
      "x3             0.5512      0.103      5.365      0.000         0.346     0.757\n",
      "x4             0.4995      0.103      4.862      0.000         0.294     0.705\n",
      "x5             0.4443      0.103      4.324      0.000         0.239     0.650\n",
      "x6             0.5336      0.103      5.193      0.000         0.328     0.739\n",
      "==============================================================================\n",
      "Omnibus:                        2.548   Durbin-Watson:                   1.864\n",
      "Prob(Omnibus):                  0.280   Jarque-Bera (JB):                2.027\n",
      "Skew:                           0.289   Prob(JB):                        0.363\n",
      "Kurtosis:                       2.348   Cond. No.                         1.00\n",
      "==============================================================================\n",
      "                            OLS Regression Results                            \n",
      "==============================================================================\n",
      "Dep. Variable:                     y2   R-squared:                       0.641\n",
      "Model:                            OLS   Adj. R-squared:                  0.610\n",
      "Method:                 Least Squares   F-statistic:                     20.73\n",
      "Date:                Mon, 11 May 2015   Prob (F-statistic):           8.15e-12\n",
      "Time:                        00:48:23   Log-Likelihood:                -178.09\n",
      "No. Observations:                  64   AIC:                             368.2\n",
      "Df Residuals:                      58   BIC:                             381.1\n",
      "Df Model:                           5                                         \n",
      "==============================================================================\n",
      "                 coef    std err          t      P>|t|      [95.0% Conf. Int.]\n",
      "------------------------------------------------------------------------------\n",
      "const          0.8501      0.514      1.655      0.103        -0.178     1.878\n",
      "x2             2.1218      0.514      4.132      0.000         1.094     3.150\n",
      "x3             2.7144      0.514      5.286      0.000         1.686     3.742\n",
      "x4             2.6255      0.514      5.113      0.000         1.598     3.653\n",
      "x5             2.5325      0.514      4.931      0.000         1.505     3.560\n",
      "x6             1.4684      0.514      2.859      0.006         0.440     2.496\n",
      "==============================================================================\n",
      "Omnibus:                        0.213   Durbin-Watson:                   1.339\n",
      "Prob(Omnibus):                  0.899   Jarque-Bera (JB):                0.232\n",
      "Skew:                           0.127   Prob(JB):                        0.890\n",
      "Kurtosis:                       2.850   Cond. No.                         1.00\n",
      "==============================================================================\n",
      "                            OLS Regression Results                            \n",
      "==============================================================================\n",
      "Dep. Variable:                     y3   R-squared:                       0.668\n",
      "Model:                            OLS   Adj. R-squared:                  0.640\n",
      "Method:                 Least Squares   F-statistic:                     23.39\n",
      "Date:                Mon, 11 May 2015   Prob (F-statistic):           8.74e-13\n",
      "Time:                        00:48:23   Log-Likelihood:                -227.67\n",
      "No. Observations:                  64   AIC:                             467.3\n",
      "Df Residuals:                      58   BIC:                             480.3\n",
      "Df Model:                           5                                         \n",
      "==============================================================================\n",
      "                 coef    std err          t      P>|t|      [95.0% Conf. Int.]\n",
      "------------------------------------------------------------------------------\n",
      "const          1.0399      1.114      0.933      0.355        -1.191     3.270\n",
      "x2             6.6971      1.114      6.010      0.000         4.467     8.928\n",
      "x3             5.2534      1.114      4.715      0.000         3.023     7.484\n",
      "x4             3.6269      1.114      3.255      0.002         1.396     5.857\n",
      "x5             5.1335      1.114      4.607      0.000         2.903     7.364\n",
      "x6             5.7655      1.114      5.174      0.000         3.535     7.996\n",
      "==============================================================================\n",
      "Omnibus:                        0.050   Durbin-Watson:                   1.664\n",
      "Prob(Omnibus):                  0.976   Jarque-Bera (JB):                0.144\n",
      "Skew:                          -0.062   Prob(JB):                        0.930\n",
      "Kurtosis:                       2.804   Cond. No.                         1.00\n",
      "==============================================================================\n"
     ]
    }
   ],
   "source": [
    "import statsmodels.api as sm\n",
    "import numpy as np\n",
    "\n",
    "x = ls_data[xlabs]\n",
    "x = sm.add_constant(x)\n",
    "\n",
    "y1 = ls_data['y1']\n",
    "est1 = sm.OLS(y1,x).fit()\n",
    "print est1.summary()\n",
    "\n",
    "y2 = ls_data['y2']\n",
    "est2 = sm.OLS(y2,x).fit()\n",
    "print est2.summary()\n",
    "\n",
    "y3 = ls_data['y3']\n",
    "est3 = sm.OLS(y3,x).fit()\n",
    "print est3.summary()"
   ]
  },
  {
   "cell_type": "markdown",
   "metadata": {},
   "source": [
    "Now that we've drastically reduced the cost of our linear model, from 64 degrees of freedom to 5, we can quantify the error introduced by the reduction in the number of degrees of freedom to see if we're missing anything important.\n",
    "\n",
    "To do this, we use a quantile-quantile plot to compare our model predictions to data. For each of our 64 experiments, we compute a model prediction $M$ and compare it with data $d$. This results in a residual $r$. \n",
    "\n",
    "If the model accurately captures the behavior of the underlying data, the error between the model and the data will be purely random, and the residuals will therefore be normally distributed. If there are residuals that are significant outliers, it indicates underlying structure to the residuals and therefore structure that is missed by the model.\n",
    "\n",
    "When the residuals for each experiment are plotted on a quantile-quantile plot, the points will line up on a straight line if they are normally distributed. Significant deviation by outlier points is indicative of a poor model fit."
   ]
  },
  {
   "cell_type": "code",
   "execution_count": 481,
   "metadata": {
    "collapsed": false
   },
   "outputs": [
    {
     "data": {
      "image/png": "[encoded data removed]",
      "text/plain": [
       "<matplotlib.figure.Figure at 0x10a0be090>"
      ]
     },
     "metadata": {},
     "output_type": "display_data"
    }
   ],
   "source": [
    "import seaborn as sns\n",
    "import scipy.stats as stats\n",
    "import pylab\n",
    "\n",
    "# Quantify goodness of fit\n",
    "\n",
    "fig = figure(figsize=(14,4))\n",
    "ax1 = fig.add_subplot(131)\n",
    "ax2 = fig.add_subplot(132)\n",
    "ax3 = fig.add_subplot(133)\n",
    "\n",
    "r1 = y1 - est1.predict(x)\n",
    "r2 = y2 - est2.predict(x)\n",
    "r3 = y3 - est3.predict(x)\n",
    "\n",
    "stats.probplot(r1, dist=\"norm\", plot=ax1)\n",
    "ax1.set_title('Residuals, y1')\n",
    "\n",
    "stats.probplot(r2, dist=\"norm\", plot=ax2)\n",
    "ax2.set_title('Residuals, y2')\n",
    "\n",
    "stats.probplot(r3, dist=\"norm\", plot=ax3)\n",
    "ax3.set_title('Residuals, y3')\n",
    "\n",
    "pylab.show()"
   ]
  },
  {
   "cell_type": "markdown",
   "metadata": {},
   "source": [
    "It's pretty evident that there are no significant trends being missed by the models.\n",
    "\n",
    "Box and Draper next report aggregated experiment results, by computing the mean effect for the regressed variables. This is simple to do with Pandas:"
   ]
  },
  {
   "cell_type": "code",
   "execution_count": 488,
   "metadata": {
    "collapsed": false
   },
   "outputs": [
    {
     "name": "stdout",
     "output_type": "stream",
     "text": [
      "                      y1         y2         y3\n",
      "x2 x3 x4 x5 x6                                \n",
      "-1 -1 -1 -1 -1 -2.040438  -6.484344 -24.776851\n",
      "             1 -1.444935  -2.676178 -16.315256\n",
      "          1 -1 -0.861236  -7.631892 -11.436101\n",
      "             1 -0.286957  -5.728545   0.258340\n",
      "       1 -1 -1 -0.810534  -3.839500 -24.258044\n",
      "             1  0.682962  -0.854525 -14.928913\n",
      "          1 -1  0.195965  -1.255408  -5.637954\n",
      "             1  0.559006  -0.030897   0.902009\n",
      "    1 -1 -1 -1 -0.610353  -6.216778 -19.285916\n",
      "             1  0.497923  -3.833189   2.627668\n",
      "          1 -1  0.346723  -2.210947 -11.345144\n",
      "             1  1.318815   5.418426   4.333223\n",
      "       1 -1 -1 -0.256611   3.306964   5.035628\n",
      "             1  0.731538   2.208062   3.941952\n",
      "          1 -1  0.047211   2.535552   6.257496\n",
      "             1  2.012085   6.945927  14.113257\n",
      " 1 -1 -1 -1 -1 -0.610142  -9.738741 -13.590998\n",
      "             1 -0.557054  -2.669052   1.752700\n",
      "          1 -1  0.453369  -0.235814  -1.469454\n",
      "             1  0.858408   2.836257  16.342208\n",
      "       1 -1 -1 -0.251249  -2.549039  -8.794941\n",
      "             1  1.855237  -2.423443   9.596427\n",
      "          1 -1  0.770727   7.652270   9.952131\n",
      "             1  1.473688   5.800712  14.988367\n",
      "    1 -1 -1 -1 -0.544122  -4.224745   0.333338\n",
      "             1  1.034303   0.850586  10.216833\n",
      "          1 -1  0.994159   5.756984   5.169016\n",
      "             1  2.265371   8.381558  15.795424\n",
      "       1 -1 -1  1.580403   3.413968   3.422084\n",
      "             1  2.440842   8.812663  19.527061\n",
      "          1 -1  1.865244  11.828547  14.816793\n",
      "             1  3.901549  14.058741  25.735323\n"
     ]
    }
   ],
   "source": [
    "# Our original regression variables\n",
    "xlabs = ['x2','x3','x4','x5','x6']\n",
    "print doe.groupby(xlabs)[ylabs].mean()"
   ]
  },
  {
   "cell_type": "code",
   "execution_count": 489,
   "metadata": {
    "collapsed": false
   },
   "outputs": [
    {
     "name": "stdout",
     "output_type": "stream",
     "text": [
      "                   y1         y2         y3\n",
      "x2 x3 x4 x6                                \n",
      "-1 -1 -1 -1 -1.450837  -7.058118 -18.106476\n",
      "          1 -0.865946  -4.202361  -8.028458\n",
      "       1 -1 -0.307285  -2.547454 -14.947999\n",
      "          1  0.620984  -0.442711  -7.013452\n",
      "    1 -1 -1 -0.131815  -4.213863 -15.315530\n",
      "          1  0.908369   0.792618   3.480446\n",
      "       1 -1 -0.104700   2.921258   5.646562\n",
      "          1  1.371811   4.576994   9.027605\n",
      " 1 -1 -1 -1 -0.078387  -4.987277  -7.530226\n",
      "          1  0.150677   0.083603   9.047454\n",
      "       1 -1  0.259739   2.551616   0.578595\n",
      "          1  1.664462   1.688634  12.292397\n",
      "    1 -1 -1  0.225019   0.766119   2.751177\n",
      "          1  1.649837   4.616072  13.006129\n",
      "       1 -1  1.722824   7.621258   9.119438\n",
      "          1  3.171195  11.435702  22.631192\n"
     ]
    }
   ],
   "source": [
    "# If we decided to go for a smaller variable set\n",
    "xlabs = ['x2','x3','x4','x6']\n",
    "print doe.groupby(xlabs)[ylabs].mean()"
   ]
  },
  {
   "cell_type": "code",
   "execution_count": null,
   "metadata": {
    "collapsed": true
   },
   "outputs": [],
   "source": []
  }
 ],
 "metadata": {
  "kernelspec": {
   "display_name": "Python 2",
   "language": "python",
   "name": "python2"
  },
  "language_info": {
   "codemirror_mode": {
    "name": "ipython",
    "version": 2
   },
   "file_extension": ".py",
   "mimetype": "text/x-python",
   "name": "python",
   "nbconvert_exporter": "python",
   "pygments_lexer": "ipython2",
   "version": "2.7.8"
  }
 },
 "nbformat": 4,
 "nbformat_minor": 0
}
