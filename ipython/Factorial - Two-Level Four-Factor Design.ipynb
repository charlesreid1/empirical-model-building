{
 "cells": [
  {
   "cell_type": "markdown",
   "metadata": {},
   "source": [
    "# Two-Level, Four Factor Factorial Design\n",
    "\n",
    "Suppose we're given the results of a $2^4$ factorial design, which yields the following contrasts:\n",
    "\n",
    "$$\n",
    "A \\leftarrow 0.4 \\\\\n",
    "B \\leftarrow -7.6 \\\\\n",
    "C \\leftarrow 14.1 \\\\\n",
    "D \\leftarrow 66.7 \\\\\n",
    "AB \\leftarrow 16.7 \\\\\n",
    "AC \\leftarrow 3.1\\\\\n",
    "AD \\leftarrow 5.2 \\\\\n",
    "BC \\leftarrow 8.3 \\\\\n",
    "BD \\leftarrow -3.6 \\\\\n",
    "CD \\leftarrow 14.3 \\\\\n",
    "ABC \\leftarrow -0.1 \\\\\n",
    "ABD \\leftarrow -4.7 \\\\\n",
    "ACD \\leftarrow 7.7 \\\\\n",
    "BCD \\leftarrow -2.3 \\\\\n",
    "ABCD \\leftarrow 3.9 \\\\\n",
    "$$\n",
    "\n",
    "(This follows question 4.3 in Box and Draper.) \n",
    "\n",
    "We'll use quantile plots to interpret the results - we can't go much deeper than that, since the problem does not give the vaues of input or response variables."
   ]
  },
  {
   "cell_type": "markdown",
   "metadata": {},
   "source": [
    "We'll start by importing some libraries, then populate  a dictionary with the various main and interation effects (the only assumption is that the response has a mean of 0, `x0 = 0.0`).\n"
   ]
  },
  {
   "cell_type": "code",
   "execution_count": 1,
   "metadata": {},
   "outputs": [],
   "source": [
    "%matplotlib inline\n",
    "\n",
    "import pandas as pd\n",
    "import numpy as np\n",
    "from numpy.random import rand, seed\n",
    "import seaborn as sns\n",
    "import scipy.stats as stats\n",
    "from matplotlib.pyplot import *"
   ]
  },
  {
   "cell_type": "code",
   "execution_count": 2,
   "metadata": {},
   "outputs": [],
   "source": [
    "effects = {}\n",
    "effects[0] = {'x0': 0.0}\n",
    "effects[1] = {'x1': 0.4,\n",
    "              'x2': -7.6,\n",
    "              'x3': 14.1,\n",
    "              'x4': 66.7}\n",
    "\n",
    "effects[2] = {'x1-x2': 16.7,\n",
    "              'x1-x3': 3.1,\n",
    "              'x1-x4': 5.2,\n",
    "              'x2-x3': 8.3,\n",
    "              'x3-x4': 14.3}\n",
    "effects[3] = {'x1-x2-x3': -0.1,\n",
    "              'x1-x2-x4': -4.7,\n",
    "              'x1-x3-x4': 7.7,\n",
    "              'x2-x3-x4': -2.3}\n",
    "\n",
    "effects[4] = {'x1-x2-x3-x4': 3.9}\n"
   ]
  },
  {
   "cell_type": "markdown",
   "metadata": {
    "collapsed": true
   },
   "source": [
    "Now we can use that dictionary to create a dataframe (this is a bit more work than it needs to be, but this is showing you how might structure the data for more complicated interactions). The important thing is that we have a labeled list that's a Pandas DataFrame:"
   ]
  },
  {
   "cell_type": "code",
   "execution_count": 3,
   "metadata": {},
   "outputs": [
    {
     "data": {
      "text/html": [
       "<div>\n",
       "<table border=\"1\" class=\"dataframe\">\n",
       "  <thead>\n",
       "    <tr style=\"text-align: right;\">\n",
       "      <th></th>\n",
       "      <th>dy</th>\n",
       "    </tr>\n",
       "  </thead>\n",
       "  <tbody>\n",
       "    <tr>\n",
       "      <th>x0</th>\n",
       "      <td>0.0</td>\n",
       "    </tr>\n",
       "    <tr>\n",
       "      <th>x1</th>\n",
       "      <td>0.4</td>\n",
       "    </tr>\n",
       "    <tr>\n",
       "      <th>x1-x2</th>\n",
       "      <td>16.7</td>\n",
       "    </tr>\n",
       "    <tr>\n",
       "      <th>x1-x2-x3</th>\n",
       "      <td>-0.1</td>\n",
       "    </tr>\n",
       "    <tr>\n",
       "      <th>x1-x2-x3-x4</th>\n",
       "      <td>3.9</td>\n",
       "    </tr>\n",
       "    <tr>\n",
       "      <th>x1-x2-x4</th>\n",
       "      <td>-4.7</td>\n",
       "    </tr>\n",
       "    <tr>\n",
       "      <th>x1-x3</th>\n",
       "      <td>3.1</td>\n",
       "    </tr>\n",
       "    <tr>\n",
       "      <th>x1-x3-x4</th>\n",
       "      <td>7.7</td>\n",
       "    </tr>\n",
       "    <tr>\n",
       "      <th>x1-x4</th>\n",
       "      <td>5.2</td>\n",
       "    </tr>\n",
       "    <tr>\n",
       "      <th>x2</th>\n",
       "      <td>-7.6</td>\n",
       "    </tr>\n",
       "    <tr>\n",
       "      <th>x2-x3</th>\n",
       "      <td>8.3</td>\n",
       "    </tr>\n",
       "    <tr>\n",
       "      <th>x2-x3-x4</th>\n",
       "      <td>-2.3</td>\n",
       "    </tr>\n",
       "    <tr>\n",
       "      <th>x3</th>\n",
       "      <td>14.1</td>\n",
       "    </tr>\n",
       "    <tr>\n",
       "      <th>x3-x4</th>\n",
       "      <td>14.3</td>\n",
       "    </tr>\n",
       "    <tr>\n",
       "      <th>x4</th>\n",
       "      <td>66.7</td>\n",
       "    </tr>\n",
       "  </tbody>\n",
       "</table>\n",
       "</div>"
      ],
      "text/plain": [
       "               dy\n",
       "x0            0.0\n",
       "x1            0.4\n",
       "x1-x2        16.7\n",
       "x1-x2-x3     -0.1\n",
       "x1-x2-x3-x4   3.9\n",
       "x1-x2-x4     -4.7\n",
       "x1-x3         3.1\n",
       "x1-x3-x4      7.7\n",
       "x1-x4         5.2\n",
       "x2           -7.6\n",
       "x2-x3         8.3\n",
       "x2-x3-x4     -2.3\n",
       "x3           14.1\n",
       "x3-x4        14.3\n",
       "x4           66.7"
      ]
     },
     "execution_count": 3,
     "metadata": {},
     "output_type": "execute_result"
    }
   ],
   "source": [
    "master_dict = {}\n",
    "for nvars in effects.keys():\n",
    "\n",
    "    effect = effects[nvars]\n",
    "    for k in effect.keys():\n",
    "        v = effect[k]\n",
    "        master_dict[k] = v\n",
    "\n",
    "master_df = pd.DataFrame(master_dict,index=['dy']).T\n",
    "master_df"
   ]
  },
  {
   "cell_type": "code",
   "execution_count": 4,
   "metadata": {},
   "outputs": [
    {
     "data": {
      "text/html": [
       "<div>\n",
       "<table border=\"1\" class=\"dataframe\">\n",
       "  <thead>\n",
       "    <tr style=\"text-align: right;\">\n",
       "      <th></th>\n",
       "      <th>dy</th>\n",
       "    </tr>\n",
       "  </thead>\n",
       "  <tbody>\n",
       "    <tr>\n",
       "      <th>x4</th>\n",
       "      <td>66.7</td>\n",
       "    </tr>\n",
       "    <tr>\n",
       "      <th>x1-x2</th>\n",
       "      <td>16.7</td>\n",
       "    </tr>\n",
       "    <tr>\n",
       "      <th>x3-x4</th>\n",
       "      <td>14.3</td>\n",
       "    </tr>\n",
       "    <tr>\n",
       "      <th>x3</th>\n",
       "      <td>14.1</td>\n",
       "    </tr>\n",
       "    <tr>\n",
       "      <th>x2-x3</th>\n",
       "      <td>8.3</td>\n",
       "    </tr>\n",
       "    <tr>\n",
       "      <th>x1-x3-x4</th>\n",
       "      <td>7.7</td>\n",
       "    </tr>\n",
       "    <tr>\n",
       "      <th>x1-x4</th>\n",
       "      <td>5.2</td>\n",
       "    </tr>\n",
       "    <tr>\n",
       "      <th>x1-x2-x3-x4</th>\n",
       "      <td>3.9</td>\n",
       "    </tr>\n",
       "    <tr>\n",
       "      <th>x1-x3</th>\n",
       "      <td>3.1</td>\n",
       "    </tr>\n",
       "    <tr>\n",
       "      <th>x1</th>\n",
       "      <td>0.4</td>\n",
       "    </tr>\n",
       "    <tr>\n",
       "      <th>x0</th>\n",
       "      <td>0.0</td>\n",
       "    </tr>\n",
       "    <tr>\n",
       "      <th>x1-x2-x3</th>\n",
       "      <td>-0.1</td>\n",
       "    </tr>\n",
       "    <tr>\n",
       "      <th>x2-x3-x4</th>\n",
       "      <td>-2.3</td>\n",
       "    </tr>\n",
       "    <tr>\n",
       "      <th>x1-x2-x4</th>\n",
       "      <td>-4.7</td>\n",
       "    </tr>\n",
       "    <tr>\n",
       "      <th>x2</th>\n",
       "      <td>-7.6</td>\n",
       "    </tr>\n",
       "  </tbody>\n",
       "</table>\n",
       "</div>"
      ],
      "text/plain": [
       "               dy\n",
       "x4           66.7\n",
       "x1-x2        16.7\n",
       "x3-x4        14.3\n",
       "x3           14.1\n",
       "x2-x3         8.3\n",
       "x1-x3-x4      7.7\n",
       "x1-x4         5.2\n",
       "x1-x2-x3-x4   3.9\n",
       "x1-x3         3.1\n",
       "x1            0.4\n",
       "x0            0.0\n",
       "x1-x2-x3     -0.1\n",
       "x2-x3-x4     -2.3\n",
       "x1-x2-x4     -4.7\n",
       "x2           -7.6"
      ]
     },
     "execution_count": 4,
     "metadata": {},
     "output_type": "execute_result"
    }
   ],
   "source": [
    "#print help(master_df.sort)\n",
    "view = master_df.sort_values(by='dy',ascending=False)\n",
    "view"
   ]
  },
  {
   "cell_type": "markdown",
   "metadata": {},
   "source": [
    "This table shows that one variable, $x_4$, has a huge effect that outshadows all other effects. In case it wasn't obvious already, the quantile-quantile plot makes it crystal clear:"
   ]
  },
  {
   "cell_type": "code",
   "execution_count": 5,
   "metadata": {},
   "outputs": [
    {
     "data": {
      "image/png": "[encoded data removed]",
      "text/plain": [
       "<matplotlib.figure.Figure at 0x1123100f0>"
      ]
     },
     "metadata": {},
     "output_type": "display_data"
    }
   ],
   "source": [
    "# Quantile-quantile plot of effects:\n",
    "\n",
    "fig = figure(figsize=(4,4))\n",
    "ax1 = fig.add_subplot(111)\n",
    "\n",
    "stats.probplot(master_df['dy'], dist=\"norm\", plot=ax1)\n",
    "ax1.set_title('Effect Size: Quantile-Quantile Plot')\n",
    "show()"
   ]
  },
  {
   "cell_type": "markdown",
   "metadata": {
    "collapsed": true
   },
   "source": [
    "The largest ordered value in the effects, which is the effect of $x_4$, is way off by itself. In this region of operational state-space, $x_4$ dominates the system's behavior. "
   ]
  },
  {
   "cell_type": "code",
   "execution_count": null,
   "metadata": {
    "collapsed": true
   },
   "outputs": [],
   "source": []
  }
 ],
 "metadata": {
  "kernelspec": {
   "display_name": "Python 2",
   "language": "python",
   "name": "python2"
  },
  "language_info": {
   "codemirror_mode": {
    "name": "ipython",
    "version": 3
   },
   "file_extension": ".py",
   "mimetype": "text/x-python",
   "name": "python",
   "nbconvert_exporter": "python",
   "pygments_lexer": "ipython3",
   "version": "3.6.1"
  }
 },
 "nbformat": 4,
 "nbformat_minor": 1
}
