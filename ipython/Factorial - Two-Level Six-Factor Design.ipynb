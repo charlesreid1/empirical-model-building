{
 "cells": [
  {
   "cell_type": "code",
   "execution_count": 2,
   "metadata": {
    "collapsed": false
   },
   "outputs": [],
   "source": [
    "import pandas as pd\n",
    "import numpy as np\n",
    "from numpy.random import rand"
   ]
  },
  {
   "cell_type": "markdown",
   "metadata": {},
   "source": [
    "This blog post walks through the concept of two-level factorial designs for experimental design, the same material covered by Chapter 4 of Box and Draper's \"Empirical Model-Building and Response Surfaces.\" "
   ]
  },
  {
   "cell_type": "code",
   "execution_count": 15,
   "metadata": {
    "collapsed": false
   },
   "outputs": [
    {
     "data": {
      "text/html": [
       "<img src=\"https://charlesreid1.com/img/empirical.png\" width=\"300\"/>"
      ],
      "text/plain": [
       "<IPython.core.display.Image object>"
      ]
     },
     "execution_count": 15,
     "metadata": {},
     "output_type": "execute_result"
    }
   ],
   "source": [
    "from IPython.display import Image\n",
    "Image(url='https://charlesreid1.com/img/empirical.png', width=300)"
   ]
  },
  {
   "cell_type": "markdown",
   "metadata": {},
   "source": [
    "Box and Draper begin their discussion of different experimental design methods with the simplest type of factorial design: a full factorial design with two levels. These experimental designs are appropriate for exploratory stages."
   ]
  },
  {
   "cell_type": "markdown",
   "metadata": {},
   "source": [
    "# Two-Level Full Factorial Design"
   ]
  },
  {
   "cell_type": "markdown",
   "metadata": {},
   "source": [
    "The analysis begins with a two-level, three-variable experimental design - also written $2^3$, with $n=2$ levels for each factor, $k=3$ different factors. We start by encoding each fo the three variables to something generic: $(x_1,x_2,x_3)$. A dataframe with input variable values is then populated."
   ]
  },
  {
   "cell_type": "code",
   "execution_count": 4,
   "metadata": {
    "collapsed": false
   },
   "outputs": [
    {
     "data": {
      "text/html": [
       "<div>\n",
       "<table border=\"1\" class=\"dataframe\">\n",
       "  <thead>\n",
       "    <tr style=\"text-align: right;\">\n",
       "      <th></th>\n",
       "      <th>low</th>\n",
       "      <th>high</th>\n",
       "      <th>label</th>\n",
       "    </tr>\n",
       "    <tr>\n",
       "      <th>index</th>\n",
       "      <th></th>\n",
       "      <th></th>\n",
       "      <th></th>\n",
       "    </tr>\n",
       "  </thead>\n",
       "  <tbody>\n",
       "    <tr>\n",
       "      <th>x1</th>\n",
       "      <td>250</td>\n",
       "      <td>350</td>\n",
       "      <td>Length of specimen (mm)</td>\n",
       "    </tr>\n",
       "    <tr>\n",
       "      <th>x2</th>\n",
       "      <td>8</td>\n",
       "      <td>10</td>\n",
       "      <td>Amplitude of load cycle (mm)</td>\n",
       "    </tr>\n",
       "    <tr>\n",
       "      <th>x3</th>\n",
       "      <td>40</td>\n",
       "      <td>50</td>\n",
       "      <td>Load (g)</td>\n",
       "    </tr>\n",
       "  </tbody>\n",
       "</table>\n",
       "</div>"
      ],
      "text/plain": [
       "       low  high                         label\n",
       "index                                         \n",
       "x1     250   350       Length of specimen (mm)\n",
       "x2       8    10  Amplitude of load cycle (mm)\n",
       "x3      40    50                      Load (g)"
      ]
     },
     "execution_count": 4,
     "metadata": {},
     "output_type": "execute_result"
    }
   ],
   "source": [
    "inputs_labels = {'x1' : 'Length of specimen (mm)',\n",
    "                 'x2' : 'Amplitude of load cycle (mm)',\n",
    "                 'x3' : 'Load (g)'}\n",
    "\n",
    "dat = [('x1',250,350),\n",
    "       ('x2',8,10),\n",
    "       ('x3',40,50)]\n",
    "\n",
    "inputs_df = pd.DataFrame(dat,columns=['index','low','high'])\n",
    "inputs_df = inputs_df.set_index(['index'])\n",
    "inputs_df['label'] = inputs_df.index.map( lambda z : inputs_labels[z] )\n",
    "\n",
    "inputs_df"
   ]
  },
  {
   "cell_type": "markdown",
   "metadata": {},
   "source": [
    "Next, we encode the variable values. For an arbitrary variable value $\\phi_1$, the value of the variable can be coded to be between -1 and 1 according to the formula:\n",
    "\n",
    "$$\n",
    "x_i = \\dfrac{ \\phi_i - \\mbox{avg }(\\phi) }{ \\mbox{span }(\\phi) }\n",
    "$$\n",
    "\n",
    "where the average and the span of the variable $\\phi_i$ are defined as:\n",
    "\n",
    "$$\n",
    "\\mbox{avg }(\\phi) = \\left( \\dfrac{ \\phi_{\\text{high}} + \\phi_{\\text{low}} }{2} \\right)\n",
    "$$\n",
    "\n",
    "$$\n",
    "\\mbox{span }(\\phi) = \\left( \\dfrac{ \\phi_{\\text{high}} - \\phi_{\\text{low}} }{2} \\right)\n",
    "$$\n"
   ]
  },
  {
   "cell_type": "code",
   "execution_count": 16,
   "metadata": {
    "collapsed": false
   },
   "outputs": [
    {
     "data": {
      "text/html": [
       "<div>\n",
       "<table border=\"1\" class=\"dataframe\">\n",
       "  <thead>\n",
       "    <tr style=\"text-align: right;\">\n",
       "      <th></th>\n",
       "      <th>low</th>\n",
       "      <th>high</th>\n",
       "      <th>label</th>\n",
       "      <th>encoded_low</th>\n",
       "      <th>encoded_high</th>\n",
       "    </tr>\n",
       "    <tr>\n",
       "      <th>index</th>\n",
       "      <th></th>\n",
       "      <th></th>\n",
       "      <th></th>\n",
       "      <th></th>\n",
       "      <th></th>\n",
       "    </tr>\n",
       "  </thead>\n",
       "  <tbody>\n",
       "    <tr>\n",
       "      <th>x1</th>\n",
       "      <td>250</td>\n",
       "      <td>350</td>\n",
       "      <td>Length of specimen (mm)</td>\n",
       "      <td>-1</td>\n",
       "      <td>1</td>\n",
       "    </tr>\n",
       "    <tr>\n",
       "      <th>x2</th>\n",
       "      <td>8</td>\n",
       "      <td>10</td>\n",
       "      <td>Amplitude of load cycle (mm)</td>\n",
       "      <td>-1</td>\n",
       "      <td>1</td>\n",
       "    </tr>\n",
       "    <tr>\n",
       "      <th>x3</th>\n",
       "      <td>40</td>\n",
       "      <td>50</td>\n",
       "      <td>Load (g)</td>\n",
       "      <td>-1</td>\n",
       "      <td>1</td>\n",
       "    </tr>\n",
       "  </tbody>\n",
       "</table>\n",
       "</div>"
      ],
      "text/plain": [
       "       low  high                         label  encoded_low  encoded_high\n",
       "index                                                                    \n",
       "x1     250   350       Length of specimen (mm)           -1             1\n",
       "x2       8    10  Amplitude of load cycle (mm)           -1             1\n",
       "x3      40    50                      Load (g)           -1             1"
      ]
     },
     "execution_count": 16,
     "metadata": {},
     "output_type": "execute_result"
    }
   ],
   "source": [
    "inputs_df['average']      = inputs_df.apply( lambda z : ( z['high'] + z['low'])/2 , axis=1)\n",
    "inputs_df['span']         = inputs_df.apply( lambda z : ( z['high'] - z['low'])/2 , axis=1)\n",
    "\n",
    "inputs_df['encoded_low']  = inputs_df.apply( lambda z : ( z['low']  - z['average'] )/( z['span'] ), axis=1)\n",
    "inputs_df['encoded_high'] = inputs_df.apply( lambda z : ( z['high'] - z['average'] )/( z['span'] ), axis=1)\n",
    "\n",
    "inputs_df = inputs_df.drop(['average','span'],axis=1)\n",
    "\n",
    "inputs_df"
   ]
  },
  {
   "cell_type": "markdown",
   "metadata": {},
   "source": [
    "# The Heart of the Matter: Designing the Experiment"
   ]
  },
  {
   "cell_type": "markdown",
   "metadata": {},
   "source": [
    "While everything preceding this point is important to state, to make sure we're being consistent and clear about our problem statement and assumptions, nothing preceding this point is particularly important to understanding how experimental design works. This is simply illustrating the process of transforming one's problem from a problem-specific problem space to a more general problem space."
   ]
  },
  {
   "cell_type": "markdown",
   "metadata": {},
   "source": [
    "## Inputs and Responses\n",
    "\n",
    "Box and Draper present the results (observed outcomes) of a $2^3$ factorial experiment. The $2^3$ comes from the fact that there are 2 levels for each variable (-1 and 1) and three variables (x1, x2, and x3). The observed, or output, variable is the number of cycles to failure for a particular piece of machinery; this variable is more conveniently cast as a logarithm, as it can be a very large number.\n",
    "\n",
    "Each observation data point consists of three input variable values and an output variable value, $(x_1, x_2, x_3, y)$, and can be thought of as a point in 3D space $(x_1,x_2,x_3)$ with an associated point value of $y$. Alternatively, this might be thought of as a point in 4D space (the first three dimensions are the location in 3D space where the point will appear, and the $y$ value is when it will actually appear). \n",
    "\n",
    "The input variable values consist of all possible input value combinations, which we can produce using the itertools module:"
   ]
  },
  {
   "cell_type": "code",
   "execution_count": 17,
   "metadata": {
    "collapsed": false
   },
   "outputs": [
    {
     "data": {
      "text/plain": [
       "[(-1, -1, -1),\n",
       " (-1, -1, 1),\n",
       " (-1, 1, -1),\n",
       " (-1, 1, 1),\n",
       " (1, -1, -1),\n",
       " (1, -1, 1),\n",
       " (1, 1, -1),\n",
       " (1, 1, 1)]"
      ]
     },
     "execution_count": 17,
     "metadata": {},
     "output_type": "execute_result"
    }
   ],
   "source": [
    "import itertools\n",
    "encoded_inputs = list( itertools.product([-1,1],[-1,1],[-1,1]) )\n",
    "encoded_inputs"
   ]
  },
  {
   "cell_type": "markdown",
   "metadata": {},
   "source": [
    "Now we implement the observed outcomes; as we mentioned, these numbers are large (hundreds or thousands of cycles), and are more conveniently scaled by taking $\\log_{10}()$ (which will rescale them to be integers between 1 and 4)."
   ]
  },
  {
   "cell_type": "code",
   "execution_count": 7,
   "metadata": {
    "collapsed": false
   },
   "outputs": [
    {
     "data": {
      "text/html": [
       "<div>\n",
       "<table border=\"1\" class=\"dataframe\">\n",
       "  <thead>\n",
       "    <tr style=\"text-align: right;\">\n",
       "      <th></th>\n",
       "      <th>x1</th>\n",
       "      <th>x2</th>\n",
       "      <th>x3</th>\n",
       "      <th>y</th>\n",
       "      <th>logy</th>\n",
       "    </tr>\n",
       "  </thead>\n",
       "  <tbody>\n",
       "    <tr>\n",
       "      <th>0</th>\n",
       "      <td>-1</td>\n",
       "      <td>-1</td>\n",
       "      <td>-1</td>\n",
       "      <td>674</td>\n",
       "      <td>2.828660</td>\n",
       "    </tr>\n",
       "    <tr>\n",
       "      <th>1</th>\n",
       "      <td>1</td>\n",
       "      <td>-1</td>\n",
       "      <td>-1</td>\n",
       "      <td>3636</td>\n",
       "      <td>3.560624</td>\n",
       "    </tr>\n",
       "    <tr>\n",
       "      <th>2</th>\n",
       "      <td>-1</td>\n",
       "      <td>1</td>\n",
       "      <td>-1</td>\n",
       "      <td>170</td>\n",
       "      <td>2.230449</td>\n",
       "    </tr>\n",
       "    <tr>\n",
       "      <th>3</th>\n",
       "      <td>1</td>\n",
       "      <td>1</td>\n",
       "      <td>-1</td>\n",
       "      <td>1140</td>\n",
       "      <td>3.056905</td>\n",
       "    </tr>\n",
       "    <tr>\n",
       "      <th>4</th>\n",
       "      <td>-1</td>\n",
       "      <td>-1</td>\n",
       "      <td>1</td>\n",
       "      <td>292</td>\n",
       "      <td>2.465383</td>\n",
       "    </tr>\n",
       "    <tr>\n",
       "      <th>5</th>\n",
       "      <td>1</td>\n",
       "      <td>-1</td>\n",
       "      <td>1</td>\n",
       "      <td>2000</td>\n",
       "      <td>3.301030</td>\n",
       "    </tr>\n",
       "    <tr>\n",
       "      <th>6</th>\n",
       "      <td>-1</td>\n",
       "      <td>1</td>\n",
       "      <td>1</td>\n",
       "      <td>90</td>\n",
       "      <td>1.954243</td>\n",
       "    </tr>\n",
       "    <tr>\n",
       "      <th>7</th>\n",
       "      <td>1</td>\n",
       "      <td>1</td>\n",
       "      <td>1</td>\n",
       "      <td>360</td>\n",
       "      <td>2.556303</td>\n",
       "    </tr>\n",
       "  </tbody>\n",
       "</table>\n",
       "</div>"
      ],
      "text/plain": [
       "   x1  x2  x3     y      logy\n",
       "0  -1  -1  -1   674  2.828660\n",
       "1   1  -1  -1  3636  3.560624\n",
       "2  -1   1  -1   170  2.230449\n",
       "3   1   1  -1  1140  3.056905\n",
       "4  -1  -1   1   292  2.465383\n",
       "5   1  -1   1  2000  3.301030\n",
       "6  -1   1   1    90  1.954243\n",
       "7   1   1   1   360  2.556303"
      ]
     },
     "execution_count": 7,
     "metadata": {},
     "output_type": "execute_result"
    }
   ],
   "source": [
    "results = [(-1, -1, -1, 674),\n",
    "           ( 1, -1, -1, 3636),\n",
    "           (-1,  1, -1, 170),\n",
    "           ( 1,  1, -1, 1140),\n",
    "           (-1, -1,  1, 292),\n",
    "           ( 1, -1,  1, 2000),\n",
    "           (-1,  1,  1, 90),\n",
    "           (  1, 1,  1, 360)]\n",
    "\n",
    "results_df = pd.DataFrame(results,columns=['x1','x2','x3','y'])\n",
    "results_df['logy'] = results_df['y'].map( lambda z : np.log10(z) )\n",
    "results_df"
   ]
  },
  {
   "cell_type": "markdown",
   "metadata": {},
   "source": [
    "The variable `inputs_df` contains all input variables for the expeirment design, and `results_df` contains the inputs and responses for the experiment design; these variables are the encoded levels. To obtain the original, unscaled values, which allows us to check what experiments must be run, we can always convert the dataframe back to its originals by defining a function to un-apply the scaling equation. This is as simple as finding "
   ]
  },
  {
   "cell_type": "code",
   "execution_count": 8,
   "metadata": {
    "collapsed": false
   },
   "outputs": [
    {
     "name": "stdout",
     "output_type": "stream",
     "text": [
      "The values of each real variable in the experiment:\n"
     ]
    },
    {
     "data": {
      "text/html": [
       "<div>\n",
       "<table border=\"1\" class=\"dataframe\">\n",
       "  <thead>\n",
       "    <tr style=\"text-align: right;\">\n",
       "      <th></th>\n",
       "      <th>Length of specimen (mm)</th>\n",
       "      <th>Amplitude of load cycle (mm)</th>\n",
       "      <th>Load (g)</th>\n",
       "    </tr>\n",
       "  </thead>\n",
       "  <tbody>\n",
       "    <tr>\n",
       "      <th>0</th>\n",
       "      <td>250</td>\n",
       "      <td>8</td>\n",
       "      <td>40</td>\n",
       "    </tr>\n",
       "    <tr>\n",
       "      <th>1</th>\n",
       "      <td>350</td>\n",
       "      <td>8</td>\n",
       "      <td>40</td>\n",
       "    </tr>\n",
       "    <tr>\n",
       "      <th>2</th>\n",
       "      <td>250</td>\n",
       "      <td>10</td>\n",
       "      <td>40</td>\n",
       "    </tr>\n",
       "    <tr>\n",
       "      <th>3</th>\n",
       "      <td>350</td>\n",
       "      <td>10</td>\n",
       "      <td>40</td>\n",
       "    </tr>\n",
       "    <tr>\n",
       "      <th>4</th>\n",
       "      <td>250</td>\n",
       "      <td>8</td>\n",
       "      <td>50</td>\n",
       "    </tr>\n",
       "    <tr>\n",
       "      <th>5</th>\n",
       "      <td>350</td>\n",
       "      <td>8</td>\n",
       "      <td>50</td>\n",
       "    </tr>\n",
       "    <tr>\n",
       "      <th>6</th>\n",
       "      <td>250</td>\n",
       "      <td>10</td>\n",
       "      <td>50</td>\n",
       "    </tr>\n",
       "    <tr>\n",
       "      <th>7</th>\n",
       "      <td>350</td>\n",
       "      <td>10</td>\n",
       "      <td>50</td>\n",
       "    </tr>\n",
       "  </tbody>\n",
       "</table>\n",
       "</div>"
      ],
      "text/plain": [
       "   Length of specimen (mm)  Amplitude of load cycle (mm)  Load (g)\n",
       "0                      250                             8        40\n",
       "1                      350                             8        40\n",
       "2                      250                            10        40\n",
       "3                      350                            10        40\n",
       "4                      250                             8        50\n",
       "5                      350                             8        50\n",
       "6                      250                            10        50\n",
       "7                      350                            10        50"
      ]
     },
     "execution_count": 8,
     "metadata": {},
     "output_type": "execute_result"
    }
   ],
   "source": [
    "real_experiment = results_df\n",
    "\n",
    "var_labels = []\n",
    "for var in ['x1','x2','x3']:\n",
    "    var_label = inputs_df.ix[var]['label']\n",
    "    var_labels.append(var_label)\n",
    "    real_experiment[var_label] = results_df.apply(\n",
    "        lambda z : inputs_df.ix[var]['low'] if z[var]<0 else inputs_df.ix[var]['high'] , \n",
    "        axis=1)\n",
    "\n",
    "print \"The values of each real variable in the experiment:\"\n",
    "real_experiment[var_labels]\n"
   ]
  },
  {
   "cell_type": "markdown",
   "metadata": {},
   "source": [
    "## Computing Main Effects\n",
    "\n",
    "Now we compute the main effects of each variable using the results of the experimental design. We'll use some shorthand Pandas functions to compute these averages: the groupby function, which groups rows of a dataframe according to some condition (in this case, the value of our variable of interest $x_i$)."
   ]
  },
  {
   "cell_type": "code",
   "execution_count": 9,
   "metadata": {
    "collapsed": false
   },
   "outputs": [
    {
     "data": {
      "text/plain": [
       "{'x1': 0.7490317608790833,\n",
       " 'x2': -0.58944945881907218,\n",
       " 'x3': -0.34991992162024621}"
      ]
     },
     "execution_count": 9,
     "metadata": {},
     "output_type": "execute_result"
    }
   ],
   "source": [
    "# Compute the mean effect of the factor on the response,\n",
    "# conditioned on each variable\n",
    "labels = ['x1','x2','x3']\n",
    "\n",
    "main_effects = {}\n",
    "for key in labels:\n",
    "    \n",
    "    effects = results_df.groupby(key)['logy'].mean()\n",
    "\n",
    "    main_effects[key] = sum( [i*effects[i] for i in [-1,1]] )\n",
    "\n",
    "main_effects"
   ]
  },
  {
   "cell_type": "markdown",
   "metadata": {},
   "source": [
    "## Analyzing Main Effects\n",
    "\n",
    "The main effect of a given variable (as defined by Yates 1937) is the average difference in the level of response as the input variable moves from the low to the high level. If there are other variables, the change in the level of response is averaged over all combinations of the other variables.\n",
    "\n",
    "Now that we've computed the main effects, we can analyze the results to glean some meaningful information about our system. The first variable `x1` has a positive effect of 0.74 - this indicates that when `x1` goes from its low level to its high level, it increases the value of the response (the lieftime of the equipment). This means `x1` should be increased, if we want to make our equipment last longer. Furthermore, this effect was the largest, meaning it's the variable we should consider changing first. \n",
    "\n",
    "This might be the case if, for example, changing the value of the input variables were capital-intensive. A company might decide that they can only afford to change one variable, `x1`, `x2`, or `x3`. If this were the case, increasing `x1` would be the way to go.\n",
    "\n",
    "In contrast, increasing the variables `x2` and `x3` will result in a decrease in the lifespan of our equipment (makes the response smaller), since these have a negative main effect. These variables should be kept at their lower levels, or decreased, to increase the lifespan of the equipment."
   ]
  },
  {
   "cell_type": "markdown",
   "metadata": {},
   "source": [
    "## Two-Way Interactions\n",
    "\n",
    "In addition to main effects, a factorial design will also reveal interaction effects between variables - both two-way interactions and three-way interactions. We can use the ```itertools``` library to compute the interaction effects using the results from the factorial design.\n",
    "\n",
    "We'll use the Pandas groupby function again, grouping by two variables this time."
   ]
  },
  {
   "cell_type": "code",
   "execution_count": 10,
   "metadata": {
    "collapsed": false
   },
   "outputs": [
    {
     "data": {
      "text/plain": [
       "{('x1', 'x2'): -0.034773800236002961,\n",
       " ('x1', 'x3'): -0.030178193107320839,\n",
       " ('x2', 'x3'): -0.038484459633821189}"
      ]
     },
     "execution_count": 10,
     "metadata": {},
     "output_type": "execute_result"
    }
   ],
   "source": [
    "import itertools\n",
    "\n",
    "twoway_labels = list(itertools.combinations(labels, 2))\n",
    "\n",
    "twoway_effects = {}\n",
    "for key in twoway_labels:\n",
    "    \n",
    "    effects = results_df.groupby(key)['logy'].mean()\n",
    "    \n",
    "    twoway_effects[key] = sum([ i*j*effects[i][j]/2 for i in [-1,1] for j in [-1,1] ])\n",
    "\n",
    "    # This somewhat hairy one-liner takes the mean of a set of sum-differences\n",
    "    #twoway_effects[key] = mean([  sum([ i*effects[i][j] for i in [-1,1] ]) for j in [-1,1]  ])\n",
    "\n",
    "twoway_effects"
   ]
  },
  {
   "cell_type": "markdown",
   "metadata": {},
   "source": [
    "This one-liner is a bit hairy:\n",
    "\n",
    "```\n",
    "twoway_effects[key] = sum([ i*j*effects[i][j]/2 for i in [-1,1] for j in [-1,1] ])\n",
    "```\n",
    "\n",
    "What this does is, computes the two-way variable effect with a multi-step calculation, but does it with a list comprehension. First, let's just look at this part:\n",
    "\n",
    "```\n",
    "i*j*effects[i][j]/2 for i in [-1,1] for j in [-1,1]\n",
    "```\n",
    "\n",
    "This computes the prefix ```i*j```, which determines if the interaction effect ```effects[i][j]``` is positive or negative. We're also looping over one additional dimension; we multiply by 1/2 for each additional dimension we loop over. These are all summed up to yield the final interaction effect for every combination of the input variables.\n",
    "\n",
    "If we were computing three-way interaction effects, we would have a similar-looking one-liner, but with `i`, `j`, and `k`:\n",
    "\n",
    "```\n",
    "i*j*k*effects[i][j][k]/4 for i in [-1,1] for j in [-1,1] for k in [-1,1]\n",
    "```"
   ]
  },
  {
   "cell_type": "markdown",
   "metadata": {},
   "source": [
    "## Analyzing Two-Way Interactions\n",
    "\n",
    "As with main effects, we can analyze the results of the interaction effects analysis to come to some useful conclusions about our physical system. A two-way interaction is a measure of how the main effect of one variable changes as the level of another variable changes. A negative two-way interaction between `x2` and `x3` means that if we increase `x3`, the main effect of `x2` will be to decrase the response; or, alternatively, if we increase `x2`, the main effect of `x3` will be to decrease the response.\n",
    "\n",
    "In this case, we see that the `x2-x3` interaction effect is the largest, and it is negative. This means that if we decrease both `x2` and `x3`, it will increase our response - make the equipment last longer. In fact, all of the variable interactions have the same result - increasing both variables will decrease the lifetime of the equipment - which indicates that any gains in equipment lifetime accomplished by increasing `x1` will be nullified by increases to `x2` or `x3`, since these variables will interact.\n",
    "\n",
    "Once again, if we are limited in the changes that we can actually make to the equipment and input levels, we would want to keep `x2` and `x3` both at their low levels to keep the response variable value as high as possible."
   ]
  },
  {
   "cell_type": "markdown",
   "metadata": {},
   "source": [
    "## Three-Way Interactions\n",
    "\n",
    "Now let's comptue the three-way effects (in this case, we can only have one three-way effect, since we only have three variables). We'll start by using the `itertools` library again, to create a tuple listing the three variables whose interactions we're computing. Then we'll use the Pandas `groupby()` feature to partition each output according to its inputs, and use it to compute the three-way effects."
   ]
  },
  {
   "cell_type": "code",
   "execution_count": 11,
   "metadata": {
    "collapsed": false
   },
   "outputs": [
    {
     "data": {
      "text/plain": [
       "{('x1', 'x2', 'x3'): -0.082019776207797324}"
      ]
     },
     "execution_count": 11,
     "metadata": {},
     "output_type": "execute_result"
    }
   ],
   "source": [
    "import itertools\n",
    "\n",
    "threeway_labels = list(itertools.combinations(labels, 3))\n",
    "\n",
    "threeway_effects = {}\n",
    "for key in threeway_labels:\n",
    "    \n",
    "    effects = results_df.groupby(key)['logy'].mean()\n",
    "    \n",
    "    threeway_effects[key] = sum([ i*j*k*effects[i][j][k]/4 for i in [-1,1] for j in [-1,1] for k in [-1,1] ])\n",
    "\n",
    "threeway_effects"
   ]
  },
  {
   "cell_type": "markdown",
   "metadata": {},
   "source": [
    "While three-way interactions are relatively rare, typically smaller, and harder to interpret, a negative three-way interaction esssentially means that _increasing_ these variables, all together, will lead to interactions which lower the response (the lifespan of the equipment) by -0.082, which is equivalent to decreasing the lifespan of the equipment by one cycle. However, this effect is very weak comapred to main and interaction effects."
   ]
  },
  {
   "cell_type": "markdown",
   "metadata": {},
   "source": [
    "# Six-Factor Two-Level Full Factorial Design"
   ]
  },
  {
   "cell_type": "markdown",
   "metadata": {},
   "source": [
    "The authors next move to a six-factor factorial design example. Six factors means there are six input variables; this is still a two-level experiment, so this is now a $2^6$-factorial experiment.\n",
    "\n",
    "Additionally, there are now three response variables, $(y_1, y_2, y_3)$. \n",
    "\n",
    "To generate a table of the 64 experiments to be run at each factor level, we will use the ```itertools.product``` function below. This is all put into a DataFrame.\n",
    "\n",
    "This example generates some random response data, by multiplying a vector of random numbers by the vector of input variable values. (Nothing too complicated.)"
   ]
  },
  {
   "cell_type": "code",
   "execution_count": 18,
   "metadata": {
    "collapsed": true
   },
   "outputs": [],
   "source": [
    "import itertools\n",
    "\n",
    "# Create the inputs:\n",
    "encoded_inputs = list( itertools.product([-1,1],[-1,1],[-1,1],[-1,1],[-1,1],[-1,1]) )\n",
    "\n",
    "# Create the experiment design table:\n",
    "doe = pd.DataFrame(encoded_inputs,columns=['x%d'%(i+1) for i in range(6)])"
   ]
  },
  {
   "cell_type": "code",
   "execution_count": null,
   "metadata": {
    "collapsed": true
   },
   "outputs": [],
   "source": [
    "#doe['y1'] = doe.apply(lambda z : sum([ rand(6,)*[z['x%d'%(i+1)] for i in range(6)]]) + rand(), axis=1)\n",
    "#doe['y2'] = doe.apply(lambda z : sum([ 5*rand(6,)*[z['x%d'%(i+1)] for i in range(6)]]) + rand(), axis=1)\n",
    "#doe['y3'] = doe.apply(lambda z : sum([ 10*rand(6,)*[z['x%d'%(i+1)] for i in range(6)]]) + rand(), axis=1)\n",
    "\n",
    "\n",
    "\n",
    "#doe.apply(lambda z : sum([rand(6,)*[z[u'x1']]]) )\n",
    "#doe.apply(lambda z : sum([ rand(6,)*[doe['x%d'%(i+1)].T for i in range(6)]])+rand() , axis = 1)\n",
    "#print doe['x1']\n",
    "#doe['y1'] = doe.apply(lambda z : sum([rand(6,)*[z['x%d'%(i+1)] for i in range(6)]]), axis=1)\n",
    "#sum([ rand()*doe['x1'], rand()*doe['x2'], rand()*doe['x3'] ])\n",
    "\n",
    "#doe.apply(lambda z : 200*doe['x1'] - 800*doe['x2'] )\n",
    "#doe.apply(lambda z : sum([ rand()*doe['x1']+rand()*doe['x2']+rand()*doe['x3'] ]))\n",
    "#print doe['x1']\n",
    "#rand(6,)\n",
    "#pd.DataFrame(rand(5,2)).apply(lambda z : 200*z[0]-800*z[1] )\n",
    "#dir([ doe['x%d'%(i+1)] for i in range(6) ][0])\n",
    "#[ doe['x%d'%(i+1)] for i in range(6) ][0].apply(lambda x : x)\n",
    "#sum([ rand(6,)*[ doe['x%d'%(i+1)] for i in range(6) ] ])"
   ]
  },
  {
   "cell_type": "code",
   "execution_count": 39,
   "metadata": {
    "collapsed": false
   },
   "outputs": [
    {
     "name": "stdout",
     "output_type": "stream",
     "text": [
      "          y1         y2         y3\n",
      "0  -4.444975 -17.295807 -38.624670\n",
      "1  -2.677386 -18.377701 -11.401719\n",
      "2  -3.305973  -5.121186 -49.606945\n",
      "3  -1.079337  -7.943448  -3.468295\n",
      "4  -1.597545  -8.057073 -13.395975\n",
      "5  -0.495436  -7.233387  -9.061243\n",
      "6  -2.473539 -15.195311 -19.354464\n",
      "7   0.663021  -0.315750   8.361726\n",
      "8  -4.514460 -12.949370 -29.244458\n",
      "9  -2.728114 -16.108880  -1.486385\n",
      "10 -1.610664 -13.495379 -18.683938\n",
      "11  2.912152   5.317238  32.412713\n",
      "12 -2.106608 -16.156514 -15.732001\n",
      "13 -0.072077   8.869240   8.179098\n",
      "14  0.961090  10.296041  13.930486\n",
      "15  1.518676  13.571897  26.783333\n"
     ]
    }
   ],
   "source": [
    "doe['y1'] = doe.apply( lambda z : sum([ rand()*z[i]+0.10*(0.5-rand()) for i in range(1,7) ]), axis=1)\n",
    "doe['y2'] = doe.apply( lambda z : sum([ 5*rand()*z[i]+0.10*(0.5-rand()) for i in range(1,7) ]), axis=1)\n",
    "doe['y3'] = doe.apply( lambda z : sum([ 10*rand()*z[i]+0.10*(0.5-rand()) for i in range(1,7) ]), axis=1)\n",
    "\n",
    "\n",
    "print doe[['y1','y2','y3']][:16]"
   ]
  },
  {
   "cell_type": "markdown",
   "metadata": {},
   "source": [
    "Next we'll define some containers for input variable labels, output variable labels, and all of the interaction terms we'll be computing:"
   ]
  },
  {
   "cell_type": "code",
   "execution_count": 41,
   "metadata": {
    "collapsed": false
   },
   "outputs": [
    {
     "name": "stdout",
     "output_type": "stream",
     "text": [
      "1 : ['x1', 'x2', 'x3', 'x4', 'x5', 'x6']\n",
      "2 : [('x1', 'x2'), ('x1', 'x3'), ('x1', 'x4'), ('x1', 'x5'), ('x1', 'x6'), ('x2', 'x3'), ('x2', 'x4'), ('x2', 'x5'), ('x2', 'x6'), ('x3', 'x4'), ('x3', 'x5'), ('x3', 'x6'), ('x4', 'x5'), ('x4', 'x6'), ('x5', 'x6')]\n",
      "3 : [('x1', 'x2', 'x3'), ('x1', 'x2', 'x4'), ('x1', 'x2', 'x5'), ('x1', 'x2', 'x6'), ('x1', 'x3', 'x4'), ('x1', 'x3', 'x5'), ('x1', 'x3', 'x6'), ('x1', 'x4', 'x5'), ('x1', 'x4', 'x6'), ('x1', 'x5', 'x6'), ('x2', 'x3', 'x4'), ('x2', 'x3', 'x5'), ('x2', 'x3', 'x6'), ('x2', 'x4', 'x5'), ('x2', 'x4', 'x6'), ('x2', 'x5', 'x6'), ('x3', 'x4', 'x5'), ('x3', 'x4', 'x6'), ('x3', 'x5', 'x6'), ('x4', 'x5', 'x6')]\n",
      "4 : [('x1', 'x2', 'x3', 'x4'), ('x1', 'x2', 'x3', 'x5'), ('x1', 'x2', 'x3', 'x6'), ('x1', 'x2', 'x4', 'x5'), ('x1', 'x2', 'x4', 'x6'), ('x1', 'x2', 'x5', 'x6'), ('x1', 'x3', 'x4', 'x5'), ('x1', 'x3', 'x4', 'x6'), ('x1', 'x3', 'x5', 'x6'), ('x1', 'x4', 'x5', 'x6'), ('x2', 'x3', 'x4', 'x5'), ('x2', 'x3', 'x4', 'x6'), ('x2', 'x3', 'x5', 'x6'), ('x2', 'x4', 'x5', 'x6'), ('x3', 'x4', 'x5', 'x6')]\n",
      "5 : [('x1', 'x2', 'x3', 'x4', 'x5'), ('x1', 'x2', 'x3', 'x4', 'x6'), ('x1', 'x2', 'x3', 'x5', 'x6'), ('x1', 'x2', 'x4', 'x5', 'x6'), ('x1', 'x3', 'x4', 'x5', 'x6'), ('x2', 'x3', 'x4', 'x5', 'x6')]\n",
      "6 : [('x1', 'x2', 'x3', 'x4', 'x5', 'x6')]\n"
     ]
    }
   ],
   "source": [
    "labels = {}\n",
    "labels[1] = ['x1','x2','x3','x4','x5','x6']\n",
    "for i in [2,3,4,5,6]:\n",
    "    labels[i] = list(itertools.combinations(labels[1], i))\n",
    "\n",
    "obs_list = ['y1','y2','y3']\n",
    "\n",
    "for k in labels.keys():\n",
    "    print str(k) + \" : \" + str(labels[k])"
   ]
  },
  {
   "cell_type": "markdown",
   "metadata": {},
   "source": [
    "Now compute the main and interaction effects. Start with the main effect of each variable, which quantifies the amount the response changes by when the input variable is changed from the -1 to +1 level. That is, it computes the average effect of an input variable $x_i$ on each of the three response variables $y_1, y_2, y_3$."
   ]
  },
  {
   "cell_type": "code",
   "execution_count": 42,
   "metadata": {
    "collapsed": false
   },
   "outputs": [
    {
     "name": "stdout",
     "output_type": "stream",
     "text": [
      "{'x0': [-0.24600163213714032, 0.35150275786671248, -1.4659009447161715]}\n"
     ]
    }
   ],
   "source": [
    "effects = {}\n",
    "\n",
    "# Start with the constant effect: this is $\\overline{y}$\n",
    "effects[0] = {'x0' : [doe['y1'].mean(),doe['y2'].mean(),doe['y3'].mean()]}\n",
    "print effects[0]"
   ]
  },
  {
   "cell_type": "code",
   "execution_count": 56,
   "metadata": {
    "collapsed": false
   },
   "outputs": [
    {
     "data": {
      "text/plain": [
       "{'x1': [0.3391541448637358, 0.19715634725071796, -2.924254662998047],\n",
       " 'x2': [1.6949011961151876, 11.148689998868239, 17.098828357202951],\n",
       " 'x3': [1.6530571967427652, 6.961526408713298, 19.66061047027975],\n",
       " 'x4': [2.0112797449074553, 8.8132740936024625, 19.005721341307673],\n",
       " 'x5': [1.7439529709489507, 10.036007832283609, 16.252427867150796],\n",
       " 'x6': [1.9001934472085877, 9.4795462300878022, 21.666366211036596]}"
      ]
     },
     "execution_count": 56,
     "metadata": {},
     "output_type": "execute_result"
    }
   ],
   "source": [
    "effects[1] = {}\n",
    "for key in labels[1]:\n",
    "    effects_result = []\n",
    "    for obs in obs_list:\n",
    "        effects_df = doe.groupby(key)[obs].mean()\n",
    "        result = sum([ zz*effects_df.ix[zz] for zz in effects_df.index ])\n",
    "        effects_result.append(result)\n",
    "    effects[1][key] = effects_result\n",
    "\n",
    "effects[1]"
   ]
  },
  {
   "cell_type": "markdown",
   "metadata": {},
   "source": [
    "Our next step is to crank through each variable interaction level: two-variable, three-variable, and on up to six-variable interaction effects. We compute interaction effects for each two-variable combination, three-variable combination, etc."
   ]
  },
  {
   "cell_type": "code",
   "execution_count": 57,
   "metadata": {
    "collapsed": false
   },
   "outputs": [],
   "source": [
    "for c in [2,3,4,5,6]:\n",
    "    effects[c] = {}\n",
    "    for key in labels[c]:\n",
    "        effects_result = []\n",
    "        for obs in obs_list:\n",
    "            effects_df = doe.groupby(key)[obs].mean()\n",
    "            result = sum([ np.prod(zz)*effects_df.ix[zz]/(2**(len(zz)-1)) for zz in effects_df.index ])\n",
    "            effects_result.append(result)\n",
    "        effects[c][key] = effects_result"
   ]
  },
  {
   "cell_type": "code",
   "execution_count": 58,
   "metadata": {
    "collapsed": false
   },
   "outputs": [
    {
     "name": "stdout",
     "output_type": "stream",
     "text": [
      "{('x1', 'x3', 'x4', 'x5', 'x6'): [-0.040939929800222735, -0.21195319991191042, 1.3145549881763197], ('x1', 'x2', 'x3', 'x4', 'x6'): [-0.11080223241006792, -0.60361749550208332, 2.9428252179501824], ('x1', 'x2', 'x3', 'x4', 'x5'): [-0.29417610701048413, 0.54108266757023371, 0.62183600825597263], ('x2', 'x3', 'x4', 'x5', 'x6'): [0.35220970858332551, 4.4938646501837987, -1.1249163567594191], ('x1', 'x2', 'x4', 'x5', 'x6'): [-0.24306232643111464, -1.2908414907484507, 1.6267228024148412], ('x1', 'x2', 'x3', 'x5', 'x6'): [0.060389153297088966, 0.36558507442939603, 1.3208603339289702]}\n"
     ]
    }
   ],
   "source": [
    "print effects[5]"
   ]
  },
  {
   "cell_type": "markdown",
   "metadata": {},
   "source": [
    "We've computed the main and interaction effects for every variable combination (whew!), but now we're at a point where we want to start doing things with these quantities.\n",
    "\n",
    "The first and most obvious question: what variable or combination of variables has the strongest effect on $y_1$? $y_2$? $y_3$?\n",
    "\n",
    "This also raises the specter of incorrect data formatting - what if we chose the wrong format to put our data in? \n",
    "\n",
    "Python makes it easy to slice and dice data. In this case, we've constructed a nested dictionary, with the outer keys mapping to numbers of variables and inner keys mapping to particular combinations of input variables. Its pretty easy to convert this to a flat data structure that we can use to sort by variable effects. We've got six \"levels\" of variable combinations, so we'll flatten ```effects``` by looping through all six dictionaries of variable combinations (from main effects to six-variable interaction effects), and adding each entry to a master dictionary.\n",
    "\n",
    "The master dictionary will be a flat dictionary, and once we've populated it, we can use it to make a DataFrame for easier sorting, printing, manipulating, aggregating, and so on."
   ]
  },
  {
   "cell_type": "code",
   "execution_count": 59,
   "metadata": {
    "collapsed": false
   },
   "outputs": [
    {
     "name": "stdout",
     "output_type": "stream",
     "text": [
      "7\n"
     ]
    }
   ],
   "source": [
    "print len(effects)"
   ]
  },
  {
   "cell_type": "code",
   "execution_count": 60,
   "metadata": {
    "collapsed": false
   },
   "outputs": [
    {
     "name": "stdout",
     "output_type": "stream",
     "text": [
      "Top 10 effects for observable y1:\n",
      "x4                      2.011280\n",
      "x6                      1.900193\n",
      "x5                      1.743953\n",
      "x2                      1.694901\n",
      "x3                      1.653057\n",
      "(x2, x3, x4, x5, x6)    0.352210\n",
      "x1                      0.339154\n",
      "(x3, x5)                0.322492\n",
      "(x2, x6)                0.271970\n",
      "(x2, x3, x4, x6)        0.246520\n",
      "Name: y1, dtype: float64\n"
     ]
    }
   ],
   "source": [
    "master_dict = {}\n",
    "for nvars in effects.keys():\n",
    "\n",
    "    effect = effects[nvars]\n",
    "    for k in effect.keys():\n",
    "        v = effect[k]\n",
    "        master_dict[k] = v\n",
    "\n",
    "master_df = pd.DataFrame(master_dict).T\n",
    "master_df.columns = obs_list\n",
    "\n",
    "y1 = master_df['y1'].copy()\n",
    "y1.sort_values(inplace=True,ascending=False)\n",
    "\n",
    "print \"Top 10 effects for observable y1:\"\n",
    "print y1[:10]\n",
    "\n",
    "#print \"\"\n",
    "#print \"Bottom 10 effects for observable y1:\"\n",
    "#print y1[-10:][::-1]"
   ]
  },
  {
   "cell_type": "code",
   "execution_count": 61,
   "metadata": {
    "collapsed": false
   },
   "outputs": [
    {
     "name": "stdout",
     "output_type": "stream",
     "text": [
      "Top 10 effects for observable y2:\n",
      "x2                      11.148690\n",
      "x5                      10.036008\n",
      "x6                       9.479546\n",
      "x4                       8.813274\n",
      "x3                       6.961526\n",
      "(x2, x3, x4, x5, x6)     4.493865\n",
      "(x3, x6)                 2.687249\n",
      "(x4, x6)                 2.548870\n",
      "(x2, x6)                 1.873603\n",
      "(x1, x2, x3, x5)         1.870671\n",
      "Name: y2, dtype: float64\n"
     ]
    }
   ],
   "source": [
    "y2 = master_df['y2'].copy()\n",
    "y2.sort_values(inplace=True,ascending=False)\n",
    "\n",
    "print \"Top 10 effects for observable y2:\"\n",
    "print y2[:10]\n",
    "#print \"\"\n",
    "#print \"Bottom 10 effects for observable y2:\"\n",
    "#print y2[-10:][::-1]"
   ]
  },
  {
   "cell_type": "code",
   "execution_count": 62,
   "metadata": {
    "collapsed": false
   },
   "outputs": [
    {
     "name": "stdout",
     "output_type": "stream",
     "text": [
      "Top 10 effects for observable y3:\n",
      "x6                  21.666366\n",
      "x3                  19.660610\n",
      "x4                  19.005721\n",
      "x2                  17.098828\n",
      "x5                  16.252428\n",
      "(x2, x5)             6.876607\n",
      "(x1, x2, x6)         3.983815\n",
      "(x1, x2, x3, x5)     3.400596\n",
      "(x3, x5)             3.241134\n",
      "(x2, x3, x4, x6)     3.230735\n",
      "Name: y3, dtype: float64\n"
     ]
    }
   ],
   "source": [
    "y3 = master_df['y3'].copy()\n",
    "y3.sort_values(inplace=True,ascending=False)\n",
    "\n",
    "print \"Top 10 effects for observable y3:\"\n",
    "print y3[:10]\n",
    "#print \"\"\n",
    "#print \"Bottom 10 effects for observable y3:\"\n",
    "#print y3[-10:][::-1]"
   ]
  },
  {
   "cell_type": "markdown",
   "metadata": {},
   "source": [
    "The three variables are affected most by:\n",
    "* $x_2$\n",
    "* $x_3$\n",
    "* $x_4$\n",
    "* $x_5$\n",
    "* $x_6$\n",
    "\n",
    "Our very expensive, 64-experiment full factorial design (the data for which maps $(x_1,x_2,\\dots,x_6)$ to $(y_1,y_2,y_3)$) gives us 64 data points, and 64 degrees of freedom. \n",
    "\n",
    "With these 64 pieces of data, we could fit a 64-coefficient response surface, that accounts for each of the variable interactions whose effects we've computed - from main effects on up to six-variable interaction effects. But this wastes many degrees of freedom, to fit coefficients that aren't that important. Most of the variation in the responses can be explained by a few main effects.\n",
    "\n",
    "Hence, to describe a model with the 5 variables listed above and no other variable interaction effects would use only 5 degrees of freedom, leaving 59 degrees of freedom available to quantify error, attribute variance, etc.\n",
    "\n",
    "Our goal is to use least squares to compute model equations for $(y_1,y_2,y_3)$ as functions of $(x_2,x_3,x_4,x_5,x_6)$. "
   ]
  },
  {
   "cell_type": "code",
   "execution_count": 63,
   "metadata": {
    "collapsed": false
   },
   "outputs": [],
   "source": [
    "xlabs = ['x2','x3','x4','x5','x6']\n",
    "ylabs = ['y1','y2','y3']\n",
    "ls_data = doe[xlabs+ylabs]"
   ]
  },
  {
   "cell_type": "code",
   "execution_count": 66,
   "metadata": {
    "collapsed": false
   },
   "outputs": [],
   "source": [
    "import statsmodels.api as sm\n",
    "import numpy as np\n",
    "\n",
    "x = ls_data[xlabs]\n",
    "x = sm.add_constant(x)"
   ]
  },
  {
   "cell_type": "markdown",
   "metadata": {},
   "source": [
    "The first ordinary least squares linear model is created to predict values of the first variable, $y_1$, as a function of each of our input variables, the list of which are contained in the ```xlabs``` variable. We perform the linear regression fitting:"
   ]
  },
  {
   "cell_type": "code",
   "execution_count": 67,
   "metadata": {
    "collapsed": false
   },
   "outputs": [
    {
     "name": "stdout",
     "output_type": "stream",
     "text": [
      "                            OLS Regression Results                            \n",
      "==============================================================================\n",
      "Dep. Variable:                     y1   R-squared:                       0.814\n",
      "Model:                            OLS   Adj. R-squared:                  0.798\n",
      "Method:                 Least Squares   F-statistic:                     50.91\n",
      "Date:                Sat, 10 Dec 2016   Prob (F-statistic):           5.68e-20\n",
      "Time:                        18:38:05   Log-Likelihood:                -88.440\n",
      "No. Observations:                  64   AIC:                             188.9\n",
      "Df Residuals:                      58   BIC:                             201.8\n",
      "Df Model:                           5                                         \n",
      "Covariance Type:            nonrobust                                         \n",
      "==============================================================================\n",
      "                 coef    std err          t      P>|t|      [95.0% Conf. Int.]\n",
      "------------------------------------------------------------------------------\n",
      "const         -0.2460      0.127     -1.944      0.057        -0.499     0.007\n",
      "x2             0.8475      0.127      6.698      0.000         0.594     1.101\n",
      "x3             0.8265      0.127      6.532      0.000         0.573     1.080\n",
      "x4             1.0056      0.127      7.948      0.000         0.752     1.259\n",
      "x5             0.8720      0.127      6.891      0.000         0.619     1.125\n",
      "x6             0.9501      0.127      7.509      0.000         0.697     1.203\n",
      "==============================================================================\n",
      "Omnibus:                        0.068   Durbin-Watson:                   1.793\n",
      "Prob(Omnibus):                  0.967   Jarque-Bera (JB):                0.191\n",
      "Skew:                           0.070   Prob(JB):                        0.909\n",
      "Kurtosis:                       2.772   Cond. No.                         1.00\n",
      "==============================================================================\n",
      "\n",
      "Warnings:\n",
      "[1] Standard Errors assume that the covariance matrix of the errors is correctly specified.\n"
     ]
    }
   ],
   "source": [
    "y1 = ls_data['y1']\n",
    "est1 = sm.OLS(y1,x).fit()\n",
    "print est1.summary()"
   ]
  },
  {
   "cell_type": "code",
   "execution_count": 68,
   "metadata": {
    "collapsed": false
   },
   "outputs": [
    {
     "name": "stdout",
     "output_type": "stream",
     "text": [
      "                            OLS Regression Results                            \n",
      "==============================================================================\n",
      "Dep. Variable:                     y2   R-squared:                       0.782\n",
      "Model:                            OLS   Adj. R-squared:                  0.764\n",
      "Method:                 Least Squares   F-statistic:                     41.68\n",
      "Date:                Sat, 10 Dec 2016   Prob (F-statistic):           5.52e-18\n",
      "Time:                        18:38:05   Log-Likelihood:                -200.37\n",
      "No. Observations:                  64   AIC:                             412.7\n",
      "Df Residuals:                      58   BIC:                             425.7\n",
      "Df Model:                           5                                         \n",
      "Covariance Type:            nonrobust                                         \n",
      "==============================================================================\n",
      "                 coef    std err          t      P>|t|      [95.0% Conf. Int.]\n",
      "------------------------------------------------------------------------------\n",
      "const          0.3515      0.727      0.483      0.631        -1.104     1.807\n",
      "x2             5.5743      0.727      7.664      0.000         4.118     7.030\n",
      "x3             3.4808      0.727      4.786      0.000         2.025     4.937\n",
      "x4             4.4066      0.727      6.059      0.000         2.951     5.863\n",
      "x5             5.0180      0.727      6.899      0.000         3.562     6.474\n",
      "x6             4.7398      0.727      6.517      0.000         3.284     6.196\n",
      "==============================================================================\n",
      "Omnibus:                        4.849   Durbin-Watson:                   2.230\n",
      "Prob(Omnibus):                  0.089   Jarque-Bera (JB):                2.362\n",
      "Skew:                          -0.172   Prob(JB):                        0.307\n",
      "Kurtosis:                       2.124   Cond. No.                         1.00\n",
      "==============================================================================\n",
      "\n",
      "Warnings:\n",
      "[1] Standard Errors assume that the covariance matrix of the errors is correctly specified.\n"
     ]
    }
   ],
   "source": [
    "y2 = ls_data['y2']\n",
    "est2 = sm.OLS(y2,x).fit()\n",
    "print est2.summary()"
   ]
  },
  {
   "cell_type": "code",
   "execution_count": 69,
   "metadata": {
    "collapsed": false
   },
   "outputs": [
    {
     "name": "stdout",
     "output_type": "stream",
     "text": [
      "                            OLS Regression Results                            \n",
      "==============================================================================\n",
      "Dep. Variable:                     y3   R-squared:                       0.810\n",
      "Model:                            OLS   Adj. R-squared:                  0.793\n",
      "Method:                 Least Squares   F-statistic:                     49.35\n",
      "Date:                Sat, 10 Dec 2016   Prob (F-statistic):           1.17e-19\n",
      "Time:                        18:38:08   Log-Likelihood:                -239.50\n",
      "No. Observations:                  64   AIC:                             491.0\n",
      "Df Residuals:                      58   BIC:                             504.0\n",
      "Df Model:                           5                                         \n",
      "Covariance Type:            nonrobust                                         \n",
      "==============================================================================\n",
      "                 coef    std err          t      P>|t|      [95.0% Conf. Int.]\n",
      "------------------------------------------------------------------------------\n",
      "const         -1.4659      1.341     -1.094      0.279        -4.149     1.217\n",
      "x2             8.5494      1.341      6.378      0.000         5.866    11.233\n",
      "x3             9.8303      1.341      7.333      0.000         7.147    12.514\n",
      "x4             9.5029      1.341      7.089      0.000         6.820    12.186\n",
      "x5             8.1262      1.341      6.062      0.000         5.443    10.810\n",
      "x6            10.8332      1.341      8.081      0.000         8.150    13.517\n",
      "==============================================================================\n",
      "Omnibus:                        0.144   Durbin-Watson:                   2.013\n",
      "Prob(Omnibus):                  0.931   Jarque-Bera (JB):                0.337\n",
      "Skew:                          -0.049   Prob(JB):                        0.845\n",
      "Kurtosis:                       2.658   Cond. No.                         1.00\n",
      "==============================================================================\n",
      "\n",
      "Warnings:\n",
      "[1] Standard Errors assume that the covariance matrix of the errors is correctly specified.\n"
     ]
    }
   ],
   "source": [
    "y3 = ls_data['y3']\n",
    "est3 = sm.OLS(y3,x).fit()\n",
    "print est3.summary()"
   ]
  },
  {
   "cell_type": "markdown",
   "metadata": {},
   "source": [
    "Now that we've drastically reduced the cost of our linear model, from 64 degrees of freedom to 5, we can quantify the error introduced by the reduction in the number of degrees of freedom to see if we're missing anything important.\n",
    "\n",
    "To do this, we use a quantile-quantile plot to compare our model predictions to data. For each of our 64 experiments, we compute a model prediction $M$ and compare it with data $d$. This results in a residual $r$. \n",
    "\n",
    "If the model accurately captures the behavior of the underlying data, the error between the model and the data will be purely random, and the residuals will therefore be normally distributed. If there are residuals that are significant outliers, it indicates underlying structure to the residuals and therefore structure that is missed by the model.\n",
    "\n",
    "When the residuals for each experiment are plotted on a quantile-quantile plot, the points will line up on a straight line if they are normally distributed. Significant deviation by outlier points is indicative of a poor model fit."
   ]
  },
  {
   "cell_type": "code",
   "execution_count": 76,
   "metadata": {
    "collapsed": false
   },
   "outputs": [
    {
     "data": {
      "image/png": "[encoded data removed]",
      "text/plain": [
       "<matplotlib.figure.Figure at 0x10b2d0950>"
      ]
     },
     "metadata": {},
     "output_type": "display_data"
    }
   ],
   "source": [
    "%matplotlib inline\n",
    "import seaborn as sns\n",
    "import scipy.stats as stats\n",
    "from matplotlib.pyplot import *\n",
    "\n",
    "# Quantify goodness of fit\n",
    "\n",
    "fig = figure(figsize=(14,4))\n",
    "ax1 = fig.add_subplot(131)\n",
    "ax2 = fig.add_subplot(132)\n",
    "ax3 = fig.add_subplot(133)\n",
    "\n",
    "r1 = y1 - est1.predict(x)\n",
    "r2 = y2 - est2.predict(x)\n",
    "r3 = y3 - est3.predict(x)\n",
    "\n",
    "stats.probplot(r1, dist=\"norm\", plot=ax1)\n",
    "ax1.set_title('Residuals, y1')\n",
    "\n",
    "stats.probplot(r2, dist=\"norm\", plot=ax2)\n",
    "ax2.set_title('Residuals, y2')\n",
    "\n",
    "stats.probplot(r3, dist=\"norm\", plot=ax3)\n",
    "ax3.set_title('Residuals, y3')\n",
    "\n",
    "pylab.show()"
   ]
  },
  {
   "cell_type": "markdown",
   "metadata": {},
   "source": [
    "It's pretty evident that there are no significant trends being missed by the models. \n",
    "\n",
    "Another thing we can look at is the normalized error: what are the values? How are they distributed? A kernel density estimate (KDE) plot, which is a smoothed histogram, shows the probability distribution of the normalized residual errors. As expected, they're bunched pretty close to zero. There are some bumps far from zero, but as we saw from the quantile-quantile plots above, these residuals are distributed the same way normal, random variables are distributed; there's no systematic bias there."
   ]
  },
  {
   "cell_type": "code",
   "execution_count": 97,
   "metadata": {
    "collapsed": false
   },
   "outputs": [
    {
     "data": {
      "text/plain": [
       "<matplotlib.text.Text at 0x10d4941d0>"
      ]
     },
     "execution_count": 97,
     "metadata": {},
     "output_type": "execute_result"
    },
    {
     "data": {
      "image/png": "[encoded data removed]",
      "text/plain": [
       "<matplotlib.figure.Figure at 0x10e9b8310>"
      ]
     },
     "metadata": {},
     "output_type": "display_data"
    }
   ],
   "source": [
    "fig = figure(figsize=(10,12))\n",
    "ax1 = fig.add_subplot(311)\n",
    "ax2 = fig.add_subplot(312)\n",
    "ax3 = fig.add_subplot(313)\n",
    "axes = [ax1,ax2,ax3]\n",
    "\n",
    "colors = sns.xkcd_palette([\"windows blue\", \"amber\", \"faded green\", \"dusty purple\",\"aqua blue\"])\n",
    "\n",
    "normed_resids = [r1/y1, r2/y2, r3/y3]\n",
    "\n",
    "for (dataa, axx, colorr) in zip(normed_resids,axes,colors):\n",
    "    sns.kdeplot(dataa, bw=0.5, ax=axx, color=colorr, shade=True, alpha=0.5);\n",
    "\n",
    "ax1.set_title('Probability Distribution: Normalized Residual Error, y1')\n",
    "ax2.set_title('Normalized Residual Error, y2')\n",
    "ax3.set_title('Normalized Residual Error, y3')\n"
   ]
  },
  {
   "cell_type": "markdown",
   "metadata": {},
   "source": [
    "Box and Draper next report aggregated experiment results, by computing the mean effect for the regressed variables. This is simple to do with Pandas, by grouping the data by each variable, and applying the mean function on all of the results. The code looks like this:"
   ]
  },
  {
   "cell_type": "code",
   "execution_count": 98,
   "metadata": {
    "collapsed": false
   },
   "outputs": [
    {
     "data": {
      "text/html": [
       "<div>\n",
       "<table border=\"1\" class=\"dataframe\">\n",
       "  <thead>\n",
       "    <tr style=\"text-align: right;\">\n",
       "      <th></th>\n",
       "      <th></th>\n",
       "      <th></th>\n",
       "      <th></th>\n",
       "      <th></th>\n",
       "      <th>y1</th>\n",
       "      <th>y2</th>\n",
       "      <th>y3</th>\n",
       "    </tr>\n",
       "    <tr>\n",
       "      <th>x2</th>\n",
       "      <th>x3</th>\n",
       "      <th>x4</th>\n",
       "      <th>x5</th>\n",
       "      <th>x6</th>\n",
       "      <th></th>\n",
       "      <th></th>\n",
       "      <th></th>\n",
       "    </tr>\n",
       "  </thead>\n",
       "  <tbody>\n",
       "    <tr>\n",
       "      <th rowspan=\"16\" valign=\"top\">-1</th>\n",
       "      <th rowspan=\"8\" valign=\"top\">-1</th>\n",
       "      <th rowspan=\"4\" valign=\"top\">-1</th>\n",
       "      <th rowspan=\"2\" valign=\"top\">-1</th>\n",
       "      <th>-1</th>\n",
       "      <td>-4.567357</td>\n",
       "      <td>-23.979564</td>\n",
       "      <td>-33.804709</td>\n",
       "    </tr>\n",
       "    <tr>\n",
       "      <th>1</th>\n",
       "      <td>-3.141681</td>\n",
       "      <td>-16.725861</td>\n",
       "      <td>-24.739624</td>\n",
       "    </tr>\n",
       "    <tr>\n",
       "      <th rowspan=\"2\" valign=\"top\">1</th>\n",
       "      <th>-1</th>\n",
       "      <td>-2.738134</td>\n",
       "      <td>-11.268469</td>\n",
       "      <td>-44.287502</td>\n",
       "    </tr>\n",
       "    <tr>\n",
       "      <th>1</th>\n",
       "      <td>-1.965749</td>\n",
       "      <td>-10.801018</td>\n",
       "      <td>-18.756849</td>\n",
       "    </tr>\n",
       "    <tr>\n",
       "      <th rowspan=\"4\" valign=\"top\">1</th>\n",
       "      <th rowspan=\"2\" valign=\"top\">-1</th>\n",
       "      <th>-1</th>\n",
       "      <td>-1.044341</td>\n",
       "      <td>-5.582070</td>\n",
       "      <td>-16.373520</td>\n",
       "    </tr>\n",
       "    <tr>\n",
       "      <th>1</th>\n",
       "      <td>-1.156612</td>\n",
       "      <td>-7.995561</td>\n",
       "      <td>-8.261020</td>\n",
       "    </tr>\n",
       "    <tr>\n",
       "      <th rowspan=\"2\" valign=\"top\">1</th>\n",
       "      <th>-1</th>\n",
       "      <td>-2.513352</td>\n",
       "      <td>-8.077014</td>\n",
       "      <td>-23.478010</td>\n",
       "    </tr>\n",
       "    <tr>\n",
       "      <th>1</th>\n",
       "      <td>0.687739</td>\n",
       "      <td>3.601242</td>\n",
       "      <td>5.889389</td>\n",
       "    </tr>\n",
       "    <tr>\n",
       "      <th rowspan=\"8\" valign=\"top\">1</th>\n",
       "      <th rowspan=\"4\" valign=\"top\">-1</th>\n",
       "      <th rowspan=\"2\" valign=\"top\">-1</th>\n",
       "      <th>-1</th>\n",
       "      <td>-3.352291</td>\n",
       "      <td>-11.422101</td>\n",
       "      <td>-31.167194</td>\n",
       "    </tr>\n",
       "    <tr>\n",
       "      <th>1</th>\n",
       "      <td>-1.823836</td>\n",
       "      <td>-9.806478</td>\n",
       "      <td>0.677809</td>\n",
       "    </tr>\n",
       "    <tr>\n",
       "      <th rowspan=\"2\" valign=\"top\">1</th>\n",
       "      <th>-1</th>\n",
       "      <td>-1.385703</td>\n",
       "      <td>-10.114762</td>\n",
       "      <td>-15.035090</td>\n",
       "    </tr>\n",
       "    <tr>\n",
       "      <th>1</th>\n",
       "      <td>1.519005</td>\n",
       "      <td>6.213142</td>\n",
       "      <td>16.488915</td>\n",
       "    </tr>\n",
       "    <tr>\n",
       "      <th rowspan=\"4\" valign=\"top\">1</th>\n",
       "      <th rowspan=\"2\" valign=\"top\">-1</th>\n",
       "      <th>-1</th>\n",
       "      <td>-1.222825</td>\n",
       "      <td>-11.360405</td>\n",
       "      <td>-16.709444</td>\n",
       "    </tr>\n",
       "    <tr>\n",
       "      <th>1</th>\n",
       "      <td>1.248415</td>\n",
       "      <td>9.771690</td>\n",
       "      <td>12.751898</td>\n",
       "    </tr>\n",
       "    <tr>\n",
       "      <th rowspan=\"2\" valign=\"top\">1</th>\n",
       "      <th>-1</th>\n",
       "      <td>1.563490</td>\n",
       "      <td>9.597875</td>\n",
       "      <td>14.795152</td>\n",
       "    </tr>\n",
       "    <tr>\n",
       "      <th>1</th>\n",
       "      <td>2.397995</td>\n",
       "      <td>14.383879</td>\n",
       "      <td>21.764756</td>\n",
       "    </tr>\n",
       "    <tr>\n",
       "      <th rowspan=\"16\" valign=\"top\">1</th>\n",
       "      <th rowspan=\"8\" valign=\"top\">-1</th>\n",
       "      <th rowspan=\"4\" valign=\"top\">-1</th>\n",
       "      <th rowspan=\"2\" valign=\"top\">-1</th>\n",
       "      <th>-1</th>\n",
       "      <td>-4.147024</td>\n",
       "      <td>-5.396498</td>\n",
       "      <td>-44.622711</td>\n",
       "    </tr>\n",
       "    <tr>\n",
       "      <th>1</th>\n",
       "      <td>-0.660031</td>\n",
       "      <td>-3.599554</td>\n",
       "      <td>-10.292235</td>\n",
       "    </tr>\n",
       "    <tr>\n",
       "      <th rowspan=\"2\" valign=\"top\">1</th>\n",
       "      <th>-1</th>\n",
       "      <td>-0.811912</td>\n",
       "      <td>1.672157</td>\n",
       "      <td>-3.088925</td>\n",
       "    </tr>\n",
       "    <tr>\n",
       "      <th>1</th>\n",
       "      <td>0.738839</td>\n",
       "      <td>10.984220</td>\n",
       "      <td>13.323114</td>\n",
       "    </tr>\n",
       "    <tr>\n",
       "      <th rowspan=\"4\" valign=\"top\">1</th>\n",
       "      <th rowspan=\"2\" valign=\"top\">-1</th>\n",
       "      <th>-1</th>\n",
       "      <td>-0.599424</td>\n",
       "      <td>-5.447673</td>\n",
       "      <td>-10.163477</td>\n",
       "    </tr>\n",
       "    <tr>\n",
       "      <th>1</th>\n",
       "      <td>1.050384</td>\n",
       "      <td>8.493221</td>\n",
       "      <td>5.842473</td>\n",
       "    </tr>\n",
       "    <tr>\n",
       "      <th rowspan=\"2\" valign=\"top\">1</th>\n",
       "      <th>-1</th>\n",
       "      <td>1.154172</td>\n",
       "      <td>5.875858</td>\n",
       "      <td>4.737607</td>\n",
       "    </tr>\n",
       "    <tr>\n",
       "      <th>1</th>\n",
       "      <td>2.553999</td>\n",
       "      <td>18.178415</td>\n",
       "      <td>27.336702</td>\n",
       "    </tr>\n",
       "    <tr>\n",
       "      <th rowspan=\"8\" valign=\"top\">1</th>\n",
       "      <th rowspan=\"4\" valign=\"top\">-1</th>\n",
       "      <th rowspan=\"2\" valign=\"top\">-1</th>\n",
       "      <th>-1</th>\n",
       "      <td>-2.463287</td>\n",
       "      <td>-6.939066</td>\n",
       "      <td>-21.255488</td>\n",
       "    </tr>\n",
       "    <tr>\n",
       "      <th>1</th>\n",
       "      <td>0.571833</td>\n",
       "      <td>2.969601</td>\n",
       "      <td>0.066080</td>\n",
       "    </tr>\n",
       "    <tr>\n",
       "      <th rowspan=\"2\" valign=\"top\">1</th>\n",
       "      <th>-1</th>\n",
       "      <td>1.280118</td>\n",
       "      <td>7.284523</td>\n",
       "      <td>12.231235</td>\n",
       "    </tr>\n",
       "    <tr>\n",
       "      <th>1</th>\n",
       "      <td>2.920946</td>\n",
       "      <td>16.047579</td>\n",
       "      <td>28.762989</td>\n",
       "    </tr>\n",
       "    <tr>\n",
       "      <th rowspan=\"4\" valign=\"top\">1</th>\n",
       "      <th rowspan=\"2\" valign=\"top\">-1</th>\n",
       "      <th>-1</th>\n",
       "      <td>0.293640</td>\n",
       "      <td>-0.105504</td>\n",
       "      <td>4.083073</td>\n",
       "    </tr>\n",
       "    <tr>\n",
       "      <th>1</th>\n",
       "      <td>3.126788</td>\n",
       "      <td>12.461804</td>\n",
       "      <td>40.494250</td>\n",
       "    </tr>\n",
       "    <tr>\n",
       "      <th rowspan=\"2\" valign=\"top\">1</th>\n",
       "      <th>-1</th>\n",
       "      <td>1.416656</td>\n",
       "      <td>5.050388</td>\n",
       "      <td>27.353658</td>\n",
       "    </tr>\n",
       "    <tr>\n",
       "      <th>1</th>\n",
       "      <td>3.197488</td>\n",
       "      <td>27.284092</td>\n",
       "      <td>38.527867</td>\n",
       "    </tr>\n",
       "  </tbody>\n",
       "</table>\n",
       "</div>"
      ],
      "text/plain": [
       "                      y1         y2         y3\n",
       "x2 x3 x4 x5 x6                                \n",
       "-1 -1 -1 -1 -1 -4.567357 -23.979564 -33.804709\n",
       "             1 -3.141681 -16.725861 -24.739624\n",
       "          1 -1 -2.738134 -11.268469 -44.287502\n",
       "             1 -1.965749 -10.801018 -18.756849\n",
       "       1 -1 -1 -1.044341  -5.582070 -16.373520\n",
       "             1 -1.156612  -7.995561  -8.261020\n",
       "          1 -1 -2.513352  -8.077014 -23.478010\n",
       "             1  0.687739   3.601242   5.889389\n",
       "    1 -1 -1 -1 -3.352291 -11.422101 -31.167194\n",
       "             1 -1.823836  -9.806478   0.677809\n",
       "          1 -1 -1.385703 -10.114762 -15.035090\n",
       "             1  1.519005   6.213142  16.488915\n",
       "       1 -1 -1 -1.222825 -11.360405 -16.709444\n",
       "             1  1.248415   9.771690  12.751898\n",
       "          1 -1  1.563490   9.597875  14.795152\n",
       "             1  2.397995  14.383879  21.764756\n",
       " 1 -1 -1 -1 -1 -4.147024  -5.396498 -44.622711\n",
       "             1 -0.660031  -3.599554 -10.292235\n",
       "          1 -1 -0.811912   1.672157  -3.088925\n",
       "             1  0.738839  10.984220  13.323114\n",
       "       1 -1 -1 -0.599424  -5.447673 -10.163477\n",
       "             1  1.050384   8.493221   5.842473\n",
       "          1 -1  1.154172   5.875858   4.737607\n",
       "             1  2.553999  18.178415  27.336702\n",
       "    1 -1 -1 -1 -2.463287  -6.939066 -21.255488\n",
       "             1  0.571833   2.969601   0.066080\n",
       "          1 -1  1.280118   7.284523  12.231235\n",
       "             1  2.920946  16.047579  28.762989\n",
       "       1 -1 -1  0.293640  -0.105504   4.083073\n",
       "             1  3.126788  12.461804  40.494250\n",
       "          1 -1  1.416656   5.050388  27.353658\n",
       "             1  3.197488  27.284092  38.527867"
      ]
     },
     "execution_count": 98,
     "metadata": {},
     "output_type": "execute_result"
    }
   ],
   "source": [
    "# Our original regression variables\n",
    "xlabs = ['x2','x3','x4','x5','x6']\n",
    "doe.groupby(xlabs)[ylabs].mean()"
   ]
  },
  {
   "cell_type": "code",
   "execution_count": 99,
   "metadata": {
    "collapsed": false
   },
   "outputs": [
    {
     "data": {
      "text/html": [
       "<div>\n",
       "<table border=\"1\" class=\"dataframe\">\n",
       "  <thead>\n",
       "    <tr style=\"text-align: right;\">\n",
       "      <th></th>\n",
       "      <th></th>\n",
       "      <th></th>\n",
       "      <th></th>\n",
       "      <th>y1</th>\n",
       "      <th>y2</th>\n",
       "      <th>y3</th>\n",
       "    </tr>\n",
       "    <tr>\n",
       "      <th>x2</th>\n",
       "      <th>x3</th>\n",
       "      <th>x4</th>\n",
       "      <th>x6</th>\n",
       "      <th></th>\n",
       "      <th></th>\n",
       "      <th></th>\n",
       "    </tr>\n",
       "  </thead>\n",
       "  <tbody>\n",
       "    <tr>\n",
       "      <th rowspan=\"8\" valign=\"top\">-1</th>\n",
       "      <th rowspan=\"4\" valign=\"top\">-1</th>\n",
       "      <th rowspan=\"2\" valign=\"top\">-1</th>\n",
       "      <th>-1</th>\n",
       "      <td>-3.652745</td>\n",
       "      <td>-17.624016</td>\n",
       "      <td>-39.046106</td>\n",
       "    </tr>\n",
       "    <tr>\n",
       "      <th>1</th>\n",
       "      <td>-2.553715</td>\n",
       "      <td>-13.763439</td>\n",
       "      <td>-21.748237</td>\n",
       "    </tr>\n",
       "    <tr>\n",
       "      <th rowspan=\"2\" valign=\"top\">1</th>\n",
       "      <th>-1</th>\n",
       "      <td>-1.778846</td>\n",
       "      <td>-6.829542</td>\n",
       "      <td>-19.925765</td>\n",
       "    </tr>\n",
       "    <tr>\n",
       "      <th>1</th>\n",
       "      <td>-0.234436</td>\n",
       "      <td>-2.197160</td>\n",
       "      <td>-1.185816</td>\n",
       "    </tr>\n",
       "    <tr>\n",
       "      <th rowspan=\"4\" valign=\"top\">1</th>\n",
       "      <th rowspan=\"2\" valign=\"top\">-1</th>\n",
       "      <th>-1</th>\n",
       "      <td>-2.368997</td>\n",
       "      <td>-10.768432</td>\n",
       "      <td>-23.101142</td>\n",
       "    </tr>\n",
       "    <tr>\n",
       "      <th>1</th>\n",
       "      <td>-0.152416</td>\n",
       "      <td>-1.796668</td>\n",
       "      <td>8.583362</td>\n",
       "    </tr>\n",
       "    <tr>\n",
       "      <th rowspan=\"2\" valign=\"top\">1</th>\n",
       "      <th>-1</th>\n",
       "      <td>0.170333</td>\n",
       "      <td>-0.881265</td>\n",
       "      <td>-0.957146</td>\n",
       "    </tr>\n",
       "    <tr>\n",
       "      <th>1</th>\n",
       "      <td>1.823205</td>\n",
       "      <td>12.077785</td>\n",
       "      <td>17.258327</td>\n",
       "    </tr>\n",
       "    <tr>\n",
       "      <th rowspan=\"8\" valign=\"top\">1</th>\n",
       "      <th rowspan=\"4\" valign=\"top\">-1</th>\n",
       "      <th rowspan=\"2\" valign=\"top\">-1</th>\n",
       "      <th>-1</th>\n",
       "      <td>-2.479468</td>\n",
       "      <td>-1.862170</td>\n",
       "      <td>-23.855818</td>\n",
       "    </tr>\n",
       "    <tr>\n",
       "      <th>1</th>\n",
       "      <td>0.039404</td>\n",
       "      <td>3.692333</td>\n",
       "      <td>1.515439</td>\n",
       "    </tr>\n",
       "    <tr>\n",
       "      <th rowspan=\"2\" valign=\"top\">1</th>\n",
       "      <th>-1</th>\n",
       "      <td>0.277374</td>\n",
       "      <td>0.214092</td>\n",
       "      <td>-2.712935</td>\n",
       "    </tr>\n",
       "    <tr>\n",
       "      <th>1</th>\n",
       "      <td>1.802191</td>\n",
       "      <td>13.335818</td>\n",
       "      <td>16.589588</td>\n",
       "    </tr>\n",
       "    <tr>\n",
       "      <th rowspan=\"4\" valign=\"top\">1</th>\n",
       "      <th rowspan=\"2\" valign=\"top\">-1</th>\n",
       "      <th>-1</th>\n",
       "      <td>-0.591585</td>\n",
       "      <td>0.172728</td>\n",
       "      <td>-4.512127</td>\n",
       "    </tr>\n",
       "    <tr>\n",
       "      <th>1</th>\n",
       "      <td>1.746390</td>\n",
       "      <td>9.508590</td>\n",
       "      <td>14.414534</td>\n",
       "    </tr>\n",
       "    <tr>\n",
       "      <th rowspan=\"2\" valign=\"top\">1</th>\n",
       "      <th>-1</th>\n",
       "      <td>0.855148</td>\n",
       "      <td>2.472442</td>\n",
       "      <td>15.718366</td>\n",
       "    </tr>\n",
       "    <tr>\n",
       "      <th>1</th>\n",
       "      <td>3.162138</td>\n",
       "      <td>19.872948</td>\n",
       "      <td>39.511059</td>\n",
       "    </tr>\n",
       "  </tbody>\n",
       "</table>\n",
       "</div>"
      ],
      "text/plain": [
       "                   y1         y2         y3\n",
       "x2 x3 x4 x6                                \n",
       "-1 -1 -1 -1 -3.652745 -17.624016 -39.046106\n",
       "          1 -2.553715 -13.763439 -21.748237\n",
       "       1 -1 -1.778846  -6.829542 -19.925765\n",
       "          1 -0.234436  -2.197160  -1.185816\n",
       "    1 -1 -1 -2.368997 -10.768432 -23.101142\n",
       "          1 -0.152416  -1.796668   8.583362\n",
       "       1 -1  0.170333  -0.881265  -0.957146\n",
       "          1  1.823205  12.077785  17.258327\n",
       " 1 -1 -1 -1 -2.479468  -1.862170 -23.855818\n",
       "          1  0.039404   3.692333   1.515439\n",
       "       1 -1  0.277374   0.214092  -2.712935\n",
       "          1  1.802191  13.335818  16.589588\n",
       "    1 -1 -1 -0.591585   0.172728  -4.512127\n",
       "          1  1.746390   9.508590  14.414534\n",
       "       1 -1  0.855148   2.472442  15.718366\n",
       "          1  3.162138  19.872948  39.511059"
      ]
     },
     "execution_count": 99,
     "metadata": {},
     "output_type": "execute_result"
    }
   ],
   "source": [
    "# If we decided to go for a smaller variable set\n",
    "xlabs = ['x2','x3','x4','x6']\n",
    "doe.groupby(xlabs)[ylabs].mean()"
   ]
  },
  {
   "cell_type": "markdown",
   "metadata": {},
   "source": [
    "This functionality can also be used to determine the variance in all of the experimental observations being aggregated:"
   ]
  },
  {
   "cell_type": "code",
   "execution_count": 100,
   "metadata": {
    "collapsed": false
   },
   "outputs": [
    {
     "data": {
      "text/html": [
       "<div>\n",
       "<table border=\"1\" class=\"dataframe\">\n",
       "  <thead>\n",
       "    <tr style=\"text-align: right;\">\n",
       "      <th></th>\n",
       "      <th></th>\n",
       "      <th></th>\n",
       "      <th></th>\n",
       "      <th>y1</th>\n",
       "      <th>y2</th>\n",
       "      <th>y3</th>\n",
       "    </tr>\n",
       "    <tr>\n",
       "      <th>x2</th>\n",
       "      <th>x3</th>\n",
       "      <th>x4</th>\n",
       "      <th>x6</th>\n",
       "      <th></th>\n",
       "      <th></th>\n",
       "      <th></th>\n",
       "    </tr>\n",
       "  </thead>\n",
       "  <tbody>\n",
       "    <tr>\n",
       "      <th rowspan=\"8\" valign=\"top\">-1</th>\n",
       "      <th rowspan=\"4\" valign=\"top\">-1</th>\n",
       "      <th rowspan=\"2\" valign=\"top\">-1</th>\n",
       "      <th>-1</th>\n",
       "      <td>1.340299</td>\n",
       "      <td>108.831779</td>\n",
       "      <td>70.981983</td>\n",
       "    </tr>\n",
       "    <tr>\n",
       "      <th>1</th>\n",
       "      <td>1.128468</td>\n",
       "      <td>18.964111</td>\n",
       "      <td>286.357606</td>\n",
       "    </tr>\n",
       "    <tr>\n",
       "      <th rowspan=\"2\" valign=\"top\">1</th>\n",
       "      <th>-1</th>\n",
       "      <td>0.924410</td>\n",
       "      <td>39.938778</td>\n",
       "      <td>34.070862</td>\n",
       "    </tr>\n",
       "    <tr>\n",
       "      <th>1</th>\n",
       "      <td>1.425721</td>\n",
       "      <td>55.444438</td>\n",
       "      <td>71.246563</td>\n",
       "    </tr>\n",
       "    <tr>\n",
       "      <th rowspan=\"4\" valign=\"top\">1</th>\n",
       "      <th rowspan=\"2\" valign=\"top\">-1</th>\n",
       "      <th>-1</th>\n",
       "      <td>2.223318</td>\n",
       "      <td>9.743790</td>\n",
       "      <td>98.088931</td>\n",
       "    </tr>\n",
       "    <tr>\n",
       "      <th>1</th>\n",
       "      <td>5.563914</td>\n",
       "      <td>112.558021</td>\n",
       "      <td>255.497746</td>\n",
       "    </tr>\n",
       "    <tr>\n",
       "      <th rowspan=\"2\" valign=\"top\">1</th>\n",
       "      <th>-1</th>\n",
       "      <td>3.350490</td>\n",
       "      <td>162.076559</td>\n",
       "      <td>331.981871</td>\n",
       "    </tr>\n",
       "    <tr>\n",
       "      <th>1</th>\n",
       "      <td>2.118444</td>\n",
       "      <td>8.073249</td>\n",
       "      <td>57.808280</td>\n",
       "    </tr>\n",
       "    <tr>\n",
       "      <th rowspan=\"8\" valign=\"top\">1</th>\n",
       "      <th rowspan=\"4\" valign=\"top\">-1</th>\n",
       "      <th rowspan=\"2\" valign=\"top\">-1</th>\n",
       "      <th>-1</th>\n",
       "      <td>4.392013</td>\n",
       "      <td>19.528154</td>\n",
       "      <td>582.934886</td>\n",
       "    </tr>\n",
       "    <tr>\n",
       "      <th>1</th>\n",
       "      <td>0.740551</td>\n",
       "      <td>74.465961</td>\n",
       "      <td>348.405435</td>\n",
       "    </tr>\n",
       "    <tr>\n",
       "      <th rowspan=\"2\" valign=\"top\">1</th>\n",
       "      <th>-1</th>\n",
       "      <td>1.934560</td>\n",
       "      <td>67.424843</td>\n",
       "      <td>130.927411</td>\n",
       "    </tr>\n",
       "    <tr>\n",
       "      <th>1</th>\n",
       "      <td>0.934969</td>\n",
       "      <td>65.833253</td>\n",
       "      <td>170.501629</td>\n",
       "    </tr>\n",
       "    <tr>\n",
       "      <th rowspan=\"4\" valign=\"top\">1</th>\n",
       "      <th rowspan=\"2\" valign=\"top\">-1</th>\n",
       "      <th>-1</th>\n",
       "      <td>4.680672</td>\n",
       "      <td>73.681826</td>\n",
       "      <td>511.191745</td>\n",
       "    </tr>\n",
       "    <tr>\n",
       "      <th>1</th>\n",
       "      <td>2.030972</td>\n",
       "      <td>75.027229</td>\n",
       "      <td>304.297140</td>\n",
       "    </tr>\n",
       "    <tr>\n",
       "      <th rowspan=\"2\" valign=\"top\">1</th>\n",
       "      <th>-1</th>\n",
       "      <td>0.484634</td>\n",
       "      <td>10.119007</td>\n",
       "      <td>184.284116</td>\n",
       "    </tr>\n",
       "    <tr>\n",
       "      <th>1</th>\n",
       "      <td>0.539642</td>\n",
       "      <td>102.443385</td>\n",
       "      <td>33.904618</td>\n",
       "    </tr>\n",
       "  </tbody>\n",
       "</table>\n",
       "</div>"
      ],
      "text/plain": [
       "                   y1          y2          y3\n",
       "x2 x3 x4 x6                                  \n",
       "-1 -1 -1 -1  1.340299  108.831779   70.981983\n",
       "          1  1.128468   18.964111  286.357606\n",
       "       1 -1  0.924410   39.938778   34.070862\n",
       "          1  1.425721   55.444438   71.246563\n",
       "    1 -1 -1  2.223318    9.743790   98.088931\n",
       "          1  5.563914  112.558021  255.497746\n",
       "       1 -1  3.350490  162.076559  331.981871\n",
       "          1  2.118444    8.073249   57.808280\n",
       " 1 -1 -1 -1  4.392013   19.528154  582.934886\n",
       "          1  0.740551   74.465961  348.405435\n",
       "       1 -1  1.934560   67.424843  130.927411\n",
       "          1  0.934969   65.833253  170.501629\n",
       "    1 -1 -1  4.680672   73.681826  511.191745\n",
       "          1  2.030972   75.027229  304.297140\n",
       "       1 -1  0.484634   10.119007  184.284116\n",
       "          1  0.539642  102.443385   33.904618"
      ]
     },
     "execution_count": 100,
     "metadata": {},
     "output_type": "execute_result"
    }
   ],
   "source": [
    "doe.groupby(xlabs)[ylabs].var()"
   ]
  },
  {
   "cell_type": "markdown",
   "metadata": {},
   "source": [
    "Or even the number of experimental observations being aggregated!"
   ]
  },
  {
   "cell_type": "code",
   "execution_count": 101,
   "metadata": {
    "collapsed": false
   },
   "outputs": [
    {
     "data": {
      "text/html": [
       "<div>\n",
       "<table border=\"1\" class=\"dataframe\">\n",
       "  <thead>\n",
       "    <tr style=\"text-align: right;\">\n",
       "      <th></th>\n",
       "      <th></th>\n",
       "      <th></th>\n",
       "      <th></th>\n",
       "      <th>y1</th>\n",
       "      <th>y2</th>\n",
       "      <th>y3</th>\n",
       "    </tr>\n",
       "    <tr>\n",
       "      <th>x2</th>\n",
       "      <th>x3</th>\n",
       "      <th>x4</th>\n",
       "      <th>x6</th>\n",
       "      <th></th>\n",
       "      <th></th>\n",
       "      <th></th>\n",
       "    </tr>\n",
       "  </thead>\n",
       "  <tbody>\n",
       "    <tr>\n",
       "      <th rowspan=\"8\" valign=\"top\">-1</th>\n",
       "      <th rowspan=\"4\" valign=\"top\">-1</th>\n",
       "      <th rowspan=\"2\" valign=\"top\">-1</th>\n",
       "      <th>-1</th>\n",
       "      <td>4</td>\n",
       "      <td>4</td>\n",
       "      <td>4</td>\n",
       "    </tr>\n",
       "    <tr>\n",
       "      <th>1</th>\n",
       "      <td>4</td>\n",
       "      <td>4</td>\n",
       "      <td>4</td>\n",
       "    </tr>\n",
       "    <tr>\n",
       "      <th rowspan=\"2\" valign=\"top\">1</th>\n",
       "      <th>-1</th>\n",
       "      <td>4</td>\n",
       "      <td>4</td>\n",
       "      <td>4</td>\n",
       "    </tr>\n",
       "    <tr>\n",
       "      <th>1</th>\n",
       "      <td>4</td>\n",
       "      <td>4</td>\n",
       "      <td>4</td>\n",
       "    </tr>\n",
       "    <tr>\n",
       "      <th rowspan=\"4\" valign=\"top\">1</th>\n",
       "      <th rowspan=\"2\" valign=\"top\">-1</th>\n",
       "      <th>-1</th>\n",
       "      <td>4</td>\n",
       "      <td>4</td>\n",
       "      <td>4</td>\n",
       "    </tr>\n",
       "    <tr>\n",
       "      <th>1</th>\n",
       "      <td>4</td>\n",
       "      <td>4</td>\n",
       "      <td>4</td>\n",
       "    </tr>\n",
       "    <tr>\n",
       "      <th rowspan=\"2\" valign=\"top\">1</th>\n",
       "      <th>-1</th>\n",
       "      <td>4</td>\n",
       "      <td>4</td>\n",
       "      <td>4</td>\n",
       "    </tr>\n",
       "    <tr>\n",
       "      <th>1</th>\n",
       "      <td>4</td>\n",
       "      <td>4</td>\n",
       "      <td>4</td>\n",
       "    </tr>\n",
       "    <tr>\n",
       "      <th rowspan=\"8\" valign=\"top\">1</th>\n",
       "      <th rowspan=\"4\" valign=\"top\">-1</th>\n",
       "      <th rowspan=\"2\" valign=\"top\">-1</th>\n",
       "      <th>-1</th>\n",
       "      <td>4</td>\n",
       "      <td>4</td>\n",
       "      <td>4</td>\n",
       "    </tr>\n",
       "    <tr>\n",
       "      <th>1</th>\n",
       "      <td>4</td>\n",
       "      <td>4</td>\n",
       "      <td>4</td>\n",
       "    </tr>\n",
       "    <tr>\n",
       "      <th rowspan=\"2\" valign=\"top\">1</th>\n",
       "      <th>-1</th>\n",
       "      <td>4</td>\n",
       "      <td>4</td>\n",
       "      <td>4</td>\n",
       "    </tr>\n",
       "    <tr>\n",
       "      <th>1</th>\n",
       "      <td>4</td>\n",
       "      <td>4</td>\n",
       "      <td>4</td>\n",
       "    </tr>\n",
       "    <tr>\n",
       "      <th rowspan=\"4\" valign=\"top\">1</th>\n",
       "      <th rowspan=\"2\" valign=\"top\">-1</th>\n",
       "      <th>-1</th>\n",
       "      <td>4</td>\n",
       "      <td>4</td>\n",
       "      <td>4</td>\n",
       "    </tr>\n",
       "    <tr>\n",
       "      <th>1</th>\n",
       "      <td>4</td>\n",
       "      <td>4</td>\n",
       "      <td>4</td>\n",
       "    </tr>\n",
       "    <tr>\n",
       "      <th rowspan=\"2\" valign=\"top\">1</th>\n",
       "      <th>-1</th>\n",
       "      <td>4</td>\n",
       "      <td>4</td>\n",
       "      <td>4</td>\n",
       "    </tr>\n",
       "    <tr>\n",
       "      <th>1</th>\n",
       "      <td>4</td>\n",
       "      <td>4</td>\n",
       "      <td>4</td>\n",
       "    </tr>\n",
       "  </tbody>\n",
       "</table>\n",
       "</div>"
      ],
      "text/plain": [
       "             y1  y2  y3\n",
       "x2 x3 x4 x6            \n",
       "-1 -1 -1 -1   4   4   4\n",
       "          1   4   4   4\n",
       "       1 -1   4   4   4\n",
       "          1   4   4   4\n",
       "    1 -1 -1   4   4   4\n",
       "          1   4   4   4\n",
       "       1 -1   4   4   4\n",
       "          1   4   4   4\n",
       " 1 -1 -1 -1   4   4   4\n",
       "          1   4   4   4\n",
       "       1 -1   4   4   4\n",
       "          1   4   4   4\n",
       "    1 -1 -1   4   4   4\n",
       "          1   4   4   4\n",
       "       1 -1   4   4   4\n",
       "          1   4   4   4"
      ]
     },
     "execution_count": 101,
     "metadata": {},
     "output_type": "execute_result"
    }
   ],
   "source": [
    "doe.groupby(xlabs)[ylabs].count()"
   ]
  },
  {
   "cell_type": "markdown",
   "metadata": {},
   "source": [
    "We can convert these dataframes of averages, variances, and counts into data for plotting. For example, if we want to make a histogram of every value in the groupby dataframe, we can use the ```.values``` method, so that this:\n",
    "\n",
    "    doe.gorupby(xlabs)[ylabs].mean()\n",
    "\n",
    "becomes this:\n",
    "\n",
    "\n",
    "    doe.groupby(xlabs)[ylabs].mean().values\n",
    "\n",
    "\n",
    "This $M \\times N$ array can then be flattened into a vector using the ```ravel()``` method from numpy:\n",
    "\n",
    "    np.ravel( doe.groupby(xlabs)[ylabs].mean().values )\n",
    "\n",
    "The resulting data can be used to generate histograms, as shown below:"
   ]
  },
  {
   "cell_type": "code",
   "execution_count": 102,
   "metadata": {
    "collapsed": false
   },
   "outputs": [
    {
     "name": "stdout",
     "output_type": "stream",
     "text": [
      "Grouping responses by interaction x2-x3-x4-x6\n"
     ]
    },
    {
     "data": {
      "text/plain": [
       "<matplotlib.text.Text at 0x10f342050>"
      ]
     },
     "execution_count": 102,
     "metadata": {},
     "output_type": "execute_result"
    },
    {
     "data": {
      "image/png": "[encoded data removed]",
      "text/plain": [
       "<matplotlib.figure.Figure at 0x10d3e8410>"
      ]
     },
     "metadata": {},
     "output_type": "display_data"
    }
   ],
   "source": [
    "# Histogram of means of response values, grouped by xlabs\n",
    "\n",
    "print \"Grouping responses by interaction %s\"%( \"-\".join(xlabs) )\n",
    "dat = np.ravel(doe.groupby(xlabs)[ylabs].mean().values) / np.ravel(doe.groupby(xlabs)[ylabs].var().values)\n",
    "plt.hist(dat, 10, normed=False, color=colors[3]);\n",
    "plt.xlabel(r'Relative Variance ($\\mu$/$\\sigma^2$)')"
   ]
  },
  {
   "cell_type": "code",
   "execution_count": 103,
   "metadata": {
    "collapsed": false
   },
   "outputs": [
    {
     "name": "stdout",
     "output_type": "stream",
     "text": [
      "Grouping responses by interaction x2-x3-x4-x6\n"
     ]
    },
    {
     "data": {
      "image/png": "[encoded data removed]",
      "text/plain": [
       "<matplotlib.figure.Figure at 0x10ddc07d0>"
      ]
     },
     "metadata": {},
     "output_type": "display_data"
    }
   ],
   "source": [
    "# Histogram of variances of response values, grouped by xlabs\n",
    "\n",
    "print \"Grouping responses by interaction %s\"%( \"-\".join(xlabs) )\n",
    "dat = np.ravel(doe.groupby(xlabs)['y1'].var().values)\n",
    "plt.hist(dat, normed=True, color=colors[4]);\n",
    "plt.xlabel(r'Variance in $y_{1}$ Response');\n",
    "plt.ylabel(r'Frequency');"
   ]
  },
  {
   "cell_type": "code",
   "execution_count": null,
   "metadata": {
    "collapsed": true
   },
   "outputs": [],
   "source": []
  },
  {
   "cell_type": "code",
   "execution_count": null,
   "metadata": {
    "collapsed": true
   },
   "outputs": [],
   "source": []
  }
 ],
 "metadata": {
  "kernelspec": {
   "display_name": "Python 2",
   "language": "python",
   "name": "python2"
  },
  "language_info": {
   "codemirror_mode": {
    "name": "ipython",
    "version": 2
   },
   "file_extension": ".py",
   "mimetype": "text/x-python",
   "name": "python",
   "nbconvert_exporter": "python",
   "pygments_lexer": "ipython2",
   "version": "2.7.10"
  }
 },
 "nbformat": 4,
 "nbformat_minor": 0
}
