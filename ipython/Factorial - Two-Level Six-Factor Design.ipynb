{
 "cells": [
  {
   "cell_type": "markdown",
   "metadata": {},
   "source": [
    "# A Two-Level, Six-Factor Full Factorial Design\n",
    "\n",
    "This notebook roughly follows content from Box and Draper's _Empirical Model-Building and Response Surfaces_ (Wiley, 1984). This content is covered by Chapter 4 of Box and Draper.\n",
    "\n",
    "In this notebook, we'll carry out an anaylsis of a full factorial design, and show how we can obtain inforomation about a system and its responses, and a quantifiable range of certainty about those values. This is the fundamental idea behind empirical model-building and allows us to construct cheap and simple models to represent complex, nonlinear systems."
   ]
  },
  {
   "cell_type": "code",
   "execution_count": 202,
   "metadata": {
    "collapsed": false
   },
   "outputs": [
    {
     "data": {
      "text/html": [
       "<img src=\"https://charlesreid1.com/img/empirical.png\" width=\"300\"/>"
      ],
      "text/plain": [
       "<IPython.core.display.Image object>"
      ]
     },
     "execution_count": 202,
     "metadata": {},
     "output_type": "execute_result"
    }
   ],
   "source": [
    "from IPython.display import Image\n",
    "Image(url='https://charlesreid1.com/img/empirical.png', width=300)"
   ]
  },
  {
   "cell_type": "code",
   "execution_count": 203,
   "metadata": {
    "collapsed": true
   },
   "outputs": [],
   "source": [
    "import pandas as pd\n",
    "import numpy as np\n",
    "from numpy.random import rand"
   ]
  },
  {
   "cell_type": "markdown",
   "metadata": {},
   "source": [
    "# Six-Factor Two-Level Full Factorial Design"
   ]
  },
  {
   "cell_type": "markdown",
   "metadata": {},
   "source": [
    "Let's start with our six-factor factorial design example. Six factors means there are six input variables; this is still a two-level experiment, so this is now a $2^6$-factorial experiment.\n",
    "\n",
    "Additionally, there are now three response variables, $(y_1, y_2, y_3)$. \n",
    "\n",
    "To generate a table of the 64 experiments to be run at each factor level, we will use the ```itertools.product``` function below. This is all put into a DataFrame.\n",
    "\n",
    "This example generates some random response data, by multiplying a vector of random numbers by the vector of input variable values. (Nothing too complicated.)"
   ]
  },
  {
   "cell_type": "code",
   "execution_count": 204,
   "metadata": {
    "collapsed": true
   },
   "outputs": [],
   "source": [
    "import itertools\n",
    "\n",
    "# Create the inputs:\n",
    "encoded_inputs = list( itertools.product([-1,1],[-1,1],[-1,1],[-1,1],[-1,1],[-1,1]) )\n",
    "\n",
    "# Create the experiment design table:\n",
    "doe = pd.DataFrame(encoded_inputs,columns=['x%d'%(i+1) for i in range(6)])"
   ]
  },
  {
   "cell_type": "code",
   "execution_count": 252,
   "metadata": {
    "collapsed": false
   },
   "outputs": [
    {
     "name": "stdout",
     "output_type": "stream",
     "text": [
      "          y1         y2          y3\n",
      "0  -4.296453 -12.264228 -278.849225\n",
      "1  -2.603677 -15.023589 -184.714699\n",
      "2  -2.995704 -11.900575  -67.056423\n",
      "3  -2.423338  -4.803841  -92.252935\n",
      "4  -3.014573  -6.763401 -264.482335\n",
      "5  -1.060098  -7.815646   40.210790\n",
      "6  -1.440225  -0.912540   71.957493\n",
      "7   1.314391   3.199256   30.340990\n",
      "8  -1.831907  -2.935746 -212.238769\n",
      "9  -1.267403  -3.971781  -38.611187\n",
      "10 -2.771946  -3.939236 -160.354012\n",
      "11  0.373310   4.256498    6.237213\n",
      "12 -0.153121  -6.197822 -150.797849\n",
      "13 -0.067797  -2.017655   18.658509\n",
      "14  0.640266   2.595577   91.060275\n",
      "15  1.609418   3.324903  112.365952\n"
     ]
    }
   ],
   "source": [
    "#doe['y1'] = doe.apply( lambda z : sum([ rand()*z[i]+0.10*(0.5-rand()) for i in range(1,7) ]), axis=1)\n",
    "#doe['y2'] = doe.apply( lambda z : sum([ 5*rand()*z[i]+0.10*(0.5-rand()) for i in range(1,7) ]), axis=1)\n",
    "#doe['y3'] = doe.apply( lambda z : sum([ 10*rand()*z[i]+0.10*(0.5-rand()) for i in range(1,7) ]), axis=1)\n",
    "#print doe[['y1','y2','y3']][:16]\n",
    "\n",
    "doe['y1'] = doe.apply( lambda z : sum([ rand()*z[\"x%d\"%(i)]+0.01*(0.5-rand()) for i in range(1,7) ]), axis=1)\n",
    "doe['y2'] = doe.apply( lambda z : sum([ 5*rand()*z[\"x%d\"%(i)]+0.01*(0.5-rand()) for i in range(1,7) ]), axis=1)\n",
    "doe['y3'] = doe.apply( lambda z : sum([ 100*rand()*z[\"x%d\"%(i)]+0.01*(0.5-rand()) for i in range(1,7) ]), axis=1)\n",
    "print doe[['y1','y2','y3']][:16]"
   ]
  },
  {
   "cell_type": "markdown",
   "metadata": {},
   "source": [
    "Next we'll define some containers for input variable labels, output variable labels, and all of the interaction terms we'll be computing:"
   ]
  },
  {
   "cell_type": "code",
   "execution_count": 253,
   "metadata": {
    "collapsed": false
   },
   "outputs": [
    {
     "name": "stdout",
     "output_type": "stream",
     "text": [
      "1 : ['x1', 'x2', 'x3', 'x4', 'x5', 'x6']\n",
      "2 : [('x1', 'x2'), ('x1', 'x3'), ('x1', 'x4'), ('x1', 'x5'), ('x1', 'x6'), ('x2', 'x3'), ('x2', 'x4'), ('x2', 'x5'), ('x2', 'x6'), ('x3', 'x4'), ('x3', 'x5'), ('x3', 'x6'), ('x4', 'x5'), ('x4', 'x6'), ('x5', 'x6')]\n",
      "3 : [('x1', 'x2', 'x3'), ('x1', 'x2', 'x4'), ('x1', 'x2', 'x5'), ('x1', 'x2', 'x6'), ('x1', 'x3', 'x4'), ('x1', 'x3', 'x5'), ('x1', 'x3', 'x6'), ('x1', 'x4', 'x5'), ('x1', 'x4', 'x6'), ('x1', 'x5', 'x6'), ('x2', 'x3', 'x4'), ('x2', 'x3', 'x5'), ('x2', 'x3', 'x6'), ('x2', 'x4', 'x5'), ('x2', 'x4', 'x6'), ('x2', 'x5', 'x6'), ('x3', 'x4', 'x5'), ('x3', 'x4', 'x6'), ('x3', 'x5', 'x6'), ('x4', 'x5', 'x6')]\n",
      "4 : [('x1', 'x2', 'x3', 'x4'), ('x1', 'x2', 'x3', 'x5'), ('x1', 'x2', 'x3', 'x6'), ('x1', 'x2', 'x4', 'x5'), ('x1', 'x2', 'x4', 'x6'), ('x1', 'x2', 'x5', 'x6'), ('x1', 'x3', 'x4', 'x5'), ('x1', 'x3', 'x4', 'x6'), ('x1', 'x3', 'x5', 'x6'), ('x1', 'x4', 'x5', 'x6'), ('x2', 'x3', 'x4', 'x5'), ('x2', 'x3', 'x4', 'x6'), ('x2', 'x3', 'x5', 'x6'), ('x2', 'x4', 'x5', 'x6'), ('x3', 'x4', 'x5', 'x6')]\n",
      "5 : [('x1', 'x2', 'x3', 'x4', 'x5'), ('x1', 'x2', 'x3', 'x4', 'x6'), ('x1', 'x2', 'x3', 'x5', 'x6'), ('x1', 'x2', 'x4', 'x5', 'x6'), ('x1', 'x3', 'x4', 'x5', 'x6'), ('x2', 'x3', 'x4', 'x5', 'x6')]\n",
      "6 : [('x1', 'x2', 'x3', 'x4', 'x5', 'x6')]\n"
     ]
    }
   ],
   "source": [
    "labels = {}\n",
    "labels[1] = ['x1','x2','x3','x4','x5','x6']\n",
    "for i in [2,3,4,5,6]:\n",
    "    labels[i] = list(itertools.combinations(labels[1], i))\n",
    "\n",
    "obs_list = ['y1','y2','y3']\n",
    "\n",
    "for k in labels.keys():\n",
    "    print str(k) + \" : \" + str(labels[k])"
   ]
  },
  {
   "cell_type": "markdown",
   "metadata": {},
   "source": [
    "Now compute the main and interaction effects. Start with the main effect of each variable, which quantifies the amount the response changes by when the input variable is changed from the -1 to +1 level. That is, it computes the average effect of an input variable $x_i$ on each of the three response variables $y_1, y_2, y_3$."
   ]
  },
  {
   "cell_type": "code",
   "execution_count": 254,
   "metadata": {
    "collapsed": false
   },
   "outputs": [
    {
     "name": "stdout",
     "output_type": "stream",
     "text": [
      "{'x0': [-0.049132049505019038, 0.13961112227088224, -0.069607100074165373]}\n"
     ]
    }
   ],
   "source": [
    "effects = {}\n",
    "\n",
    "# Start with the constant effect: this is $\\overline{y}$\n",
    "effects[0] = {'x0' : [doe['y1'].mean(),doe['y2'].mean(),doe['y3'].mean()]}\n",
    "print effects[0]"
   ]
  },
  {
   "cell_type": "code",
   "execution_count": 255,
   "metadata": {
    "collapsed": false
   },
   "outputs": [
    {
     "data": {
      "text/plain": [
       "{'x1': [1.28771354209203, 4.2183533684453156, 75.90398452978954],\n",
       " 'x2': [1.1745407510181982, 4.6587407836965262, 82.954376349896947],\n",
       " 'x3': [1.0704323094008119, 4.6046539292639581, 97.195834632254815],\n",
       " 'x4': [0.89383295250788464, 5.0136625240604298, 89.13439367229347],\n",
       " 'x5': [1.017596868785577, 5.0126675876140636, 115.33596169618595],\n",
       " 'x6': [1.1306587043253773, 5.6611592435639597, 123.73911687617482]}"
      ]
     },
     "execution_count": 255,
     "metadata": {},
     "output_type": "execute_result"
    }
   ],
   "source": [
    "effects[1] = {}\n",
    "for key in labels[1]:\n",
    "    effects_result = []\n",
    "    for obs in obs_list:\n",
    "        effects_df = doe.groupby(key)[obs].mean()\n",
    "        result = sum([ zz*effects_df.ix[zz] for zz in effects_df.index ])\n",
    "        effects_result.append(result)\n",
    "    effects[1][key] = effects_result\n",
    "\n",
    "effects[1]"
   ]
  },
  {
   "cell_type": "markdown",
   "metadata": {},
   "source": [
    "Our next step is to crank through each variable interaction level: two-variable, three-variable, and on up to six-variable interaction effects. We compute interaction effects for each two-variable combination, three-variable combination, etc."
   ]
  },
  {
   "cell_type": "code",
   "execution_count": 256,
   "metadata": {
    "collapsed": false
   },
   "outputs": [],
   "source": [
    "for c in [2,3,4,5,6]:\n",
    "    effects[c] = {}\n",
    "    for key in labels[c]:\n",
    "        effects_result = []\n",
    "        for obs in obs_list:\n",
    "            effects_df = doe.groupby(key)[obs].mean()\n",
    "            result = sum([ np.prod(zz)*effects_df.ix[zz]/(2**(len(zz)-1)) for zz in effects_df.index ])\n",
    "            effects_result.append(result)\n",
    "        effects[c][key] = effects_result"
   ]
  },
  {
   "cell_type": "code",
   "execution_count": 257,
   "metadata": {
    "collapsed": false
   },
   "outputs": [
    {
     "name": "stdout",
     "output_type": "stream",
     "text": [
      "                       x2 : [1.1745407510181982, 4.6587407836965262, 82.954376349896947]\n",
      "                       x3 : [1.0704323094008119, 4.6046539292639581, 97.195834632254815]\n",
      "                       x1 : [1.28771354209203, 4.2183533684453156, 75.90398452978954]\n",
      "                       x6 : [1.1306587043253773, 5.6611592435639597, 123.73911687617482]\n",
      "                       x4 : [0.89383295250788464, 5.0136625240604298, 89.13439367229347]\n",
      "                       x5 : [1.017596868785577, 5.0126675876140636, 115.33596169618595]\n",
      "             ('x5', 'x6') : [0.21104281378371248, 0.83155485028565446, -39.644708801352337]\n",
      "             ('x2', 'x4') : [-0.53793955802103166, -0.99786538767044197, -11.405040922904078]\n",
      "             ('x3', 'x4') : [-0.2192928761270464, -0.68543732112660116, -4.3084203932690244]\n",
      "             ('x2', 'x6') : [-0.1247984665173465, 0.43329902828510347, -2.5753522830896429]\n",
      "             ('x1', 'x2') : [0.061911287829729988, 0.45164379953209077, 24.181798575938256]\n",
      "             ('x1', 'x3') : [-0.27127792155122354, 1.504188935776229, 32.915294063253405]\n",
      "             ('x2', 'x3') : [0.091967927312608055, -2.0727561472202551, 0.63732295682662965]\n",
      "             ('x4', 'x6') : [0.096970385837089335, 0.8391788513354248, 9.1017495570476257]\n",
      "             ('x4', 'x5') : [0.14500420462039765, 0.11520228432858515, 2.8686224799461115]\n",
      "             ('x3', 'x6') : [-0.3028867599580477, -0.29594953128697199, 15.637767295489816]\n",
      "             ('x1', 'x4') : [-0.34644464807795528, 1.2526704817357339, -10.857631522176675]\n",
      "             ('x3', 'x5') : [0.049038577172617448, -1.3606615523565653, 14.774958346483835]\n",
      "             ('x1', 'x5') : [0.10281457780475178, 0.21700117813651065, 1.249656430249722]\n",
      "             ('x1', 'x6') : [-0.22460017825532685, 1.2221977719725836, -11.730215830288572]\n",
      "             ('x2', 'x5') : [-0.070109668327739461, -1.0146996878411154, -4.2498712112160959]\n",
      "       ('x3', 'x5', 'x6') : [0.20453773069324882, 0.0031439329526246063, 15.054943422635201]\n",
      "       ('x1', 'x2', 'x3') : [0.38156989141710151, 0.75169168415710197, -12.24740795361884]\n",
      "       ('x3', 'x4', 'x5') : [-0.1669280316383297, 0.67853998197405185, 16.728339242236455]\n",
      "       ('x1', 'x2', 'x4') : [0.17745530211746655, -0.2594613153017622, 10.747166761666094]\n",
      "       ('x1', 'x3', 'x6') : [-0.15488505473885927, -0.74603585731767019, -5.5285021362253843]\n",
      "       ('x1', 'x4', 'x6') : [0.17272450725767582, -0.46025331447262552, -18.183042975203222]\n",
      "       ('x2', 'x3', 'x4') : [0.099981361674856828, -0.10276037186918718, -0.86706210885671098]\n",
      "       ('x2', 'x5', 'x6') : [-0.11327542127860279, -0.4025237848247103, 13.199828263664571]\n",
      "       ('x1', 'x2', 'x5') : [0.090258013055309338, 0.2908725043451823, 14.554238421257807]\n",
      "       ('x1', 'x4', 'x5') : [0.073905198846109743, -1.1629478441679977, 8.0333469701285338]\n",
      "       ('x3', 'x4', 'x6') : [0.023414761070275958, 0.18451887094462083, -18.488880234619671]\n",
      "       ('x1', 'x5', 'x6') : [-0.019225157906539225, -1.923611388927966, 11.76296043255288]\n",
      "       ('x2', 'x4', 'x5') : [-0.13907382315724182, 0.086858071433484341, -9.7142638172263247]\n",
      "       ('x1', 'x3', 'x5') : [0.24638954985766276, 1.1902792150289982, 35.941666496650043]\n",
      "       ('x2', 'x3', 'x5') : [0.026869765928709155, -0.92237040414600791, -5.9369229669155885]\n",
      "       ('x1', 'x2', 'x6') : [-0.012748920409673903, -1.5723980619604407, -30.170250169123861]\n",
      "       ('x2', 'x4', 'x6') : [-0.057717711790065962, 0.7595186107126437, 17.007276209626294]\n",
      "       ('x1', 'x3', 'x4') : [-0.13471861136889013, 1.5599229176221696, -24.593969001106917]\n",
      "       ('x2', 'x3', 'x6') : [0.13910495829837186, 0.16031294585316247, 14.241299086211431]\n",
      "       ('x4', 'x5', 'x6') : [0.093933648565752592, -1.2244832145010021, 23.215443253450147]\n",
      " ('x1', 'x2', 'x5', 'x6') : [0.049495456821424338, -0.55755713642930127, -12.995965663979888]\n",
      " ('x3', 'x4', 'x5', 'x6') : [-0.14818374841530063, 0.073952801778891741, 14.637531496981421]\n",
      " ('x1', 'x2', 'x3', 'x6') : [0.010857302333273339, 0.29426006023607321, 17.945805252862773]\n",
      " ('x2', 'x3', 'x4', 'x6') : [0.21242648813251352, 0.87172998397358414, -14.499937516905156]\n",
      " ('x1', 'x3', 'x4', 'x5') : [-0.16102912056805285, -0.66112696351379641, 4.8182192592625803]\n",
      " ('x1', 'x4', 'x5', 'x6') : [0.049327864711683572, 0.21143434433314945, 14.708605613018189]\n",
      " ('x1', 'x2', 'x3', 'x5') : [-0.05811040070369089, 0.867517905362855, -9.5859485614798778]\n",
      " ('x2', 'x3', 'x4', 'x5') : [0.057815578006273877, 1.0013728241929263, -3.0178819007497069]\n",
      " ('x1', 'x2', 'x4', 'x5') : [0.31953678739551072, 0.45789918353944448, 28.093944786525455]\n",
      " ('x2', 'x4', 'x5', 'x6') : [-0.028622280776362446, 1.5406085732210573, 43.236888416664414]\n",
      " ('x1', 'x2', 'x4', 'x6') : [-0.0083805169208751584, -0.98091721238161789, -4.6922871019024583]\n",
      " ('x1', 'x2', 'x3', 'x4') : [0.11056125805797867, -1.2829790223069526, -24.233432856349882]\n",
      " ('x2', 'x3', 'x5', 'x6') : [-0.22342127031412623, -0.1710971043216718, -4.5263138402166021]\n",
      " ('x1', 'x3', 'x5', 'x6') : [-0.01310097495538104, 0.27974878124323754, -16.38934966751583]\n",
      " ('x1', 'x3', 'x4', 'x6') : [0.31621103093629538, -0.4644470481224694, 11.934562236229125]\n",
      "('x1', 'x3', 'x4', 'x5', 'x6') : [-0.082422111298966927, -0.69310058196809787, -11.300831743472845]\n",
      "('x1', 'x2', 'x3', 'x4', 'x6') : [-0.13218139984815683, 0.10121616286877388, -27.025917679615969]\n",
      "('x1', 'x2', 'x3', 'x4', 'x5') : [-0.023513114311467437, -0.25969327668402564, 12.136616517455543]\n",
      "('x2', 'x3', 'x4', 'x5', 'x6') : [0.13628795875725699, -0.41383741027960053, 6.8222990713317788]\n",
      "('x1', 'x2', 'x4', 'x5', 'x6') : [-0.045274864365139333, 0.8046932019770201, -11.281563370914732]\n",
      "('x1', 'x2', 'x3', 'x5', 'x6') : [0.032045996801137649, -1.0493932604438003, 2.8360966889753065]\n",
      "('x1', 'x2', 'x3', 'x4', 'x5', 'x6') : [-0.25013507619000253, -2.1797103347747209, -8.3830307150006824]\n"
     ]
    }
   ],
   "source": [
    "def printd(d):\n",
    "    for k in d.keys():\n",
    "        print \"%25s : %s\"%(k,d[k])\n",
    "\n",
    "for i in range(1,7):\n",
    "    printd(effects[i])\n"
   ]
  },
  {
   "cell_type": "markdown",
   "metadata": {},
   "source": [
    "We've computed the main and interaction effects for every variable combination (whew!), but now we're at a point where we want to start doing things with these quantities.\n",
    "\n",
    "The first and most obvious question: what variable or combination of variables has the strongest effect on $y_1$? $y_2$? $y_3$?\n",
    "\n",
    "This also raises the specter of incorrect data formatting - what if we chose the wrong format to put our data in? \n",
    "\n",
    "Python makes it easy to slice and dice data. In this case, we've constructed a nested dictionary, with the outer keys mapping to numbers of variables and inner keys mapping to particular combinations of input variables. Its pretty easy to convert this to a flat data structure that we can use to sort by variable effects. We've got six \"levels\" of variable combinations, so we'll flatten ```effects``` by looping through all six dictionaries of variable combinations (from main effects to six-variable interaction effects), and adding each entry to a master dictionary.\n",
    "\n",
    "The master dictionary will be a flat dictionary, and once we've populated it, we can use it to make a DataFrame for easier sorting, printing, manipulating, aggregating, and so on."
   ]
  },
  {
   "cell_type": "code",
   "execution_count": 258,
   "metadata": {
    "collapsed": false
   },
   "outputs": [
    {
     "name": "stdout",
     "output_type": "stream",
     "text": [
      "7\n"
     ]
    }
   ],
   "source": [
    "print len(effects)"
   ]
  },
  {
   "cell_type": "code",
   "execution_count": 259,
   "metadata": {
    "collapsed": false
   },
   "outputs": [
    {
     "name": "stdout",
     "output_type": "stream",
     "text": [
      "Top 10 effects for observable y1:\n",
      "x1                  1.287714\n",
      "x2                  1.174541\n",
      "x6                  1.130659\n",
      "x3                  1.070432\n",
      "x5                  1.017597\n",
      "x4                  0.893833\n",
      "(x1, x2, x3)        0.381570\n",
      "(x1, x2, x4, x5)    0.319537\n",
      "(x1, x3, x4, x6)    0.316211\n",
      "(x1, x3, x5)        0.246390\n",
      "Name: y1, dtype: float64\n"
     ]
    }
   ],
   "source": [
    "master_dict = {}\n",
    "for nvars in effects.keys():\n",
    "\n",
    "    effect = effects[nvars]\n",
    "    for k in effect.keys():\n",
    "        v = effect[k]\n",
    "        master_dict[k] = v\n",
    "\n",
    "master_df = pd.DataFrame(master_dict).T\n",
    "master_df.columns = obs_list\n",
    "\n",
    "y1 = master_df['y1'].copy()\n",
    "y1.sort_values(inplace=True,ascending=False)\n",
    "\n",
    "print \"Top 10 effects for observable y1:\"\n",
    "print y1[:10]\n",
    "\n",
    "#print \"\"\n",
    "#print \"Bottom 10 effects for observable y1:\"\n",
    "#print y1[-10:][::-1]"
   ]
  },
  {
   "cell_type": "code",
   "execution_count": 260,
   "metadata": {
    "collapsed": false
   },
   "outputs": [
    {
     "name": "stdout",
     "output_type": "stream",
     "text": [
      "Top 10 effects for observable y2:\n",
      "x6                  5.661159\n",
      "x4                  5.013663\n",
      "x5                  5.012668\n",
      "x2                  4.658741\n",
      "x3                  4.604654\n",
      "x1                  4.218353\n",
      "(x1, x3, x4)        1.559923\n",
      "(x2, x4, x5, x6)    1.540609\n",
      "(x1, x3)            1.504189\n",
      "(x1, x4)            1.252670\n",
      "Name: y2, dtype: float64\n"
     ]
    }
   ],
   "source": [
    "y2 = master_df['y2'].copy()\n",
    "y2.sort_values(inplace=True,ascending=False)\n",
    "\n",
    "print \"Top 10 effects for observable y2:\"\n",
    "print y2[:10]\n",
    "#print \"\"\n",
    "#print \"Bottom 10 effects for observable y2:\"\n",
    "#print y2[-10:][::-1]"
   ]
  },
  {
   "cell_type": "code",
   "execution_count": 261,
   "metadata": {
    "collapsed": false
   },
   "outputs": [
    {
     "name": "stdout",
     "output_type": "stream",
     "text": [
      "Top 10 effects for observable y3:\n",
      "x6                  123.739117\n",
      "x5                  115.335962\n",
      "x3                   97.195835\n",
      "x4                   89.134394\n",
      "x2                   82.954376\n",
      "x1                   75.903985\n",
      "(x2, x4, x5, x6)     43.236888\n",
      "(x1, x3, x5)         35.941666\n",
      "(x1, x3)             32.915294\n",
      "(x1, x2, x4, x5)     28.093945\n",
      "Name: y3, dtype: float64\n"
     ]
    }
   ],
   "source": [
    "y3 = master_df['y3'].copy()\n",
    "y3.sort_values(inplace=True,ascending=False)\n",
    "\n",
    "print \"Top 10 effects for observable y3:\"\n",
    "print y3[:10]\n",
    "#print \"\"\n",
    "#print \"Bottom 10 effects for observable y3:\"\n",
    "#print y3[-10:][::-1]"
   ]
  },
  {
   "cell_type": "markdown",
   "metadata": {},
   "source": [
    "The three variables are affected most by:\n",
    "* $x_2$\n",
    "* $x_3$\n",
    "* $x_4$\n",
    "* $x_5$\n",
    "* $x_6$\n",
    "\n",
    "Our very expensive, 64-experiment full factorial design (the data for which maps $(x_1,x_2,\\dots,x_6)$ to $(y_1,y_2,y_3)$) gives us 64 data points, and 64 degrees of freedom. \n",
    "\n",
    "With these 64 pieces of data, we could fit a 64-coefficient response surface, that accounts for each of the variable interactions whose effects we've computed - from main effects on up to six-variable interaction effects. But this wastes many degrees of freedom, to fit coefficients that aren't that important. Most of the variation in the responses can be explained by a few main effects.\n",
    "\n",
    "Hence, to describe a model with the 5 variables listed above and no other variable interaction effects would use only 5 degrees of freedom, leaving 59 degrees of freedom available to quantify error, attribute variance, etc.\n",
    "\n",
    "Our goal is to use least squares to compute model equations for $(y_1,y_2,y_3)$ as functions of $(x_2,x_3,x_4,x_5,x_6)$. "
   ]
  },
  {
   "cell_type": "code",
   "execution_count": 262,
   "metadata": {
    "collapsed": false
   },
   "outputs": [],
   "source": [
    "xlabs = ['x2','x3','x4','x5','x6']\n",
    "ylabs = ['y1','y2','y3']\n",
    "ls_data = doe[xlabs+ylabs]"
   ]
  },
  {
   "cell_type": "code",
   "execution_count": 263,
   "metadata": {
    "collapsed": false
   },
   "outputs": [],
   "source": [
    "import statsmodels.api as sm\n",
    "import numpy as np\n",
    "\n",
    "x = ls_data[xlabs]\n",
    "x = sm.add_constant(x)"
   ]
  },
  {
   "cell_type": "markdown",
   "metadata": {},
   "source": [
    "The first ordinary least squares linear model is created to predict values of the first variable, $y_1$, as a function of each of our input variables, the list of which are contained in the ```xlabs``` variable. When we perform the linear regression fitting, we see much of the same information that we found in the prior two-level three-factor full factorial design, but here, everything is done automatically.\n",
    "\n",
    "The model is linear, meaning it's fitting the coefficients of the function:\n",
    "\n",
    "$$\n",
    "\\hat{y} = a_0 + a_1 x_1 + a_2 x_2 + a_3 + x_3 + a_4 x_4 + a_5 x_5 + a_6 x_6\n",
    "$$\n",
    "\n",
    "Because there are more observations than coefficients, the extra observations give us extra degrees of freedom with which to assess how good the model is. That analysis is done by the OLS object:"
   ]
  },
  {
   "cell_type": "code",
   "execution_count": 264,
   "metadata": {
    "collapsed": false
   },
   "outputs": [
    {
     "name": "stdout",
     "output_type": "stream",
     "text": [
      "                            OLS Regression Results                            \n",
      "==============================================================================\n",
      "Dep. Variable:                     y1   R-squared:                       0.624\n",
      "Model:                            OLS   Adj. R-squared:                  0.591\n",
      "Method:                 Least Squares   F-statistic:                     19.24\n",
      "Date:                Sat, 10 Dec 2016   Prob (F-statistic):           3.08e-11\n",
      "Time:                        19:14:22   Log-Likelihood:                -85.610\n",
      "No. Observations:                  64   AIC:                             183.2\n",
      "Df Residuals:                      58   BIC:                             196.2\n",
      "Df Model:                           5                                         \n",
      "Covariance Type:            nonrobust                                         \n",
      "==============================================================================\n",
      "                 coef    std err          t      P>|t|      [95.0% Conf. Int.]\n",
      "------------------------------------------------------------------------------\n",
      "const         -0.0491      0.121     -0.406      0.686        -0.291     0.193\n",
      "x2             0.5873      0.121      4.851      0.000         0.345     0.830\n",
      "x3             0.5352      0.121      4.421      0.000         0.293     0.778\n",
      "x4             0.4469      0.121      3.692      0.000         0.205     0.689\n",
      "x5             0.5088      0.121      4.203      0.000         0.266     0.751\n",
      "x6             0.5653      0.121      4.670      0.000         0.323     0.808\n",
      "==============================================================================\n",
      "Omnibus:                        0.622   Durbin-Watson:                   0.833\n",
      "Prob(Omnibus):                  0.733   Jarque-Bera (JB):                0.699\n",
      "Skew:                          -0.005   Prob(JB):                        0.705\n",
      "Kurtosis:                       2.488   Cond. No.                         1.00\n",
      "==============================================================================\n",
      "\n",
      "Warnings:\n",
      "[1] Standard Errors assume that the covariance matrix of the errors is correctly specified.\n"
     ]
    }
   ],
   "source": [
    "y1 = ls_data['y1']\n",
    "est1 = sm.OLS(y1,x).fit()\n",
    "print est1.summary()"
   ]
  },
  {
   "cell_type": "code",
   "execution_count": 265,
   "metadata": {
    "collapsed": false
   },
   "outputs": [
    {
     "name": "stdout",
     "output_type": "stream",
     "text": [
      "                            OLS Regression Results                            \n",
      "==============================================================================\n",
      "Dep. Variable:                     y2   R-squared:                       0.654\n",
      "Model:                            OLS   Adj. R-squared:                  0.624\n",
      "Method:                 Least Squares   F-statistic:                     21.90\n",
      "Date:                Sat, 10 Dec 2016   Prob (F-statistic):           2.99e-12\n",
      "Time:                        19:14:22   Log-Likelihood:                -180.68\n",
      "No. Observations:                  64   AIC:                             373.4\n",
      "Df Residuals:                      58   BIC:                             386.3\n",
      "Df Model:                           5                                         \n",
      "Covariance Type:            nonrobust                                         \n",
      "==============================================================================\n",
      "                 coef    std err          t      P>|t|      [95.0% Conf. Int.]\n",
      "------------------------------------------------------------------------------\n",
      "const          0.1396      0.535      0.261      0.795        -0.931     1.210\n",
      "x2             2.3294      0.535      4.356      0.000         1.259     3.400\n",
      "x3             2.3023      0.535      4.306      0.000         1.232     3.373\n",
      "x4             2.5068      0.535      4.688      0.000         1.437     3.577\n",
      "x5             2.5063      0.535      4.687      0.000         1.436     3.577\n",
      "x6             2.8306      0.535      5.294      0.000         1.760     3.901\n",
      "==============================================================================\n",
      "Omnibus:                        4.435   Durbin-Watson:                   1.329\n",
      "Prob(Omnibus):                  0.109   Jarque-Bera (JB):                3.760\n",
      "Skew:                          -0.585   Prob(JB):                        0.153\n",
      "Kurtosis:                       3.198   Cond. No.                         1.00\n",
      "==============================================================================\n",
      "\n",
      "Warnings:\n",
      "[1] Standard Errors assume that the covariance matrix of the errors is correctly specified.\n"
     ]
    }
   ],
   "source": [
    "y2 = ls_data['y2']\n",
    "est2 = sm.OLS(y2,x).fit()\n",
    "print est2.summary()"
   ]
  },
  {
   "cell_type": "code",
   "execution_count": 266,
   "metadata": {
    "collapsed": false
   },
   "outputs": [
    {
     "name": "stdout",
     "output_type": "stream",
     "text": [
      "                            OLS Regression Results                            \n",
      "==============================================================================\n",
      "Dep. Variable:                     y3   R-squared:                       0.704\n",
      "Model:                            OLS   Adj. R-squared:                  0.679\n",
      "Method:                 Least Squares   F-statistic:                     27.60\n",
      "Date:                Sat, 10 Dec 2016   Prob (F-statistic):           3.49e-14\n",
      "Time:                        19:14:23   Log-Likelihood:                -366.75\n",
      "No. Observations:                  64   AIC:                             745.5\n",
      "Df Residuals:                      58   BIC:                             758.4\n",
      "Df Model:                           5                                         \n",
      "Covariance Type:            nonrobust                                         \n",
      "==============================================================================\n",
      "                 coef    std err          t      P>|t|      [95.0% Conf. Int.]\n",
      "------------------------------------------------------------------------------\n",
      "const         -0.0696      9.789     -0.007      0.994       -19.664    19.525\n",
      "x2            41.4772      9.789      4.237      0.000        21.882    61.072\n",
      "x3            48.5979      9.789      4.965      0.000        29.003    68.193\n",
      "x4            44.5672      9.789      4.553      0.000        24.972    64.162\n",
      "x5            57.6680      9.789      5.891      0.000        38.073    77.263\n",
      "x6            61.8696      9.789      6.320      0.000        42.275    81.464\n",
      "==============================================================================\n",
      "Omnibus:                        0.844   Durbin-Watson:                   1.606\n",
      "Prob(Omnibus):                  0.656   Jarque-Bera (JB):                0.856\n",
      "Skew:                          -0.093   Prob(JB):                        0.652\n",
      "Kurtosis:                       2.465   Cond. No.                         1.00\n",
      "==============================================================================\n",
      "\n",
      "Warnings:\n",
      "[1] Standard Errors assume that the covariance matrix of the errors is correctly specified.\n"
     ]
    }
   ],
   "source": [
    "y3 = ls_data['y3']\n",
    "est3 = sm.OLS(y3,x).fit()\n",
    "print est3.summary()"
   ]
  },
  {
   "cell_type": "markdown",
   "metadata": {},
   "source": [
    "We drastically reduced the cost of our linear model, by reducing 64 terms to 5. The R-squared values given above show that the fit is not very good, but let's start by quantifying the error introduced by reducing the number of variables to see if we're missing anything important.\n",
    "\n",
    "To do this, we use a quantile-quantile plot to compare our model predictions to data. For each of our 64 experiments, we compute a model prediction $M$ and compare it with data $d$. This results in a residual $r$,\n",
    "\n",
    "$$\n",
    "r = \\left| d - M \\right|\n",
    "$$\n",
    "\n",
    "If the model accurately captures the behavior of the underlying data, the error between the model and the data will be purely random, and the residuals will therefore be normally distributed. If there are residuals that are significant outliers, it indicates underlying structure to the residuals and therefore structure that is missed by the model.\n",
    "\n",
    "When the residuals for each experiment are plotted on a quantile-quantile plot, the points will line up on a straight line if they are normally distributed. Significant deviation by outlier points is indicative of a poor model fit."
   ]
  },
  {
   "cell_type": "code",
   "execution_count": 267,
   "metadata": {
    "collapsed": false
   },
   "outputs": [
    {
     "data": {
      "image/png": "[encoded data removed]",
      "text/plain": [
       "<matplotlib.figure.Figure at 0x10d5689d0>"
      ]
     },
     "metadata": {},
     "output_type": "display_data"
    }
   ],
   "source": [
    "%matplotlib inline\n",
    "import seaborn as sns\n",
    "import scipy.stats as stats\n",
    "from matplotlib.pyplot import *\n",
    "\n",
    "# Quantify goodness of fit\n",
    "\n",
    "fig = figure(figsize=(14,4))\n",
    "ax1 = fig.add_subplot(131)\n",
    "ax2 = fig.add_subplot(132)\n",
    "ax3 = fig.add_subplot(133)\n",
    "\n",
    "r1 = y1 - est1.predict(x)\n",
    "r2 = y2 - est2.predict(x)\n",
    "r3 = y3 - est3.predict(x)\n",
    "\n",
    "stats.probplot(r1, dist=\"norm\", plot=ax1)\n",
    "ax1.set_title('Residuals, y1')\n",
    "\n",
    "stats.probplot(r2, dist=\"norm\", plot=ax2)\n",
    "ax2.set_title('Residuals, y2')\n",
    "\n",
    "stats.probplot(r3, dist=\"norm\", plot=ax3)\n",
    "ax3.set_title('Residuals, y3')\n",
    "\n",
    "pylab.show()"
   ]
  },
  {
   "cell_type": "markdown",
   "metadata": {},
   "source": [
    "Determining whether significant trends are being missed by the model depends on how many points deviate from the red line, and how significantly. If there is a single point that deviates, it does not necessarily indicate a problem; but if there is significant wiggle and most points deviate significantly from the red line, it means that there is something about the relationship between the inputs and the outputs that our model is missing.\n",
    "\n",
    "Another thing we can look at is the normalized error: what are the residual errors (differences between our model prediction and our data)? How are they distributed? A kernel density estimate (KDE) plot, which is a smoothed histogram, shows the probability distribution of the normalized residual errors. As expected, they're bunched pretty close to zero. There are some bumps far from zero, but as we saw from the quantile-quantile plots above, these residuals are distributed the same way normal, random variables are distributed; there's no systematic bias there."
   ]
  },
  {
   "cell_type": "code",
   "execution_count": 268,
   "metadata": {
    "collapsed": false
   },
   "outputs": [
    {
     "data": {
      "text/plain": [
       "<matplotlib.text.Text at 0x113b725d0>"
      ]
     },
     "execution_count": 268,
     "metadata": {},
     "output_type": "execute_result"
    },
    {
     "data": {
      "image/png": "[encoded data removed]",
      "text/plain": [
       "<matplotlib.figure.Figure at 0x10d5a0390>"
      ]
     },
     "metadata": {},
     "output_type": "display_data"
    }
   ],
   "source": [
    "fig = figure(figsize=(10,12))\n",
    "ax1 = fig.add_subplot(311)\n",
    "ax2 = fig.add_subplot(312)\n",
    "ax3 = fig.add_subplot(313)\n",
    "axes = [ax1,ax2,ax3]\n",
    "\n",
    "colors = sns.xkcd_palette([\"windows blue\", \"amber\", \"faded green\", \"dusty purple\",\"aqua blue\"])\n",
    "\n",
    "normed_resids = [r1/y1, r2/y2, r3/y3]\n",
    "\n",
    "for (dataa, axx, colorr) in zip(normed_resids,axes,colors):\n",
    "    sns.kdeplot(dataa, bw=0.5, ax=axx, color=colorr, shade=True, alpha=0.5);\n",
    "\n",
    "ax1.set_title('Probability Distribution: Normalized Residual Error, y1')\n",
    "ax2.set_title('Normalized Residual Error, y2')\n",
    "ax3.set_title('Normalized Residual Error, y3')\n"
   ]
  },
  {
   "cell_type": "markdown",
   "metadata": {},
   "source": [
    "Box and Draper next report aggregated experiment results, by computing the mean effect for the regressed variables. This is simple to do with Pandas, by grouping the data by each variable, and applying the mean function on all of the results. The code looks like this:"
   ]
  },
  {
   "cell_type": "code",
   "execution_count": 269,
   "metadata": {
    "collapsed": false
   },
   "outputs": [
    {
     "data": {
      "text/html": [
       "<div>\n",
       "<table border=\"1\" class=\"dataframe\">\n",
       "  <thead>\n",
       "    <tr style=\"text-align: right;\">\n",
       "      <th></th>\n",
       "      <th></th>\n",
       "      <th></th>\n",
       "      <th></th>\n",
       "      <th></th>\n",
       "      <th>y1</th>\n",
       "      <th>y2</th>\n",
       "      <th>y3</th>\n",
       "    </tr>\n",
       "    <tr>\n",
       "      <th>x2</th>\n",
       "      <th>x3</th>\n",
       "      <th>x4</th>\n",
       "      <th>x5</th>\n",
       "      <th>x6</th>\n",
       "      <th></th>\n",
       "      <th></th>\n",
       "      <th></th>\n",
       "    </tr>\n",
       "  </thead>\n",
       "  <tbody>\n",
       "    <tr>\n",
       "      <th rowspan=\"16\" valign=\"top\">-1</th>\n",
       "      <th rowspan=\"8\" valign=\"top\">-1</th>\n",
       "      <th rowspan=\"4\" valign=\"top\">-1</th>\n",
       "      <th rowspan=\"2\" valign=\"top\">-1</th>\n",
       "      <th>-1</th>\n",
       "      <td>-3.211725</td>\n",
       "      <td>-12.185073</td>\n",
       "      <td>-281.546942</td>\n",
       "    </tr>\n",
       "    <tr>\n",
       "      <th>1</th>\n",
       "      <td>-1.347307</td>\n",
       "      <td>-11.580542</td>\n",
       "      <td>-108.123240</td>\n",
       "    </tr>\n",
       "    <tr>\n",
       "      <th rowspan=\"2\" valign=\"top\">1</th>\n",
       "      <th>-1</th>\n",
       "      <td>-2.144340</td>\n",
       "      <td>-10.383312</td>\n",
       "      <td>-130.920538</td>\n",
       "    </tr>\n",
       "    <tr>\n",
       "      <th>1</th>\n",
       "      <td>-1.301260</td>\n",
       "      <td>-1.153341</td>\n",
       "      <td>-46.675070</td>\n",
       "    </tr>\n",
       "    <tr>\n",
       "      <th rowspan=\"4\" valign=\"top\">1</th>\n",
       "      <th rowspan=\"2\" valign=\"top\">-1</th>\n",
       "      <th>-1</th>\n",
       "      <td>-1.906172</td>\n",
       "      <td>-9.961799</td>\n",
       "      <td>-194.322908</td>\n",
       "    </tr>\n",
       "    <tr>\n",
       "      <th>1</th>\n",
       "      <td>-0.168410</td>\n",
       "      <td>-1.317760</td>\n",
       "      <td>26.940981</td>\n",
       "    </tr>\n",
       "    <tr>\n",
       "      <th rowspan=\"2\" valign=\"top\">1</th>\n",
       "      <th>-1</th>\n",
       "      <td>-0.635199</td>\n",
       "      <td>-0.951919</td>\n",
       "      <td>-2.349819</td>\n",
       "    </tr>\n",
       "    <tr>\n",
       "      <th>1</th>\n",
       "      <td>1.709336</td>\n",
       "      <td>3.306031</td>\n",
       "      <td>18.389126</td>\n",
       "    </tr>\n",
       "    <tr>\n",
       "      <th rowspan=\"8\" valign=\"top\">1</th>\n",
       "      <th rowspan=\"4\" valign=\"top\">-1</th>\n",
       "      <th rowspan=\"2\" valign=\"top\">-1</th>\n",
       "      <th>-1</th>\n",
       "      <td>-1.195488</td>\n",
       "      <td>-5.354026</td>\n",
       "      <td>-176.132118</td>\n",
       "    </tr>\n",
       "    <tr>\n",
       "      <th>1</th>\n",
       "      <td>-1.261892</td>\n",
       "      <td>-3.660498</td>\n",
       "      <td>-15.469644</td>\n",
       "    </tr>\n",
       "    <tr>\n",
       "      <th rowspan=\"2\" valign=\"top\">1</th>\n",
       "      <th>-1</th>\n",
       "      <td>-1.059140</td>\n",
       "      <td>-3.156082</td>\n",
       "      <td>-47.106444</td>\n",
       "    </tr>\n",
       "    <tr>\n",
       "      <th>1</th>\n",
       "      <td>0.702842</td>\n",
       "      <td>5.908688</td>\n",
       "      <td>71.441896</td>\n",
       "    </tr>\n",
       "    <tr>\n",
       "      <th rowspan=\"4\" valign=\"top\">1</th>\n",
       "      <th rowspan=\"2\" valign=\"top\">-1</th>\n",
       "      <th>-1</th>\n",
       "      <td>-0.269916</td>\n",
       "      <td>-1.300437</td>\n",
       "      <td>-111.674892</td>\n",
       "    </tr>\n",
       "    <tr>\n",
       "      <th>1</th>\n",
       "      <td>-0.081136</td>\n",
       "      <td>3.732592</td>\n",
       "      <td>49.611068</td>\n",
       "    </tr>\n",
       "    <tr>\n",
       "      <th rowspan=\"2\" valign=\"top\">1</th>\n",
       "      <th>-1</th>\n",
       "      <td>0.308932</td>\n",
       "      <td>4.863133</td>\n",
       "      <td>106.421422</td>\n",
       "    </tr>\n",
       "    <tr>\n",
       "      <th>1</th>\n",
       "      <td>1.678435</td>\n",
       "      <td>8.158197</td>\n",
       "      <td>176.768397</td>\n",
       "    </tr>\n",
       "    <tr>\n",
       "      <th rowspan=\"16\" valign=\"top\">1</th>\n",
       "      <th rowspan=\"8\" valign=\"top\">-1</th>\n",
       "      <th rowspan=\"4\" valign=\"top\">-1</th>\n",
       "      <th rowspan=\"2\" valign=\"top\">-1</th>\n",
       "      <th>-1</th>\n",
       "      <td>-1.322326</td>\n",
       "      <td>-7.951727</td>\n",
       "      <td>-167.439925</td>\n",
       "    </tr>\n",
       "    <tr>\n",
       "      <th>1</th>\n",
       "      <td>0.004461</td>\n",
       "      <td>-2.205055</td>\n",
       "      <td>-53.287059</td>\n",
       "    </tr>\n",
       "    <tr>\n",
       "      <th rowspan=\"2\" valign=\"top\">1</th>\n",
       "      <th>-1</th>\n",
       "      <td>-0.605233</td>\n",
       "      <td>-0.133849</td>\n",
       "      <td>37.330240</td>\n",
       "    </tr>\n",
       "    <tr>\n",
       "      <th>1</th>\n",
       "      <td>0.800441</td>\n",
       "      <td>5.494772</td>\n",
       "      <td>-12.448917</td>\n",
       "    </tr>\n",
       "    <tr>\n",
       "      <th rowspan=\"4\" valign=\"top\">1</th>\n",
       "      <th rowspan=\"2\" valign=\"top\">-1</th>\n",
       "      <th>-1</th>\n",
       "      <td>-0.688368</td>\n",
       "      <td>-1.556318</td>\n",
       "      <td>-78.084334</td>\n",
       "    </tr>\n",
       "    <tr>\n",
       "      <th>1</th>\n",
       "      <td>0.090828</td>\n",
       "      <td>3.963231</td>\n",
       "      <td>64.279217</td>\n",
       "    </tr>\n",
       "    <tr>\n",
       "      <th rowspan=\"2\" valign=\"top\">1</th>\n",
       "      <th>-1</th>\n",
       "      <td>0.104396</td>\n",
       "      <td>1.993835</td>\n",
       "      <td>-4.411368</td>\n",
       "    </tr>\n",
       "    <tr>\n",
       "      <th>1</th>\n",
       "      <td>1.271307</td>\n",
       "      <td>10.019373</td>\n",
       "      <td>153.990164</td>\n",
       "    </tr>\n",
       "    <tr>\n",
       "      <th rowspan=\"8\" valign=\"top\">1</th>\n",
       "      <th rowspan=\"4\" valign=\"top\">-1</th>\n",
       "      <th rowspan=\"2\" valign=\"top\">-1</th>\n",
       "      <th>-1</th>\n",
       "      <td>0.167001</td>\n",
       "      <td>0.695130</td>\n",
       "      <td>-133.357948</td>\n",
       "    </tr>\n",
       "    <tr>\n",
       "      <th>1</th>\n",
       "      <td>0.708517</td>\n",
       "      <td>3.714168</td>\n",
       "      <td>128.393088</td>\n",
       "    </tr>\n",
       "    <tr>\n",
       "      <th rowspan=\"2\" valign=\"top\">1</th>\n",
       "      <th>-1</th>\n",
       "      <td>1.268110</td>\n",
       "      <td>0.243256</td>\n",
       "      <td>83.529775</td>\n",
       "    </tr>\n",
       "    <tr>\n",
       "      <th>1</th>\n",
       "      <td>1.860563</td>\n",
       "      <td>3.831968</td>\n",
       "      <td>137.623985</td>\n",
       "    </tr>\n",
       "    <tr>\n",
       "      <th rowspan=\"4\" valign=\"top\">1</th>\n",
       "      <th rowspan=\"2\" valign=\"top\">-1</th>\n",
       "      <th>-1</th>\n",
       "      <td>0.285086</td>\n",
       "      <td>-0.637949</td>\n",
       "      <td>27.123060</td>\n",
       "    </tr>\n",
       "    <tr>\n",
       "      <th>1</th>\n",
       "      <td>1.269959</td>\n",
       "      <td>7.738500</td>\n",
       "      <td>99.290188</td>\n",
       "    </tr>\n",
       "    <tr>\n",
       "      <th rowspan=\"2\" valign=\"top\">1</th>\n",
       "      <th>-1</th>\n",
       "      <td>1.073000</td>\n",
       "      <td>2.721641</td>\n",
       "      <td>81.916091</td>\n",
       "    </tr>\n",
       "    <tr>\n",
       "      <th>1</th>\n",
       "      <td>2.322472</td>\n",
       "      <td>11.572728</td>\n",
       "      <td>298.075041</td>\n",
       "    </tr>\n",
       "  </tbody>\n",
       "</table>\n",
       "</div>"
      ],
      "text/plain": [
       "                      y1         y2          y3\n",
       "x2 x3 x4 x5 x6                                 \n",
       "-1 -1 -1 -1 -1 -3.211725 -12.185073 -281.546942\n",
       "             1 -1.347307 -11.580542 -108.123240\n",
       "          1 -1 -2.144340 -10.383312 -130.920538\n",
       "             1 -1.301260  -1.153341  -46.675070\n",
       "       1 -1 -1 -1.906172  -9.961799 -194.322908\n",
       "             1 -0.168410  -1.317760   26.940981\n",
       "          1 -1 -0.635199  -0.951919   -2.349819\n",
       "             1  1.709336   3.306031   18.389126\n",
       "    1 -1 -1 -1 -1.195488  -5.354026 -176.132118\n",
       "             1 -1.261892  -3.660498  -15.469644\n",
       "          1 -1 -1.059140  -3.156082  -47.106444\n",
       "             1  0.702842   5.908688   71.441896\n",
       "       1 -1 -1 -0.269916  -1.300437 -111.674892\n",
       "             1 -0.081136   3.732592   49.611068\n",
       "          1 -1  0.308932   4.863133  106.421422\n",
       "             1  1.678435   8.158197  176.768397\n",
       " 1 -1 -1 -1 -1 -1.322326  -7.951727 -167.439925\n",
       "             1  0.004461  -2.205055  -53.287059\n",
       "          1 -1 -0.605233  -0.133849   37.330240\n",
       "             1  0.800441   5.494772  -12.448917\n",
       "       1 -1 -1 -0.688368  -1.556318  -78.084334\n",
       "             1  0.090828   3.963231   64.279217\n",
       "          1 -1  0.104396   1.993835   -4.411368\n",
       "             1  1.271307  10.019373  153.990164\n",
       "    1 -1 -1 -1  0.167001   0.695130 -133.357948\n",
       "             1  0.708517   3.714168  128.393088\n",
       "          1 -1  1.268110   0.243256   83.529775\n",
       "             1  1.860563   3.831968  137.623985\n",
       "       1 -1 -1  0.285086  -0.637949   27.123060\n",
       "             1  1.269959   7.738500   99.290188\n",
       "          1 -1  1.073000   2.721641   81.916091\n",
       "             1  2.322472  11.572728  298.075041"
      ]
     },
     "execution_count": 269,
     "metadata": {},
     "output_type": "execute_result"
    }
   ],
   "source": [
    "# Our original regression variables\n",
    "xlabs = ['x2','x3','x4','x5','x6']\n",
    "doe.groupby(xlabs)[ylabs].mean()"
   ]
  },
  {
   "cell_type": "code",
   "execution_count": 270,
   "metadata": {
    "collapsed": false
   },
   "outputs": [
    {
     "data": {
      "text/html": [
       "<div>\n",
       "<table border=\"1\" class=\"dataframe\">\n",
       "  <thead>\n",
       "    <tr style=\"text-align: right;\">\n",
       "      <th></th>\n",
       "      <th></th>\n",
       "      <th></th>\n",
       "      <th></th>\n",
       "      <th>y1</th>\n",
       "      <th>y2</th>\n",
       "      <th>y3</th>\n",
       "    </tr>\n",
       "    <tr>\n",
       "      <th>x2</th>\n",
       "      <th>x3</th>\n",
       "      <th>x4</th>\n",
       "      <th>x6</th>\n",
       "      <th></th>\n",
       "      <th></th>\n",
       "      <th></th>\n",
       "    </tr>\n",
       "  </thead>\n",
       "  <tbody>\n",
       "    <tr>\n",
       "      <th rowspan=\"8\" valign=\"top\">-1</th>\n",
       "      <th rowspan=\"4\" valign=\"top\">-1</th>\n",
       "      <th rowspan=\"2\" valign=\"top\">-1</th>\n",
       "      <th>-1</th>\n",
       "      <td>-2.678033</td>\n",
       "      <td>-11.284192</td>\n",
       "      <td>-206.233740</td>\n",
       "    </tr>\n",
       "    <tr>\n",
       "      <th>1</th>\n",
       "      <td>-1.324283</td>\n",
       "      <td>-6.366941</td>\n",
       "      <td>-77.399155</td>\n",
       "    </tr>\n",
       "    <tr>\n",
       "      <th rowspan=\"2\" valign=\"top\">1</th>\n",
       "      <th>-1</th>\n",
       "      <td>-1.270686</td>\n",
       "      <td>-5.456859</td>\n",
       "      <td>-98.336363</td>\n",
       "    </tr>\n",
       "    <tr>\n",
       "      <th>1</th>\n",
       "      <td>0.770463</td>\n",
       "      <td>0.994135</td>\n",
       "      <td>22.665054</td>\n",
       "    </tr>\n",
       "    <tr>\n",
       "      <th rowspan=\"4\" valign=\"top\">1</th>\n",
       "      <th rowspan=\"2\" valign=\"top\">-1</th>\n",
       "      <th>-1</th>\n",
       "      <td>-1.127314</td>\n",
       "      <td>-4.255054</td>\n",
       "      <td>-111.619281</td>\n",
       "    </tr>\n",
       "    <tr>\n",
       "      <th>1</th>\n",
       "      <td>-0.279525</td>\n",
       "      <td>1.124095</td>\n",
       "      <td>27.986126</td>\n",
       "    </tr>\n",
       "    <tr>\n",
       "      <th rowspan=\"2\" valign=\"top\">1</th>\n",
       "      <th>-1</th>\n",
       "      <td>0.019508</td>\n",
       "      <td>1.781348</td>\n",
       "      <td>-2.626735</td>\n",
       "    </tr>\n",
       "    <tr>\n",
       "      <th>1</th>\n",
       "      <td>0.798650</td>\n",
       "      <td>5.945395</td>\n",
       "      <td>113.189733</td>\n",
       "    </tr>\n",
       "    <tr>\n",
       "      <th rowspan=\"8\" valign=\"top\">1</th>\n",
       "      <th rowspan=\"4\" valign=\"top\">-1</th>\n",
       "      <th rowspan=\"2\" valign=\"top\">-1</th>\n",
       "      <th>-1</th>\n",
       "      <td>-0.963780</td>\n",
       "      <td>-4.042788</td>\n",
       "      <td>-65.054843</td>\n",
       "    </tr>\n",
       "    <tr>\n",
       "      <th>1</th>\n",
       "      <td>0.402451</td>\n",
       "      <td>1.644858</td>\n",
       "      <td>-32.867988</td>\n",
       "    </tr>\n",
       "    <tr>\n",
       "      <th rowspan=\"2\" valign=\"top\">1</th>\n",
       "      <th>-1</th>\n",
       "      <td>-0.291986</td>\n",
       "      <td>0.218758</td>\n",
       "      <td>-41.247851</td>\n",
       "    </tr>\n",
       "    <tr>\n",
       "      <th>1</th>\n",
       "      <td>0.681067</td>\n",
       "      <td>6.991302</td>\n",
       "      <td>109.134691</td>\n",
       "    </tr>\n",
       "    <tr>\n",
       "      <th rowspan=\"4\" valign=\"top\">1</th>\n",
       "      <th rowspan=\"2\" valign=\"top\">-1</th>\n",
       "      <th>-1</th>\n",
       "      <td>0.717555</td>\n",
       "      <td>0.469193</td>\n",
       "      <td>-24.914087</td>\n",
       "    </tr>\n",
       "    <tr>\n",
       "      <th>1</th>\n",
       "      <td>1.284540</td>\n",
       "      <td>3.773068</td>\n",
       "      <td>133.008536</td>\n",
       "    </tr>\n",
       "    <tr>\n",
       "      <th rowspan=\"2\" valign=\"top\">1</th>\n",
       "      <th>-1</th>\n",
       "      <td>0.679043</td>\n",
       "      <td>1.041846</td>\n",
       "      <td>54.519575</td>\n",
       "    </tr>\n",
       "    <tr>\n",
       "      <th>1</th>\n",
       "      <td>1.796216</td>\n",
       "      <td>9.655614</td>\n",
       "      <td>198.682614</td>\n",
       "    </tr>\n",
       "  </tbody>\n",
       "</table>\n",
       "</div>"
      ],
      "text/plain": [
       "                   y1         y2          y3\n",
       "x2 x3 x4 x6                                 \n",
       "-1 -1 -1 -1 -2.678033 -11.284192 -206.233740\n",
       "          1 -1.324283  -6.366941  -77.399155\n",
       "       1 -1 -1.270686  -5.456859  -98.336363\n",
       "          1  0.770463   0.994135   22.665054\n",
       "    1 -1 -1 -1.127314  -4.255054 -111.619281\n",
       "          1 -0.279525   1.124095   27.986126\n",
       "       1 -1  0.019508   1.781348   -2.626735\n",
       "          1  0.798650   5.945395  113.189733\n",
       " 1 -1 -1 -1 -0.963780  -4.042788  -65.054843\n",
       "          1  0.402451   1.644858  -32.867988\n",
       "       1 -1 -0.291986   0.218758  -41.247851\n",
       "          1  0.681067   6.991302  109.134691\n",
       "    1 -1 -1  0.717555   0.469193  -24.914087\n",
       "          1  1.284540   3.773068  133.008536\n",
       "       1 -1  0.679043   1.041846   54.519575\n",
       "          1  1.796216   9.655614  198.682614"
      ]
     },
     "execution_count": 270,
     "metadata": {},
     "output_type": "execute_result"
    }
   ],
   "source": [
    "# If we decided to go for a smaller variable set\n",
    "xlabs = ['x2','x3','x4','x6']\n",
    "doe.groupby(xlabs)[ylabs].mean()"
   ]
  },
  {
   "cell_type": "markdown",
   "metadata": {},
   "source": [
    "This functionality can also be used to determine the variance in all of the experimental observations being aggregated:"
   ]
  },
  {
   "cell_type": "code",
   "execution_count": 271,
   "metadata": {
    "collapsed": false
   },
   "outputs": [
    {
     "data": {
      "text/html": [
       "<div>\n",
       "<table border=\"1\" class=\"dataframe\">\n",
       "  <thead>\n",
       "    <tr style=\"text-align: right;\">\n",
       "      <th></th>\n",
       "      <th></th>\n",
       "      <th></th>\n",
       "      <th></th>\n",
       "      <th>y1</th>\n",
       "      <th>y2</th>\n",
       "      <th>y3</th>\n",
       "    </tr>\n",
       "    <tr>\n",
       "      <th>x2</th>\n",
       "      <th>x3</th>\n",
       "      <th>x4</th>\n",
       "      <th>x6</th>\n",
       "      <th></th>\n",
       "      <th></th>\n",
       "      <th></th>\n",
       "    </tr>\n",
       "  </thead>\n",
       "  <tbody>\n",
       "    <tr>\n",
       "      <th rowspan=\"8\" valign=\"top\">-1</th>\n",
       "      <th rowspan=\"4\" valign=\"top\">-1</th>\n",
       "      <th rowspan=\"2\" valign=\"top\">-1</th>\n",
       "      <th>-1</th>\n",
       "      <td>1.647406</td>\n",
       "      <td>2.621017</td>\n",
       "      <td>10286.706366</td>\n",
       "    </tr>\n",
       "    <tr>\n",
       "      <th>1</th>\n",
       "      <td>1.892391</td>\n",
       "      <td>53.029322</td>\n",
       "      <td>6554.354734</td>\n",
       "    </tr>\n",
       "    <tr>\n",
       "      <th rowspan=\"2\" valign=\"top\">1</th>\n",
       "      <th>-1</th>\n",
       "      <td>1.789536</td>\n",
       "      <td>33.880178</td>\n",
       "      <td>19247.170234</td>\n",
       "    </tr>\n",
       "    <tr>\n",
       "      <th>1</th>\n",
       "      <td>1.809370</td>\n",
       "      <td>35.282430</td>\n",
       "      <td>237.001319</td>\n",
       "    </tr>\n",
       "    <tr>\n",
       "      <th rowspan=\"4\" valign=\"top\">1</th>\n",
       "      <th rowspan=\"2\" valign=\"top\">-1</th>\n",
       "      <th>-1</th>\n",
       "      <td>2.232020</td>\n",
       "      <td>5.917924</td>\n",
       "      <td>14968.342789</td>\n",
       "    </tr>\n",
       "    <tr>\n",
       "      <th>1</th>\n",
       "      <td>1.359141</td>\n",
       "      <td>32.407526</td>\n",
       "      <td>5709.326334</td>\n",
       "    </tr>\n",
       "    <tr>\n",
       "      <th rowspan=\"2\" valign=\"top\">1</th>\n",
       "      <th>-1</th>\n",
       "      <td>0.193971</td>\n",
       "      <td>32.080652</td>\n",
       "      <td>17033.047766</td>\n",
       "    </tr>\n",
       "    <tr>\n",
       "      <th>1</th>\n",
       "      <td>1.035325</td>\n",
       "      <td>44.146043</td>\n",
       "      <td>8793.486031</td>\n",
       "    </tr>\n",
       "    <tr>\n",
       "      <th rowspan=\"8\" valign=\"top\">1</th>\n",
       "      <th rowspan=\"4\" valign=\"top\">-1</th>\n",
       "      <th rowspan=\"2\" valign=\"top\">-1</th>\n",
       "      <th>-1</th>\n",
       "      <td>0.900287</td>\n",
       "      <td>25.364444</td>\n",
       "      <td>16084.836602</td>\n",
       "    </tr>\n",
       "    <tr>\n",
       "      <th>1</th>\n",
       "      <td>1.052776</td>\n",
       "      <td>40.608948</td>\n",
       "      <td>1186.630860</td>\n",
       "    </tr>\n",
       "    <tr>\n",
       "      <th rowspan=\"2\" valign=\"top\">1</th>\n",
       "      <th>-1</th>\n",
       "      <td>0.713900</td>\n",
       "      <td>13.933349</td>\n",
       "      <td>14112.155115</td>\n",
       "    </tr>\n",
       "    <tr>\n",
       "      <th>1</th>\n",
       "      <td>1.074363</td>\n",
       "      <td>14.009245</td>\n",
       "      <td>4782.994299</td>\n",
       "    </tr>\n",
       "    <tr>\n",
       "      <th rowspan=\"4\" valign=\"top\">1</th>\n",
       "      <th rowspan=\"2\" valign=\"top\">-1</th>\n",
       "      <th>-1</th>\n",
       "      <td>2.310793</td>\n",
       "      <td>17.685696</td>\n",
       "      <td>24393.965427</td>\n",
       "    </tr>\n",
       "    <tr>\n",
       "      <th>1</th>\n",
       "      <td>0.827468</td>\n",
       "      <td>17.390114</td>\n",
       "      <td>10640.300108</td>\n",
       "    </tr>\n",
       "    <tr>\n",
       "      <th rowspan=\"2\" valign=\"top\">1</th>\n",
       "      <th>-1</th>\n",
       "      <td>1.022107</td>\n",
       "      <td>54.849564</td>\n",
       "      <td>12781.684398</td>\n",
       "    </tr>\n",
       "    <tr>\n",
       "      <th>1</th>\n",
       "      <td>0.908887</td>\n",
       "      <td>21.105068</td>\n",
       "      <td>14551.982529</td>\n",
       "    </tr>\n",
       "  </tbody>\n",
       "</table>\n",
       "</div>"
      ],
      "text/plain": [
       "                   y1         y2            y3\n",
       "x2 x3 x4 x6                                   \n",
       "-1 -1 -1 -1  1.647406   2.621017  10286.706366\n",
       "          1  1.892391  53.029322   6554.354734\n",
       "       1 -1  1.789536  33.880178  19247.170234\n",
       "          1  1.809370  35.282430    237.001319\n",
       "    1 -1 -1  2.232020   5.917924  14968.342789\n",
       "          1  1.359141  32.407526   5709.326334\n",
       "       1 -1  0.193971  32.080652  17033.047766\n",
       "          1  1.035325  44.146043   8793.486031\n",
       " 1 -1 -1 -1  0.900287  25.364444  16084.836602\n",
       "          1  1.052776  40.608948   1186.630860\n",
       "       1 -1  0.713900  13.933349  14112.155115\n",
       "          1  1.074363  14.009245   4782.994299\n",
       "    1 -1 -1  2.310793  17.685696  24393.965427\n",
       "          1  0.827468  17.390114  10640.300108\n",
       "       1 -1  1.022107  54.849564  12781.684398\n",
       "          1  0.908887  21.105068  14551.982529"
      ]
     },
     "execution_count": 271,
     "metadata": {},
     "output_type": "execute_result"
    }
   ],
   "source": [
    "doe.groupby(xlabs)[ylabs].var()"
   ]
  },
  {
   "cell_type": "markdown",
   "metadata": {},
   "source": [
    "Or even the number of experimental observations being aggregated!"
   ]
  },
  {
   "cell_type": "code",
   "execution_count": 272,
   "metadata": {
    "collapsed": false
   },
   "outputs": [
    {
     "data": {
      "text/html": [
       "<div>\n",
       "<table border=\"1\" class=\"dataframe\">\n",
       "  <thead>\n",
       "    <tr style=\"text-align: right;\">\n",
       "      <th></th>\n",
       "      <th></th>\n",
       "      <th></th>\n",
       "      <th></th>\n",
       "      <th>y1</th>\n",
       "      <th>y2</th>\n",
       "      <th>y3</th>\n",
       "    </tr>\n",
       "    <tr>\n",
       "      <th>x2</th>\n",
       "      <th>x3</th>\n",
       "      <th>x4</th>\n",
       "      <th>x6</th>\n",
       "      <th></th>\n",
       "      <th></th>\n",
       "      <th></th>\n",
       "    </tr>\n",
       "  </thead>\n",
       "  <tbody>\n",
       "    <tr>\n",
       "      <th rowspan=\"8\" valign=\"top\">-1</th>\n",
       "      <th rowspan=\"4\" valign=\"top\">-1</th>\n",
       "      <th rowspan=\"2\" valign=\"top\">-1</th>\n",
       "      <th>-1</th>\n",
       "      <td>4</td>\n",
       "      <td>4</td>\n",
       "      <td>4</td>\n",
       "    </tr>\n",
       "    <tr>\n",
       "      <th>1</th>\n",
       "      <td>4</td>\n",
       "      <td>4</td>\n",
       "      <td>4</td>\n",
       "    </tr>\n",
       "    <tr>\n",
       "      <th rowspan=\"2\" valign=\"top\">1</th>\n",
       "      <th>-1</th>\n",
       "      <td>4</td>\n",
       "      <td>4</td>\n",
       "      <td>4</td>\n",
       "    </tr>\n",
       "    <tr>\n",
       "      <th>1</th>\n",
       "      <td>4</td>\n",
       "      <td>4</td>\n",
       "      <td>4</td>\n",
       "    </tr>\n",
       "    <tr>\n",
       "      <th rowspan=\"4\" valign=\"top\">1</th>\n",
       "      <th rowspan=\"2\" valign=\"top\">-1</th>\n",
       "      <th>-1</th>\n",
       "      <td>4</td>\n",
       "      <td>4</td>\n",
       "      <td>4</td>\n",
       "    </tr>\n",
       "    <tr>\n",
       "      <th>1</th>\n",
       "      <td>4</td>\n",
       "      <td>4</td>\n",
       "      <td>4</td>\n",
       "    </tr>\n",
       "    <tr>\n",
       "      <th rowspan=\"2\" valign=\"top\">1</th>\n",
       "      <th>-1</th>\n",
       "      <td>4</td>\n",
       "      <td>4</td>\n",
       "      <td>4</td>\n",
       "    </tr>\n",
       "    <tr>\n",
       "      <th>1</th>\n",
       "      <td>4</td>\n",
       "      <td>4</td>\n",
       "      <td>4</td>\n",
       "    </tr>\n",
       "    <tr>\n",
       "      <th rowspan=\"8\" valign=\"top\">1</th>\n",
       "      <th rowspan=\"4\" valign=\"top\">-1</th>\n",
       "      <th rowspan=\"2\" valign=\"top\">-1</th>\n",
       "      <th>-1</th>\n",
       "      <td>4</td>\n",
       "      <td>4</td>\n",
       "      <td>4</td>\n",
       "    </tr>\n",
       "    <tr>\n",
       "      <th>1</th>\n",
       "      <td>4</td>\n",
       "      <td>4</td>\n",
       "      <td>4</td>\n",
       "    </tr>\n",
       "    <tr>\n",
       "      <th rowspan=\"2\" valign=\"top\">1</th>\n",
       "      <th>-1</th>\n",
       "      <td>4</td>\n",
       "      <td>4</td>\n",
       "      <td>4</td>\n",
       "    </tr>\n",
       "    <tr>\n",
       "      <th>1</th>\n",
       "      <td>4</td>\n",
       "      <td>4</td>\n",
       "      <td>4</td>\n",
       "    </tr>\n",
       "    <tr>\n",
       "      <th rowspan=\"4\" valign=\"top\">1</th>\n",
       "      <th rowspan=\"2\" valign=\"top\">-1</th>\n",
       "      <th>-1</th>\n",
       "      <td>4</td>\n",
       "      <td>4</td>\n",
       "      <td>4</td>\n",
       "    </tr>\n",
       "    <tr>\n",
       "      <th>1</th>\n",
       "      <td>4</td>\n",
       "      <td>4</td>\n",
       "      <td>4</td>\n",
       "    </tr>\n",
       "    <tr>\n",
       "      <th rowspan=\"2\" valign=\"top\">1</th>\n",
       "      <th>-1</th>\n",
       "      <td>4</td>\n",
       "      <td>4</td>\n",
       "      <td>4</td>\n",
       "    </tr>\n",
       "    <tr>\n",
       "      <th>1</th>\n",
       "      <td>4</td>\n",
       "      <td>4</td>\n",
       "      <td>4</td>\n",
       "    </tr>\n",
       "  </tbody>\n",
       "</table>\n",
       "</div>"
      ],
      "text/plain": [
       "             y1  y2  y3\n",
       "x2 x3 x4 x6            \n",
       "-1 -1 -1 -1   4   4   4\n",
       "          1   4   4   4\n",
       "       1 -1   4   4   4\n",
       "          1   4   4   4\n",
       "    1 -1 -1   4   4   4\n",
       "          1   4   4   4\n",
       "       1 -1   4   4   4\n",
       "          1   4   4   4\n",
       " 1 -1 -1 -1   4   4   4\n",
       "          1   4   4   4\n",
       "       1 -1   4   4   4\n",
       "          1   4   4   4\n",
       "    1 -1 -1   4   4   4\n",
       "          1   4   4   4\n",
       "       1 -1   4   4   4\n",
       "          1   4   4   4"
      ]
     },
     "execution_count": 272,
     "metadata": {},
     "output_type": "execute_result"
    }
   ],
   "source": [
    "doe.groupby(xlabs)[ylabs].count()"
   ]
  },
  {
   "cell_type": "markdown",
   "metadata": {},
   "source": [
    "We can convert these dataframes of averages, variances, and counts into data for plotting. For example, if we want to make a histogram of every value in the groupby dataframe, we can use the ```.values``` method, so that this:\n",
    "\n",
    "    doe.gorupby(xlabs)[ylabs].mean()\n",
    "\n",
    "becomes this:\n",
    "\n",
    "\n",
    "    doe.groupby(xlabs)[ylabs].mean().values\n",
    "\n",
    "\n",
    "This $M \\times N$ array can then be flattened into a vector using the ```ravel()``` method from numpy:\n",
    "\n",
    "    np.ravel( doe.groupby(xlabs)[ylabs].mean().values )\n",
    "\n",
    "The resulting data can be used to generate histograms, as shown below:"
   ]
  },
  {
   "cell_type": "code",
   "execution_count": 273,
   "metadata": {
    "collapsed": false
   },
   "outputs": [
    {
     "name": "stdout",
     "output_type": "stream",
     "text": [
      "Grouping responses by interaction x2-x3-x4-x6\n"
     ]
    },
    {
     "data": {
      "text/plain": [
       "<matplotlib.text.Text at 0x113f91f50>"
      ]
     },
     "execution_count": 273,
     "metadata": {},
     "output_type": "execute_result"
    },
    {
     "data": {
      "image/png": "[encoded data removed]",
      "text/plain": [
       "<matplotlib.figure.Figure at 0x10f3674d0>"
      ]
     },
     "metadata": {},
     "output_type": "display_data"
    }
   ],
   "source": [
    "# Histogram of means of response values, grouped by xlabs\n",
    "\n",
    "print \"Grouping responses by interaction %s\"%( \"-\".join(xlabs) )\n",
    "dat = np.ravel(doe.groupby(xlabs)[ylabs].mean().values) / np.ravel(doe.groupby(xlabs)[ylabs].var().values)\n",
    "plt.hist(dat, 10, normed=False, color=colors[3]);\n",
    "plt.xlabel(r'Relative Variance ($\\mu$/$\\sigma^2$)')"
   ]
  },
  {
   "cell_type": "code",
   "execution_count": 274,
   "metadata": {
    "collapsed": false
   },
   "outputs": [
    {
     "name": "stdout",
     "output_type": "stream",
     "text": [
      "Grouping responses by interaction x2-x3-x4-x6\n"
     ]
    },
    {
     "data": {
      "image/png": "[encoded data removed]",
      "text/plain": [
       "<matplotlib.figure.Figure at 0x110db5f90>"
      ]
     },
     "metadata": {},
     "output_type": "display_data"
    }
   ],
   "source": [
    "# Histogram of variances of response values, grouped by xlabs\n",
    "\n",
    "print \"Grouping responses by interaction %s\"%( \"-\".join(xlabs) )\n",
    "dat = np.ravel(doe.groupby(xlabs)['y1'].var().values)\n",
    "plt.hist(dat, normed=True, color=colors[4]);\n",
    "plt.xlabel(r'Variance in $y_{1}$ Response');\n",
    "plt.ylabel(r'Frequency');"
   ]
  },
  {
   "cell_type": "code",
   "execution_count": null,
   "metadata": {
    "collapsed": true
   },
   "outputs": [],
   "source": []
  },
  {
   "cell_type": "code",
   "execution_count": null,
   "metadata": {
    "collapsed": true
   },
   "outputs": [],
   "source": []
  },
  {
   "cell_type": "code",
   "execution_count": null,
   "metadata": {
    "collapsed": true
   },
   "outputs": [],
   "source": []
  }
 ],
 "metadata": {
  "kernelspec": {
   "display_name": "Python 2",
   "language": "python",
   "name": "python2"
  },
  "language_info": {
   "codemirror_mode": {
    "name": "ipython",
    "version": 2
   },
   "file_extension": ".py",
   "mimetype": "text/x-python",
   "name": "python",
   "nbconvert_exporter": "python",
   "pygments_lexer": "ipython2",
   "version": "2.7.10"
  }
 },
 "nbformat": 4,
 "nbformat_minor": 0
}
