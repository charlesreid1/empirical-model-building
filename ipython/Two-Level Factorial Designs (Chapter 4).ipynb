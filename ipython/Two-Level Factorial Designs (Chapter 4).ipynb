{
 "cells": [
  {
   "cell_type": "code",
   "execution_count": 37,
   "metadata": {
    "collapsed": true
   },
   "outputs": [],
   "source": [
    "import pandas as pd"
   ]
  },
  {
   "cell_type": "markdown",
   "metadata": {},
   "source": [
    "This blog post walks through the concept of two-level factorial designs for experimental design, the same material covered by Chapter 4 of Box and Draper's \"Empirical Model-Building and Response Surfaces.\" "
   ]
  },
  {
   "cell_type": "code",
   "execution_count": 38,
   "metadata": {
    "collapsed": false
   },
   "outputs": [
    {
     "data": {
      "text/html": [
       "<img src=\"http://charlesreid1.com/images/empirical_models.jpg\" width=\"300\"/>"
      ],
      "text/plain": [
       "<IPython.core.display.Image object>"
      ]
     },
     "execution_count": 38,
     "metadata": {},
     "output_type": "execute_result"
    }
   ],
   "source": [
    "from IPython.display import Image\n",
    "Image(url='http://charlesreid1.com/images/empirical_models.jpg', width=300)"
   ]
  },
  {
   "cell_type": "markdown",
   "metadata": {},
   "source": [
    "Box and Draper begin their discussion of different experimental design methods with the simplest type of factorial design: a full factorial design with two levels. These experimental designs are appropriate for exploratory stages."
   ]
  },
  {
   "cell_type": "markdown",
   "metadata": {},
   "source": [
    "# Two-Level Full Factorial Design"
   ]
  },
  {
   "cell_type": "markdown",
   "metadata": {},
   "source": [
    "The analysis begins with a two-level, three-variable experimental design - also written $2^3$, with $n=2$ levels for each factor, $k=3$ different factors. We start by encoding each fo the three variables to something generic: $(x_1,x_2,x_3)$. A dataframe with input variable values is then populated.\n",
    "\n",
    "In the particular case being analyzed, the "
   ]
  },
  {
   "cell_type": "code",
   "execution_count": 39,
   "metadata": {
    "collapsed": false
   },
   "outputs": [
    {
     "data": {
      "text/html": [
       "<div style=\"max-height:1000px;max-width:1500px;overflow:auto;\">\n",
       "<table border=\"1\" class=\"dataframe\">\n",
       "  <thead>\n",
       "    <tr style=\"text-align: right;\">\n",
       "      <th></th>\n",
       "      <th>low</th>\n",
       "      <th>high</th>\n",
       "      <th>label</th>\n",
       "    </tr>\n",
       "    <tr>\n",
       "      <th>index</th>\n",
       "      <th></th>\n",
       "      <th></th>\n",
       "      <th></th>\n",
       "    </tr>\n",
       "  </thead>\n",
       "  <tbody>\n",
       "    <tr>\n",
       "      <th>x1</th>\n",
       "      <td>250</td>\n",
       "      <td>350</td>\n",
       "      <td>Length of specimen (mm)</td>\n",
       "    </tr>\n",
       "    <tr>\n",
       "      <th>x2</th>\n",
       "      <td>8</td>\n",
       "      <td>10</td>\n",
       "      <td>Amplitude of load cycle (mm)</td>\n",
       "    </tr>\n",
       "    <tr>\n",
       "      <th>x3</th>\n",
       "      <td>40</td>\n",
       "      <td>50</td>\n",
       "      <td>Load (g)</td>\n",
       "    </tr>\n",
       "  </tbody>\n",
       "</table>\n",
       "</div>"
      ],
      "text/plain": [
       "       low  high                         label\n",
       "index                                         \n",
       "x1     250   350       Length of specimen (mm)\n",
       "x2       8    10  Amplitude of load cycle (mm)\n",
       "x3      40    50                      Load (g)"
      ]
     },
     "execution_count": 39,
     "metadata": {},
     "output_type": "execute_result"
    }
   ],
   "source": [
    "inputs_labels = {'x1' : 'Length of specimen (mm)',\n",
    "                 'x2' : 'Amplitude of load cycle (mm)',\n",
    "                 'x3' : 'Load (g)'}\n",
    "\n",
    "dat = [('x1',250,350),\n",
    "       ('x2',8,10),\n",
    "       ('x3',40,50)]\n",
    "\n",
    "inputs_df = pd.DataFrame(dat,columns=['index','low','high'])\n",
    "inputs_df = inputs_df.set_index(['index'])\n",
    "inputs_df['label'] = inputs_df.index.map( lambda z : inputs_labels[z] )\n",
    "\n",
    "inputs_df"
   ]
  },
  {
   "cell_type": "markdown",
   "metadata": {},
   "source": [
    "Next, we encode the variable values. For an arbitrary variable value $\\phi_1$, the value of the variable can be coded to be between -1 and 1 according to the formula:\n",
    "\n",
    "$$\n",
    "x_i = \\dfrac{ \\phi_i - \\mbox{avg }(\\phi) }{ \\mbox{span }(\\phi) }\n",
    "$$\n",
    "\n",
    "where the average and the span of the variable $\\phi_i$ are defined as:\n",
    "\n",
    "$$\n",
    "\\mbox{avg }(\\phi) = \\left( \\dfrac{ \\phi_{\\text{high}} + \\phi_{\\text{low}} }{2} \\right)\n",
    "$$\n",
    "\n",
    "$$\n",
    "\\mbox{span }(\\phi) = \\left( \\dfrac{ \\phi_{\\text{high}} - \\phi_{\\text{low}} }{2} \\right)\n",
    "$$\n"
   ]
  },
  {
   "cell_type": "code",
   "execution_count": 40,
   "metadata": {
    "collapsed": false
   },
   "outputs": [
    {
     "data": {
      "text/html": [
       "<div style=\"max-height:1000px;max-width:1500px;overflow:auto;\">\n",
       "<table border=\"1\" class=\"dataframe\">\n",
       "  <thead>\n",
       "    <tr style=\"text-align: right;\">\n",
       "      <th></th>\n",
       "      <th>low</th>\n",
       "      <th>high</th>\n",
       "      <th>label</th>\n",
       "      <th>encoded_low</th>\n",
       "      <th>encoded_high</th>\n",
       "    </tr>\n",
       "    <tr>\n",
       "      <th>index</th>\n",
       "      <th></th>\n",
       "      <th></th>\n",
       "      <th></th>\n",
       "      <th></th>\n",
       "      <th></th>\n",
       "    </tr>\n",
       "  </thead>\n",
       "  <tbody>\n",
       "    <tr>\n",
       "      <th>x1</th>\n",
       "      <td>250</td>\n",
       "      <td>350</td>\n",
       "      <td>Length of specimen (mm)</td>\n",
       "      <td>-1</td>\n",
       "      <td>1</td>\n",
       "    </tr>\n",
       "    <tr>\n",
       "      <th>x2</th>\n",
       "      <td>8</td>\n",
       "      <td>10</td>\n",
       "      <td>Amplitude of load cycle (mm)</td>\n",
       "      <td>-1</td>\n",
       "      <td>1</td>\n",
       "    </tr>\n",
       "    <tr>\n",
       "      <th>x3</th>\n",
       "      <td>40</td>\n",
       "      <td>50</td>\n",
       "      <td>Load (g)</td>\n",
       "      <td>-1</td>\n",
       "      <td>1</td>\n",
       "    </tr>\n",
       "  </tbody>\n",
       "</table>\n",
       "</div>"
      ],
      "text/plain": [
       "       low  high                         label  encoded_low  encoded_high\n",
       "index                                                                    \n",
       "x1     250   350       Length of specimen (mm)           -1             1\n",
       "x2       8    10  Amplitude of load cycle (mm)           -1             1\n",
       "x3      40    50                      Load (g)           -1             1"
      ]
     },
     "execution_count": 40,
     "metadata": {},
     "output_type": "execute_result"
    }
   ],
   "source": [
    "inputs_df['average']      = inputs_df.apply( lambda z : ( z['high'] + z['low'])/2 , axis=1)\n",
    "inputs_df['span']         = inputs_df.apply( lambda z : ( z['high'] - z['low'])/2 , axis=1)\n",
    "\n",
    "inputs_df['encoded_low']  = inputs_df.apply( lambda z : ( z['low']  - z['average'] )/( z['span'] ), axis=1)\n",
    "inputs_df['encoded_high'] = inputs_df.apply( lambda z : ( z['high'] - z['average'] )/( z['span'] ), axis=1)\n",
    "\n",
    "inputs_df = inputs_df.drop(['average','span'],axis=1)\n",
    "\n",
    "inputs_df"
   ]
  },
  {
   "cell_type": "markdown",
   "metadata": {},
   "source": [
    "# The Heart of the Matter"
   ]
  },
  {
   "cell_type": "markdown",
   "metadata": {},
   "source": [
    "While everything preceding this point is important to state, to make sure we're being consistent and clear about our problem statement and assumptions, nothing preceding this point is particularly important to understanding how experimental design works. This is simply illustrating the process of transforming one's problem from a problem-specific problem space to a more general problem space.\n",
    "\n",
    "Now Box and Draper present the results of the $2^3$ factorial experiment. The observed variable is number of cycles to failure, which is more conveniently cast as a logarithm. \n",
    "\n",
    "Each observation data point consists of three input variable values and an output variable value, $(x_1, x_2, x_3, y)$. The input variable values are the full range of input combinations:"
   ]
  },
  {
   "cell_type": "code",
   "execution_count": 41,
   "metadata": {
    "collapsed": false
   },
   "outputs": [
    {
     "data": {
      "text/plain": [
       "[(-1, -1, -1),\n",
       " (-1, -1, 1),\n",
       " (-1, 1, -1),\n",
       " (-1, 1, 1),\n",
       " (1, -1, -1),\n",
       " (1, -1, 1),\n",
       " (1, 1, -1),\n",
       " (1, 1, 1)]"
      ]
     },
     "execution_count": 41,
     "metadata": {},
     "output_type": "execute_result"
    }
   ],
   "source": [
    "import itertools\n",
    "encoded_inputs = list( itertools.product([-1,1],[-1,1],[-1,1]) )\n",
    "encoded_inputs"
   ]
  },
  {
   "cell_type": "code",
   "execution_count": 42,
   "metadata": {
    "collapsed": false
   },
   "outputs": [
    {
     "data": {
      "text/html": [
       "<div style=\"max-height:1000px;max-width:1500px;overflow:auto;\">\n",
       "<table border=\"1\" class=\"dataframe\">\n",
       "  <thead>\n",
       "    <tr style=\"text-align: right;\">\n",
       "      <th></th>\n",
       "      <th>x1</th>\n",
       "      <th>x2</th>\n",
       "      <th>x3</th>\n",
       "      <th>y</th>\n",
       "      <th>logy</th>\n",
       "    </tr>\n",
       "  </thead>\n",
       "  <tbody>\n",
       "    <tr>\n",
       "      <th>0</th>\n",
       "      <td>-1</td>\n",
       "      <td>-1</td>\n",
       "      <td>-1</td>\n",
       "      <td>674</td>\n",
       "      <td>2.828660</td>\n",
       "    </tr>\n",
       "    <tr>\n",
       "      <th>1</th>\n",
       "      <td>1</td>\n",
       "      <td>-1</td>\n",
       "      <td>-1</td>\n",
       "      <td>3636</td>\n",
       "      <td>3.560624</td>\n",
       "    </tr>\n",
       "    <tr>\n",
       "      <th>2</th>\n",
       "      <td>-1</td>\n",
       "      <td>1</td>\n",
       "      <td>-1</td>\n",
       "      <td>170</td>\n",
       "      <td>2.230449</td>\n",
       "    </tr>\n",
       "    <tr>\n",
       "      <th>3</th>\n",
       "      <td>1</td>\n",
       "      <td>1</td>\n",
       "      <td>-1</td>\n",
       "      <td>1140</td>\n",
       "      <td>3.056905</td>\n",
       "    </tr>\n",
       "    <tr>\n",
       "      <th>4</th>\n",
       "      <td>-1</td>\n",
       "      <td>-1</td>\n",
       "      <td>1</td>\n",
       "      <td>292</td>\n",
       "      <td>2.465383</td>\n",
       "    </tr>\n",
       "    <tr>\n",
       "      <th>5</th>\n",
       "      <td>1</td>\n",
       "      <td>-1</td>\n",
       "      <td>1</td>\n",
       "      <td>2000</td>\n",
       "      <td>3.301030</td>\n",
       "    </tr>\n",
       "    <tr>\n",
       "      <th>6</th>\n",
       "      <td>-1</td>\n",
       "      <td>1</td>\n",
       "      <td>1</td>\n",
       "      <td>90</td>\n",
       "      <td>1.954243</td>\n",
       "    </tr>\n",
       "    <tr>\n",
       "      <th>7</th>\n",
       "      <td>1</td>\n",
       "      <td>1</td>\n",
       "      <td>1</td>\n",
       "      <td>360</td>\n",
       "      <td>2.556303</td>\n",
       "    </tr>\n",
       "  </tbody>\n",
       "</table>\n",
       "</div>"
      ],
      "text/plain": [
       "   x1  x2  x3     y      logy\n",
       "0  -1  -1  -1   674  2.828660\n",
       "1   1  -1  -1  3636  3.560624\n",
       "2  -1   1  -1   170  2.230449\n",
       "3   1   1  -1  1140  3.056905\n",
       "4  -1  -1   1   292  2.465383\n",
       "5   1  -1   1  2000  3.301030\n",
       "6  -1   1   1    90  1.954243\n",
       "7   1   1   1   360  2.556303"
      ]
     },
     "execution_count": 42,
     "metadata": {},
     "output_type": "execute_result"
    }
   ],
   "source": [
    "results = [(-1, -1, -1, 674),\n",
    "           ( 1, -1, -1, 3636),\n",
    "           (-1,  1, -1, 170),\n",
    "           ( 1,  1, -1, 1140),\n",
    "           (-1, -1,  1, 292),\n",
    "           ( 1, -1,  1, 2000),\n",
    "           (-1,  1,  1, 90),\n",
    "           (  1, 1,  1, 360)]\n",
    "\n",
    "results_df = pd.DataFrame(results,columns=['x1','x2','x3','y'])\n",
    "results_df['logy'] = results_df['y'].map( lambda z : log10(z) )\n",
    "results_df"
   ]
  },
  {
   "cell_type": "markdown",
   "metadata": {},
   "source": [
    "-----\n",
    "\n",
    "Now we compute the main effects of each variable using the results of the experimental design. We'll use some shorthand Pandas functions to compute these averages: the groupby function, which groups rows of a dataframe according to some condition (in this case, the value of our variable of interest $x_i$)."
   ]
  },
  {
   "cell_type": "code",
   "execution_count": 43,
   "metadata": {
    "collapsed": false
   },
   "outputs": [
    {
     "data": {
      "text/plain": [
       "{'x1': 0.7490317608790833,\n",
       " 'x2': -0.58944945881907218,\n",
       " 'x3': -0.34991992162024621}"
      ]
     },
     "execution_count": 43,
     "metadata": {},
     "output_type": "execute_result"
    }
   ],
   "source": [
    "# Compute the mean effect of the factor on the response,\n",
    "# conditioned on each variable\n",
    "labels = ['x1','x2','x3']\n",
    "\n",
    "main_effects = {}\n",
    "for key in labels:\n",
    "    \n",
    "    effects = results_df.groupby(key)['logy'].mean()\n",
    "\n",
    "    main_effects[key] = sum( [i*effects[i] for i in [-1,1]] )\n",
    "\n",
    "main_effects"
   ]
  },
  {
   "cell_type": "markdown",
   "metadata": {},
   "source": [
    "Next, we use a similar strategy to compute two-way and three-way interaction effects between variables. We can use the ```itertools``` library to create our variable combinations.\n",
    "\n",
    "We'll use the Pandas groupby function again, grouping by two variables. "
   ]
  },
  {
   "cell_type": "code",
   "execution_count": 44,
   "metadata": {
    "collapsed": false
   },
   "outputs": [
    {
     "data": {
      "text/plain": [
       "{('x1', 'x2'): -0.034773800236002961,\n",
       " ('x1', 'x3'): -0.030178193107320839,\n",
       " ('x2', 'x3'): -0.038484459633821189}"
      ]
     },
     "execution_count": 44,
     "metadata": {},
     "output_type": "execute_result"
    }
   ],
   "source": [
    "import itertools\n",
    "\n",
    "twoway_labels = list(itertools.combinations(labels, 2))\n",
    "\n",
    "twoway_effects = {}\n",
    "for key in twoway_labels:\n",
    "    \n",
    "    effects = results_df.groupby(key)['logy'].mean()\n",
    "    \n",
    "    twoway_effects[key] = sum([ i*j*effects[i][j]/2 for i in [-1,1] for j in [-1,1] ])\n",
    "\n",
    "    \n",
    "    # This somewhat hairy one-liner takes the mean of a set of sum-differences\n",
    "    #twoway_effects[key] = mean([  sum([ i*effects[i][j] for i in [-1,1] ]) for j in [-1,1]  ])\n",
    "\n",
    "twoway_effects"
   ]
  },
  {
   "cell_type": "markdown",
   "metadata": {},
   "source": [
    "This one-liner is a bit hairy:\n",
    "\n",
    "```\n",
    "twoway_effects[key] = sum([ i*j*effects[i][j]/2 for i in [-1,1] for j in [-1,1] ])\n",
    "```\n",
    "\n",
    "What this does is, computes the two-way variable effect with a multi-step calculation, but does it with a list comprehension. First, let's just look at this part:\n",
    "\n",
    "```\n",
    "i*j*effects[i][j]/2 for i in [-1,1] for j in [-1,1]\n",
    "```\n",
    "\n",
    "This computes the prefix ```i*j```, which determines if the interaction effect ```effects[i][j]``` is positive or negative. We're also looping over one additional dimension; we multiply by 1/2 for each additional dimension we loop over. These are all summed up to yield the final interaction effect for every combination of the input variables."
   ]
  },
  {
   "cell_type": "code",
   "execution_count": 45,
   "metadata": {
    "collapsed": false
   },
   "outputs": [
    {
     "data": {
      "text/plain": [
       "{('x1', 'x2', 'x3'): -0.082019776207797324}"
      ]
     },
     "execution_count": 45,
     "metadata": {},
     "output_type": "execute_result"
    }
   ],
   "source": [
    "import itertools\n",
    "\n",
    "threeway_labels = list(itertools.combinations(labels, 3))\n",
    "\n",
    "threeway_effects = {}\n",
    "for key in threeway_labels:\n",
    "    \n",
    "    effects = results_df.groupby(key)['logy'].mean()\n",
    "    \n",
    "    threeway_effects[key] = sum([ i*j*k*effects[i][j][k]/4 for i in [-1,1] for j in [-1,1] for k in [-1,1] ])\n",
    "\n",
    "threeway_effects"
   ]
  },
  {
   "cell_type": "markdown",
   "metadata": {},
   "source": [
    "# Six-Factor Two-Level Full Factorial Design"
   ]
  },
  {
   "cell_type": "markdown",
   "metadata": {},
   "source": [
    "The authors next move to a six-factor factorial design example. In this case, there is a large table of 64 experiments to be run at each factor level. This is generated with the call to ```itertools.product``` below. This is all put into a DataFrame. The problem specifies three observables, $(y_1, y_2, y_3)$. \n",
    "\n",
    "Here, we generate some random data, by multiplying a vector of random numbers by the vector of input variable values. Nothing too complicated."
   ]
  },
  {
   "cell_type": "code",
   "execution_count": 46,
   "metadata": {
    "collapsed": false
   },
   "outputs": [],
   "source": [
    "import itertools\n",
    "encoded_inputs = list( itertools.product([-1,1],[-1,1],[-1,1],[-1,1],[-1,1],[-1,1]) )\n",
    "doe = pd.DataFrame(encoded_inputs,columns=['x%d'%(i+1) for i in range(6)])\n",
    "\n",
    "doe['y1'] = doe.apply(lambda z : sum([ rand(6,)*[z['x%d'%(i+1)] for i in range(6)]]) + rand(), axis=1)\n",
    "doe['y2'] = doe.apply(lambda z : sum([ 5*rand(6,)*[z['x%d'%(i+1)] for i in range(6)]]) + rand(), axis=1)\n",
    "doe['y3'] = doe.apply(lambda z : sum([ 10*rand(6,)*[z['x%d'%(i+1)] for i in range(6)]]) + rand(), axis=1)"
   ]
  },
  {
   "cell_type": "markdown",
   "metadata": {},
   "source": [
    "Define our variable labels, for input and output variables:"
   ]
  },
  {
   "cell_type": "code",
   "execution_count": 47,
   "metadata": {
    "collapsed": false
   },
   "outputs": [],
   "source": [
    "labels = {}\n",
    "labels[1] = ['x1','x2','x3','x4','x5','x6']\n",
    "for i in [2,3,4,5,6]:\n",
    "    labels[i] = list(itertools.combinations(labels[1], i))\n",
    "\n",
    "obs_list = ['y1','y2','y3']\n"
   ]
  },
  {
   "cell_type": "markdown",
   "metadata": {},
   "source": [
    "And finally, compute the main and interaction effects. Start with the main effects, which computes the average effect of an input variable $x_i$ on each of the three response variables $y_1, y_2, y_3$."
   ]
  },
  {
   "cell_type": "code",
   "execution_count": 48,
   "metadata": {
    "collapsed": false
   },
   "outputs": [
    {
     "data": {
      "text/plain": [
       "{'x1': [1.1405639667907013, 5.1822796393951567, 8.4546825072904355],\n",
       " 'x2': [0.91102261399179363, 4.5881639539032903, 9.7067744227244646],\n",
       " 'x3': [0.74968187151174359, 5.9180864348767122, 7.9061982673738935],\n",
       " 'x4': [0.7687543477943698, 4.3888980160282092, 10.929968457934645],\n",
       " 'x5': [0.96514175443028671, 4.4848641293023999, 10.447454286345266],\n",
       " 'x6': [0.9743189959343187, 5.0235363183040409, 11.077159278821798]}"
      ]
     },
     "execution_count": 48,
     "metadata": {},
     "output_type": "execute_result"
    }
   ],
   "source": [
    "\n",
    "effects = {}\n",
    "\n",
    "effects[1] = {}\n",
    "for key in labels[1]:\n",
    "    effects_result = []\n",
    "    for obs in obs_list:\n",
    "        effects_df = doe.groupby(key)[obs].mean()\n",
    "        result = sum([ zz*effects_df.ix[zz] for zz in effects_df.index ])\n",
    "        effects_result.append(result)\n",
    "    effects[1][key] = effects_result\n",
    "\n",
    "effects[1]"
   ]
  },
  {
   "cell_type": "markdown",
   "metadata": {},
   "source": [
    "Our next step is to crank through each variable interaction level: two-variable, three-variable, and on up to six-variable interaction effects. We compute interaction effects for each two-variable combination, three-variable combination, etc."
   ]
  },
  {
   "cell_type": "code",
   "execution_count": 49,
   "metadata": {
    "collapsed": false
   },
   "outputs": [],
   "source": [
    "for c in [2,3,4,5,6]:\n",
    "    effects[c] = {}\n",
    "    for key in labels[c]:\n",
    "        effects_result = []\n",
    "        for obs in obs_list:\n",
    "            effects_df = doe.groupby(key)[obs].mean()\n",
    "            result = sum([ prod(zz)*effects_df.ix[zz]/(2**(len(zz)-1)) for zz in effects_df.index ])\n",
    "            effects_result.append(result)\n",
    "        effects[c][key] = effects_result"
   ]
  },
  {
   "cell_type": "code",
   "execution_count": 50,
   "metadata": {
    "collapsed": false
   },
   "outputs": [
    {
     "name": "stdout",
     "output_type": "stream",
     "text": [
      "{('x1', 'x3', 'x4', 'x5', 'x6'): [-0.51447685460182269, 0.39168710018373459, 2.0450433803360797], ('x1', 'x2', 'x3', 'x4', 'x6'): [-0.168826583563288, -0.47967197215700241, -1.7084835630285173], ('x1', 'x2', 'x3', 'x4', 'x5'): [-0.30956895047246169, 1.6209193156695065, -2.9792419484481494], ('x2', 'x3', 'x4', 'x5', 'x6'): [-0.13387842173077538, -1.0404887211988343, 0.12788155567279313], ('x1', 'x2', 'x4', 'x5', 'x6'): [0.13160443349192208, -0.038607676228629928, -0.019163885648669998], ('x1', 'x2', 'x3', 'x5', 'x6'): [0.082375829818638321, -0.99288137922854736, 1.2445842887819738]}\n"
     ]
    }
   ],
   "source": [
    "print effects[5]"
   ]
  },
  {
   "cell_type": "markdown",
   "metadata": {},
   "source": [
    "------\n",
    "\n",
    "We've computed the main and interaction effects for every variable combination (whew!), but now we're at a point where we want to start doing things with these quantities.\n",
    "\n",
    "The first and most obvious question: what variable or combination of variables has the strongest effect on $y_1$? $y_2$? $y_3$?\n",
    "\n",
    "But this raises the specter of data formatting: what if we've chosen the wrong format for our data?!? What if there's no easy way to figure out the answer to our most obvious question!?! WHAT IF WE'VE SCREWED OURSELVES?!??\n",
    "\n",
    "Not to worry. Python makes it easy to slice and dice data. In this case, we've constructed a nested dictionary, with the outer keys mapping to numbers of variables and inner keys mapping to particular combinations of input variables. Its pretty easy to convert this to a flat data structure that we can use to sort by variable effects. We've got six \"levels\" of variable combinations, so we'll flatten ```effects``` by looping through all six dictionaries of variable combinations (from main effects to six-variable interaction effects), and adding each entry to a master dictionary.\n",
    "\n",
    "The master dictionary will be a flat dictionary, and once we've populated it, we can use it to make a DataFrame for easier sorting, printing, manipulating, aggregating, and so on."
   ]
  },
  {
   "cell_type": "code",
   "execution_count": 51,
   "metadata": {
    "collapsed": false
   },
   "outputs": [
    {
     "name": "stdout",
     "output_type": "stream",
     "text": [
      "6\n"
     ]
    }
   ],
   "source": [
    "print len(effects)"
   ]
  },
  {
   "cell_type": "code",
   "execution_count": 52,
   "metadata": {
    "collapsed": false
   },
   "outputs": [
    {
     "name": "stdout",
     "output_type": "stream",
     "text": [
      "Top 10 effects for observable y1:\n",
      "x1                  1.140564\n",
      "x6                  0.974319\n",
      "x5                  0.965142\n",
      "x2                  0.911023\n",
      "x4                  0.768754\n",
      "x3                  0.749682\n",
      "(x1, x2, x4, x5)    0.432890\n",
      "(x1, x2, x5, x6)    0.286270\n",
      "(x2, x4, x6)        0.250372\n",
      "(x1, x3)            0.225474\n",
      "Name: y1, dtype: float64\n"
     ]
    }
   ],
   "source": [
    "master_dict = {}\n",
    "for nvars in effects.keys():\n",
    "\n",
    "    effect = effects[nvars]\n",
    "    for k in effect.keys():\n",
    "        v = effect[k]\n",
    "        master_dict[k] = v\n",
    "\n",
    "master_df = pd.DataFrame(master_dict).T\n",
    "master_df.columns = obs_list\n",
    "\n",
    "y1 = master_df['y1'].copy()\n",
    "y1.sort(ascending=False)\n",
    "\n",
    "print \"Top 10 effects for observable y1:\"\n",
    "print y1[:10]\n",
    "\n",
    "#print \"\"\n",
    "#print \"Bottom 10 effects for observable y1:\"\n",
    "#print y1[-10:][::-1]"
   ]
  },
  {
   "cell_type": "code",
   "execution_count": 53,
   "metadata": {
    "collapsed": false
   },
   "outputs": [
    {
     "name": "stdout",
     "output_type": "stream",
     "text": [
      "Top 10 effects for observable y2:\n",
      "x3                      5.918086\n",
      "x1                      5.182280\n",
      "x6                      5.023536\n",
      "x2                      4.588164\n",
      "x5                      4.484864\n",
      "x4                      4.388898\n",
      "(x1, x2, x3, x5)        1.711628\n",
      "(x1, x2, x3, x4, x5)    1.620919\n",
      "(x3, x5, x6)            1.603007\n",
      "(x3, x4, x5, x6)        1.404940\n",
      "Name: y2, dtype: float64\n"
     ]
    }
   ],
   "source": [
    "y2 = master_df['y2'].copy()\n",
    "y2.sort(ascending=False)\n",
    "\n",
    "print \"Top 10 effects for observable y2:\"\n",
    "print y2[:10]\n",
    "#print \"\"\n",
    "#print \"Bottom 10 effects for observable y2:\"\n",
    "#print y2[-10:][::-1]"
   ]
  },
  {
   "cell_type": "code",
   "execution_count": 54,
   "metadata": {
    "collapsed": false
   },
   "outputs": [
    {
     "name": "stdout",
     "output_type": "stream",
     "text": [
      "Top 10 effects for observable y3:\n",
      "x6                  11.077159\n",
      "x4                  10.929968\n",
      "x5                  10.447454\n",
      "x2                   9.706774\n",
      "x1                   8.454683\n",
      "x3                   7.906198\n",
      "(x3, x6)             4.408221\n",
      "(x1, x2, x3, x5)     4.217538\n",
      "(x1, x4, x5)         2.767658\n",
      "(x1, x2, x3)         2.372886\n",
      "Name: y3, dtype: float64\n"
     ]
    }
   ],
   "source": [
    "y3 = master_df['y3'].copy()\n",
    "y3.sort(ascending=False)\n",
    "\n",
    "print \"Top 10 effects for observable y3:\"\n",
    "print y3[:10]\n",
    "#print \"\"\n",
    "#print \"Bottom 10 effects for observable y3:\"\n",
    "#print y3[-10:][::-1]"
   ]
  },
  {
   "cell_type": "markdown",
   "metadata": {},
   "source": [
    "The three variables are affected most by:\n",
    "* $x_2$\n",
    "* $x_3$\n",
    "* $x_4$\n",
    "* $x_5$\n",
    "* $x_6$\n",
    "\n",
    "Our very expensive, 64-experiment full factorial design (the data for which maps $(x_1,x_2,\\dots,x_6)$ to $(y_1,y_2,y_3)$) gives us 64 data points, and 64 degrees of freedom. \n",
    "\n",
    "With these 64 pieces of data, we could fit a 64-coefficient response surface, that accounts for each of the variable interactions whose effects we've computed - from main effects on up to six-variable interaction effects. But this wastes many degrees of freedom, to fit coefficients that aren't that important. Most of the variation in the responses can be explained by a few main effects.\n",
    "\n",
    "Hence, to describe a model with the 5 variables listed above and no other variable interaction effects would use only 5 degrees of freedom, leaving 59 degrees of freedom available to quantify error, attribute variance, etc.\n",
    "\n",
    "Our goal is to use least squares to compute model equations for $(y_1,y_2,y_3)$ as functions of $(x_2,x_3,x_4,x_5,x_6)$. "
   ]
  },
  {
   "cell_type": "code",
   "execution_count": 55,
   "metadata": {
    "collapsed": false
   },
   "outputs": [],
   "source": [
    "xlabs = ['x2','x3','x4','x5','x6']\n",
    "ylabs = ['y1','y2','y3']\n",
    "ls_data = doe[xlabs+ylabs]"
   ]
  },
  {
   "cell_type": "code",
   "execution_count": null,
   "metadata": {
    "collapsed": true
   },
   "outputs": [],
   "source": [
    "import statsmodels.api as sm\n",
    "import numpy as np\n",
    "\n",
    "x = ls_data[xlabs]\n",
    "x = sm.add_constant(x)"
   ]
  },
  {
   "cell_type": "markdown",
   "metadata": {},
   "source": [
    "The first ordinary least squares linear model is created to predict values of the first variable, $y_1$, as a function of each of our input variables, the list of which are contained in the ```xlabs``` variable. We perform the linear regression fitting:"
   ]
  },
  {
   "cell_type": "code",
   "execution_count": 64,
   "metadata": {
    "collapsed": false
   },
   "outputs": [
    {
     "name": "stdout",
     "output_type": "stream",
     "text": [
      "                            OLS Regression Results                            \n",
      "==============================================================================\n",
      "Dep. Variable:                     y1   R-squared:                       0.533\n",
      "Model:                            OLS   Adj. R-squared:                  0.492\n",
      "Method:                 Least Squares   F-statistic:                     13.22\n",
      "Date:                Tue, 12 May 2015   Prob (F-statistic):           1.34e-08\n",
      "Time:                        19:12:54   Log-Likelihood:                -85.524\n",
      "No. Observations:                  64   AIC:                             183.0\n",
      "Df Residuals:                      58   BIC:                             196.0\n",
      "Df Model:                           5                                         \n",
      "==============================================================================\n",
      "                 coef    std err          t      P>|t|      [95.0% Conf. Int.]\n",
      "------------------------------------------------------------------------------\n",
      "const          0.4407      0.121      3.645      0.001         0.199     0.683\n",
      "x2             0.4555      0.121      3.768      0.000         0.214     0.698\n",
      "x3             0.3748      0.121      3.101      0.003         0.133     0.617\n",
      "x4             0.3844      0.121      3.179      0.002         0.142     0.626\n",
      "x5             0.4826      0.121      3.992      0.000         0.241     0.725\n",
      "x6             0.4872      0.121      4.030      0.000         0.245     0.729\n",
      "==============================================================================\n",
      "Omnibus:                        2.411   Durbin-Watson:                   1.424\n",
      "Prob(Omnibus):                  0.300   Jarque-Bera (JB):                1.524\n",
      "Skew:                           0.093   Prob(JB):                        0.467\n",
      "Kurtosis:                       2.267   Cond. No.                         1.00\n",
      "==============================================================================\n"
     ]
    }
   ],
   "source": [
    "y1 = ls_data['y1']\n",
    "est1 = sm.OLS(y1,x).fit()\n",
    "print est1.summary()"
   ]
  },
  {
   "cell_type": "code",
   "execution_count": 66,
   "metadata": {
    "collapsed": false
   },
   "outputs": [
    {
     "name": "stdout",
     "output_type": "stream",
     "text": [
      "                            OLS Regression Results                            \n",
      "==============================================================================\n",
      "Dep. Variable:                     y2   R-squared:                       0.588\n",
      "Model:                            OLS   Adj. R-squared:                  0.552\n",
      "Method:                 Least Squares   F-statistic:                     16.54\n",
      "Date:                Tue, 12 May 2015   Prob (F-statistic):           4.01e-10\n",
      "Time:                        19:21:32   Log-Likelihood:                -188.47\n",
      "No. Observations:                  64   AIC:                             388.9\n",
      "Df Residuals:                      58   BIC:                             401.9\n",
      "Df Model:                           5                                         \n",
      "==============================================================================\n",
      "                 coef    std err          t      P>|t|      [95.0% Conf. Int.]\n",
      "------------------------------------------------------------------------------\n",
      "const          1.0015      0.604      1.658      0.103        -0.207     2.210\n",
      "x2             2.2941      0.604      3.798      0.000         1.085     3.503\n",
      "x3             2.9590      0.604      4.900      0.000         1.750     4.168\n",
      "x4             2.1944      0.604      3.634      0.001         0.986     3.403\n",
      "x5             2.2424      0.604      3.713      0.000         1.034     3.451\n",
      "x6             2.5118      0.604      4.159      0.000         1.303     3.721\n",
      "==============================================================================\n",
      "Omnibus:                        0.083   Durbin-Watson:                   1.095\n",
      "Prob(Omnibus):                  0.959   Jarque-Bera (JB):                0.043\n",
      "Skew:                          -0.049   Prob(JB):                        0.979\n",
      "Kurtosis:                       2.919   Cond. No.                         1.00\n",
      "==============================================================================\n"
     ]
    }
   ],
   "source": [
    "y2 = ls_data['y2']\n",
    "est2 = sm.OLS(y2,x).fit()\n",
    "print est2.summary()"
   ]
  },
  {
   "cell_type": "code",
   "execution_count": 67,
   "metadata": {
    "collapsed": false
   },
   "outputs": [
    {
     "name": "stdout",
     "output_type": "stream",
     "text": [
      "                            OLS Regression Results                            \n",
      "==============================================================================\n",
      "Dep. Variable:                     y3   R-squared:                       0.640\n",
      "Model:                            OLS   Adj. R-squared:                  0.609\n",
      "Method:                 Least Squares   F-statistic:                     20.61\n",
      "Date:                Tue, 12 May 2015   Prob (F-statistic):           9.04e-12\n",
      "Time:                        19:21:32   Log-Likelihood:                -227.44\n",
      "No. Observations:                  64   AIC:                             466.9\n",
      "Df Residuals:                      58   BIC:                             479.8\n",
      "Df Model:                           5                                         \n",
      "==============================================================================\n",
      "                 coef    std err          t      P>|t|      [95.0% Conf. Int.]\n",
      "------------------------------------------------------------------------------\n",
      "const         -1.0005      1.110     -0.901      0.371        -3.223     1.222\n",
      "x2             4.8534      1.110      4.372      0.000         2.631     7.076\n",
      "x3             3.9531      1.110      3.561      0.001         1.731     6.175\n",
      "x4             5.4650      1.110      4.923      0.000         3.243     7.687\n",
      "x5             5.2237      1.110      4.705      0.000         3.001     7.446\n",
      "x6             5.5386      1.110      4.989      0.000         3.316     7.761\n",
      "==============================================================================\n",
      "Omnibus:                        0.328   Durbin-Watson:                   1.481\n",
      "Prob(Omnibus):                  0.849   Jarque-Bera (JB):                0.505\n",
      "Skew:                           0.047   Prob(JB):                        0.777\n",
      "Kurtosis:                       2.575   Cond. No.                         1.00\n",
      "==============================================================================\n"
     ]
    }
   ],
   "source": [
    "y3 = ls_data['y3']\n",
    "est3 = sm.OLS(y3,x).fit()\n",
    "print est3.summary()"
   ]
  },
  {
   "cell_type": "markdown",
   "metadata": {},
   "source": [
    "Now that we've drastically reduced the cost of our linear model, from 64 degrees of freedom to 5, we can quantify the error introduced by the reduction in the number of degrees of freedom to see if we're missing anything important.\n",
    "\n",
    "To do this, we use a quantile-quantile plot to compare our model predictions to data. For each of our 64 experiments, we compute a model prediction $M$ and compare it with data $d$. This results in a residual $r$. \n",
    "\n",
    "If the model accurately captures the behavior of the underlying data, the error between the model and the data will be purely random, and the residuals will therefore be normally distributed. If there are residuals that are significant outliers, it indicates underlying structure to the residuals and therefore structure that is missed by the model.\n",
    "\n",
    "When the residuals for each experiment are plotted on a quantile-quantile plot, the points will line up on a straight line if they are normally distributed. Significant deviation by outlier points is indicative of a poor model fit."
   ]
  },
  {
   "cell_type": "code",
   "execution_count": 65,
   "metadata": {
    "collapsed": false
   },
   "outputs": [
    {
     "data": {
      "image/png": "[encoded data removed]",
      "text/plain": [
       "<matplotlib.figure.Figure at 0x109204710>"
      ]
     },
     "metadata": {},
     "output_type": "display_data"
    }
   ],
   "source": [
    "import seaborn as sns\n",
    "import scipy.stats as stats\n",
    "import pylab\n",
    "\n",
    "# Quantify goodness of fit\n",
    "\n",
    "fig = figure(figsize=(14,4))\n",
    "ax1 = fig.add_subplot(131)\n",
    "ax2 = fig.add_subplot(132)\n",
    "ax3 = fig.add_subplot(133)\n",
    "\n",
    "r1 = y1 - est1.predict(x)\n",
    "r2 = y2 - est2.predict(x)\n",
    "r3 = y3 - est3.predict(x)\n",
    "\n",
    "stats.probplot(r1, dist=\"norm\", plot=ax1)\n",
    "ax1.set_title('Residuals, y1')\n",
    "\n",
    "stats.probplot(r2, dist=\"norm\", plot=ax2)\n",
    "ax2.set_title('Residuals, y2')\n",
    "\n",
    "stats.probplot(r3, dist=\"norm\", plot=ax3)\n",
    "ax3.set_title('Residuals, y3')\n",
    "\n",
    "pylab.show()"
   ]
  },
  {
   "cell_type": "markdown",
   "metadata": {},
   "source": [
    "It's pretty evident that there are no significant trends being missed by the models.\n",
    "\n",
    "Box and Draper next report aggregated experiment results, by computing the mean effect for the regressed variables. This is simple to do with Pandas, by grouping the data by each variable, and applying the mean function on all of the results. The code looks like this:"
   ]
  },
  {
   "cell_type": "code",
   "execution_count": 63,
   "metadata": {
    "collapsed": false
   },
   "outputs": [
    {
     "name": "stdout",
     "output_type": "stream",
     "text": [
      "                      y1         y2         y3\n",
      "x2 x3 x4 x5 x6                                \n",
      "-1 -1 -1 -1 -1 -1.651664 -10.518557 -24.900534\n",
      "             1 -1.123168  -7.055145 -23.919521\n",
      "          1 -1 -1.108156  -9.989853 -11.291041\n",
      "             1  0.307091   0.678332  -6.868672\n",
      "       1 -1 -1 -0.422048  -7.602584 -11.405339\n",
      "             1 -0.322631   0.087591  -3.592399\n",
      "          1 -1  0.560960  -2.846341  -7.791873\n",
      "             1  0.641978   2.454731   4.425383\n",
      "    1 -1 -1 -1 -1.953275  -6.075531 -21.634596\n",
      "             1  1.275089  -0.406549  -6.749346\n",
      "          1 -1  0.167286  -0.056163  -9.133337\n",
      "             1  1.126847   5.339308   3.757947\n",
      "       1 -1 -1 -0.795393   2.016275 -12.784700\n",
      "             1  1.048242   2.062572   9.894450\n",
      "          1 -1  0.464820   0.743884   3.313442\n",
      "             1  1.546512  10.486221  25.018734\n",
      " 1 -1 -1 -1 -1 -0.494145  -5.247860 -11.609280\n",
      "             1 -0.028610   0.498996  -1.999186\n",
      "          1 -1  0.126925  -1.591251  -4.586109\n",
      "             1  0.982151  -2.196926   1.146960\n",
      "       1 -1 -1 -0.374062  -4.256309  -6.753607\n",
      "             1  1.119360   2.123986  -1.239405\n",
      "          1 -1  0.594164   5.033407  12.033632\n",
      "             1  2.245071   9.106595  19.094199\n",
      "    1 -1 -1 -1 -0.453724  -0.640746 -15.174765\n",
      "             1  0.699480   0.483931   8.553032\n",
      "          1 -1  1.408330   6.927683   5.690140\n",
      "             1  1.620179  10.762650  15.271354\n",
      "       1 -1 -1  1.046758   6.793504   5.605930\n",
      "             1  1.759328   7.881016  18.122427\n",
      "          1 -1  2.139343   3.145654   5.797556\n",
      "             1  1.948303  13.904486  11.694112\n"
     ]
    }
   ],
   "source": [
    "# Our original regression variables\n",
    "xlabs = ['x2','x3','x4','x5','x6']\n",
    "print doe.groupby(xlabs)[ylabs].mean()"
   ]
  },
  {
   "cell_type": "code",
   "execution_count": 62,
   "metadata": {
    "collapsed": false
   },
   "outputs": [
    {
     "name": "stdout",
     "output_type": "stream",
     "text": [
      "                   y1         y2         y3\n",
      "x2 x3 x4 x6                                \n",
      "-1 -1 -1 -1 -1.379910 -10.254205 -18.095787\n",
      "          1 -0.408039  -3.188406 -15.394096\n",
      "       1 -1  0.069456  -5.224462  -9.598606\n",
      "          1  0.159674   1.271161   0.416492\n",
      "    1 -1 -1 -0.892994  -3.065847 -15.383967\n",
      "          1  1.200968   2.466379  -1.495699\n",
      "       1 -1 -0.165287   1.380080  -4.735629\n",
      "          1  1.297377   6.274397  17.456592\n",
      " 1 -1 -1 -1 -0.183610  -3.419555  -8.097694\n",
      "          1  0.476771  -0.848965  -0.426113\n",
      "       1 -1  0.110051   0.388549   2.640013\n",
      "          1  1.682216   5.615290   8.927397\n",
      "    1 -1 -1  0.477303   3.143469  -4.742312\n",
      "          1  1.159830   5.623291  11.912193\n",
      "       1 -1  1.593051   4.969579   5.701743\n",
      "          1  1.853815  10.892751  14.908270\n"
     ]
    }
   ],
   "source": [
    "# If we decided to go for a smaller variable set\n",
    "xlabs = ['x2','x3','x4','x6']\n",
    "print doe.groupby(xlabs)[ylabs].mean()"
   ]
  },
  {
   "cell_type": "code",
   "execution_count": null,
   "metadata": {
    "collapsed": true
   },
   "outputs": [],
   "source": []
  }
 ],
 "metadata": {
  "kernelspec": {
   "display_name": "Python 2",
   "language": "python",
   "name": "python2"
  },
  "language_info": {
   "codemirror_mode": {
    "name": "ipython",
    "version": 2
   },
   "file_extension": ".py",
   "mimetype": "text/x-python",
   "name": "python",
   "nbconvert_exporter": "python",
   "pygments_lexer": "ipython2",
   "version": "2.7.8"
  }
 },
 "nbformat": 4,
 "nbformat_minor": 0
}
